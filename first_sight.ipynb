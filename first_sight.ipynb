{
 "cells": [
  {
   "cell_type": "code",
   "execution_count": 1,
   "metadata": {},
   "outputs": [],
   "source": [
    "import os\n",
    "import json\n",
    "import pandas as pd\n",
    "import numpy as np\n",
    "import tqdm\n",
    "import scipy.sparse as sp\n",
    "\n",
    "from pprint import pprint"
   ]
  },
  {
   "cell_type": "code",
   "execution_count": 2,
   "metadata": {},
   "outputs": [],
   "source": [
    "pd.set_option('display.max_columns',100)"
   ]
  },
  {
   "cell_type": "code",
   "execution_count": 3,
   "metadata": {},
   "outputs": [],
   "source": [
    "DATA_PATH = '../okko/orig_data'"
   ]
  },
  {
   "cell_type": "code",
   "execution_count": 4,
   "metadata": {},
   "outputs": [],
   "source": [
    "with open(os.path.join(DATA_PATH, 'catalogue.json'), 'r') as f:\n",
    "    catalogue = json.load(f)\n",
    "    \n",
    "catalogue = {int(k): v for k, v in catalogue.items()}"
   ]
  },
  {
   "cell_type": "code",
   "execution_count": 5,
   "metadata": {},
   "outputs": [
    {
     "name": "stdout",
     "output_type": "stream",
     "text": [
      "{'attributes': [18441,\n",
      "                16300,\n",
      "                16580,\n",
      "                18770,\n",
      "                18771,\n",
      "                18643,\n",
      "                396,\n",
      "                18772,\n",
      "                3771,\n",
      "                18773,\n",
      "                910,\n",
      "                18774,\n",
      "                16364,\n",
      "                3277],\n",
      " 'availability': ['purchase', 'rent'],\n",
      " 'duration': 80,\n",
      " 'feature_1': 6064738.740195342,\n",
      " 'feature_2': 0.752750538,\n",
      " 'feature_3': 4,\n",
      " 'feature_4': 0.9537104605,\n",
      " 'feature_5': 0.0,\n",
      " 'type': 'movie'}\n"
     ]
    }
   ],
   "source": [
    "pprint(catalogue[100])"
   ]
  },
  {
   "cell_type": "markdown",
   "metadata": {},
   "source": [
    " - `attributes` — мешок атрибутов\n",
    " - `availability` — доступность (может содержать значения `purchase`, `rent` и `subscription`)\n",
    " - `duration` — длительность в минутах, округлённая до десятков (продолжительность серии для сериалов и многосерийных фильмов)\n",
    " - `feature_1,2,4,5` —  анонимизированные вещественные признаки, `feature_3` - порядковый\n",
    " - `type` — принимает значения `movie`, `multipart_movie` или `series`"
   ]
  },
  {
   "cell_type": "code",
   "execution_count": 6,
   "metadata": {},
   "outputs": [],
   "source": [
    "from sklearn.feature_extraction.text import CountVectorizer"
   ]
  },
  {
   "cell_type": "code",
   "execution_count": 7,
   "metadata": {},
   "outputs": [
    {
     "name": "stdout",
     "output_type": "stream",
     "text": [
      "['18441,16300,16580,18770,18771,18643,396,18772,3771,18773,910,18774,16364,3277'] ['10511,2752,9076,1373,472,7,10512,42,43,10513,25']\n",
      "[[0 0 0 0 1 1 1 1 1 1 1 1 1 1 0 0 1 1 1 0 0 0 0 0 1]\n",
      " [1 1 1 1 0 0 0 0 0 0 0 0 0 0 1 1 0 0 0 1 1 1 1 1 0]]\n"
     ]
    }
   ],
   "source": [
    "s = [','.join([str(i) for i in catalogue[100]['attributes']])]\n",
    "s1 = [','.join([str(i) for i in catalogue[10]['attributes']])]\n",
    "print(s,s1)\n",
    "cv = CountVectorizer(token_pattern='\\d+')\n",
    "print(cv.fit_transform([*s,*s1]).todense())\n"
   ]
  },
  {
   "cell_type": "code",
   "execution_count": null,
   "metadata": {},
   "outputs": [],
   "source": []
  },
  {
   "cell_type": "code",
   "execution_count": 8,
   "metadata": {},
   "outputs": [
    {
     "name": "stderr",
     "output_type": "stream",
     "text": [
      "100%|█████████████████████████████████████████████████████████████████████████| 10200/10200 [00:00<00:00, 26367.84it/s]\n"
     ]
    }
   ],
   "source": [
    "# Сделаем мешок атрибутов для каждого фильма\n",
    "bag_of_attr = {}\n",
    "map_type = {'movie':2,'multipart_movie':2,'series':3}\n",
    "buf = []\n",
    "ind = []\n",
    "bag = []\n",
    "for key,cat in tqdm.tqdm(catalogue.items()):\n",
    "    \n",
    "    bag_of_attr[int(key)]= ','.join([str(i) for i in cat['attributes']])\n",
    "    bag.append((','.join([str(i) for i in cat['attributes']])))\n",
    "    buf.append([1*('purchase' in cat['availability']), 1*('rent' in cat['availability']),1*('subscription' in cat['availability']),\n",
    "               cat['duration'],cat['feature_1'],cat['feature_2'],cat['feature_3'],cat['feature_4'],cat['feature_5'],\n",
    "               cat['type']])\n",
    "    ind.append(int(key))\n",
    "data_catalogue = pd.DataFrame(buf,columns = ['is_purchase','is_rent','is_subscription','duration','feature_1',\n",
    "                                            'feature_2','feature_3','feature_4','feature_5','type'],index = ind)\n",
    "data_catalogue['type'] = data_catalogue['type'].map(map_type)\n",
    "cv = CountVectorizer(token_pattern='\\d+',)\n",
    "X = cv.fit_transform(bag)\n",
    "#bag_of_attr = pd.DataFrame(X.todense(),columns = cv.get_feature_names(),index = ind)"
   ]
  },
  {
   "cell_type": "code",
   "execution_count": 9,
   "metadata": {},
   "outputs": [
    {
     "data": {
      "text/html": [
       "<div>\n",
       "<style scoped>\n",
       "    .dataframe tbody tr th:only-of-type {\n",
       "        vertical-align: middle;\n",
       "    }\n",
       "\n",
       "    .dataframe tbody tr th {\n",
       "        vertical-align: top;\n",
       "    }\n",
       "\n",
       "    .dataframe thead th {\n",
       "        text-align: right;\n",
       "    }\n",
       "</style>\n",
       "<table border=\"1\" class=\"dataframe\">\n",
       "  <thead>\n",
       "    <tr style=\"text-align: right;\">\n",
       "      <th></th>\n",
       "      <th>is_purchase</th>\n",
       "      <th>is_rent</th>\n",
       "      <th>is_subscription</th>\n",
       "      <th>duration</th>\n",
       "      <th>feature_1</th>\n",
       "      <th>feature_2</th>\n",
       "      <th>feature_3</th>\n",
       "      <th>feature_4</th>\n",
       "      <th>feature_5</th>\n",
       "      <th>type</th>\n",
       "    </tr>\n",
       "  </thead>\n",
       "  <tbody>\n",
       "    <tr>\n",
       "      <th>1983</th>\n",
       "      <td>1</td>\n",
       "      <td>1</td>\n",
       "      <td>1</td>\n",
       "      <td>140</td>\n",
       "      <td>1.657223e+06</td>\n",
       "      <td>0.753610</td>\n",
       "      <td>39</td>\n",
       "      <td>1.119409</td>\n",
       "      <td>0.000000</td>\n",
       "      <td>2</td>\n",
       "    </tr>\n",
       "    <tr>\n",
       "      <th>3783</th>\n",
       "      <td>1</td>\n",
       "      <td>1</td>\n",
       "      <td>1</td>\n",
       "      <td>110</td>\n",
       "      <td>3.556521e+07</td>\n",
       "      <td>0.766254</td>\n",
       "      <td>41</td>\n",
       "      <td>1.138604</td>\n",
       "      <td>0.654707</td>\n",
       "      <td>2</td>\n",
       "    </tr>\n",
       "    <tr>\n",
       "      <th>5208</th>\n",
       "      <td>1</td>\n",
       "      <td>1</td>\n",
       "      <td>1</td>\n",
       "      <td>90</td>\n",
       "      <td>1.327068e+07</td>\n",
       "      <td>0.765425</td>\n",
       "      <td>27</td>\n",
       "      <td>1.131807</td>\n",
       "      <td>0.592716</td>\n",
       "      <td>2</td>\n",
       "    </tr>\n",
       "    <tr>\n",
       "      <th>9744</th>\n",
       "      <td>1</td>\n",
       "      <td>1</td>\n",
       "      <td>1</td>\n",
       "      <td>120</td>\n",
       "      <td>2.174992e+07</td>\n",
       "      <td>0.757874</td>\n",
       "      <td>26</td>\n",
       "      <td>1.133525</td>\n",
       "      <td>0.654707</td>\n",
       "      <td>2</td>\n",
       "    </tr>\n",
       "    <tr>\n",
       "      <th>1912</th>\n",
       "      <td>1</td>\n",
       "      <td>1</td>\n",
       "      <td>0</td>\n",
       "      <td>110</td>\n",
       "      <td>9.212964e+06</td>\n",
       "      <td>0.759566</td>\n",
       "      <td>7</td>\n",
       "      <td>1.110127</td>\n",
       "      <td>0.654707</td>\n",
       "      <td>2</td>\n",
       "    </tr>\n",
       "  </tbody>\n",
       "</table>\n",
       "</div>"
      ],
      "text/plain": [
       "      is_purchase  is_rent  is_subscription  duration     feature_1  \\\n",
       "1983            1        1                1       140  1.657223e+06   \n",
       "3783            1        1                1       110  3.556521e+07   \n",
       "5208            1        1                1        90  1.327068e+07   \n",
       "9744            1        1                1       120  2.174992e+07   \n",
       "1912            1        1                0       110  9.212964e+06   \n",
       "\n",
       "      feature_2  feature_3  feature_4  feature_5  type  \n",
       "1983   0.753610         39   1.119409   0.000000     2  \n",
       "3783   0.766254         41   1.138604   0.654707     2  \n",
       "5208   0.765425         27   1.131807   0.592716     2  \n",
       "9744   0.757874         26   1.133525   0.654707     2  \n",
       "1912   0.759566          7   1.110127   0.654707     2  "
      ]
     },
     "execution_count": 9,
     "metadata": {},
     "output_type": "execute_result"
    }
   ],
   "source": [
    "data_catalogue.head()"
   ]
  },
  {
   "cell_type": "code",
   "execution_count": 10,
   "metadata": {},
   "outputs": [],
   "source": [
    "#bag_of_attr.describe()\n",
    "#bag_of_attr.shape"
   ]
  },
  {
   "cell_type": "code",
   "execution_count": 11,
   "metadata": {},
   "outputs": [
    {
     "name": "stdout",
     "output_type": "stream",
     "text": [
      "Wall time: 20.3 s\n"
     ]
    }
   ],
   "source": [
    "%%time\n",
    "transactions = pd.read_csv(\n",
    "    os.path.join(DATA_PATH, 'transactions.csv'),\n",
    "    dtype={\n",
    "        'element_uid': np.uint16,\n",
    "        'user_uid': np.uint32,\n",
    "        'consumption_mode': 'category',\n",
    "        'ts': np.float64,\n",
    "        'watched_time': np.uint64,\n",
    "        'device_type': np.uint8,\n",
    "        'device_manufacturer': np.uint8\n",
    "    }\n",
    ")"
   ]
  },
  {
   "cell_type": "code",
   "execution_count": 12,
   "metadata": {},
   "outputs": [
    {
     "name": "stdout",
     "output_type": "stream",
     "text": [
      "Wall time: 753 ms\n"
     ]
    }
   ],
   "source": [
    "%%time\n",
    "ratings = pd.read_csv(\n",
    "    os.path.join(DATA_PATH, 'ratings.csv'),\n",
    "    dtype={\n",
    "        'element_uid': np.uint16,\n",
    "        'user_uid': np.uint32,\n",
    "        'ts': np.float64,\n",
    "        'rating': np.uint8\n",
    "    }\n",
    ")"
   ]
  },
  {
   "cell_type": "code",
   "execution_count": 13,
   "metadata": {},
   "outputs": [
    {
     "data": {
      "text/plain": [
       "user_uid       2.078610e+05\n",
       "element_uid    2.714000e+03\n",
       "rating         1.000000e+01\n",
       "ts             4.430376e+07\n",
       "Name: 100, dtype: float64"
      ]
     },
     "execution_count": 13,
     "metadata": {},
     "output_type": "execute_result"
    }
   ],
   "source": [
    "ratings.iloc[100]"
   ]
  },
  {
   "cell_type": "code",
   "execution_count": 14,
   "metadata": {},
   "outputs": [
    {
     "name": "stdout",
     "output_type": "stream",
     "text": [
      "Wall time: 1.41 s\n"
     ]
    }
   ],
   "source": [
    "%%time\n",
    "bookmarks = pd.read_csv(\n",
    "    os.path.join(DATA_PATH, 'bookmarks.csv'),\n",
    "    dtype={\n",
    "        'element_uid': np.uint16,\n",
    "        'user_uid': np.uint32,\n",
    "        'ts': np.float64\n",
    "    }\n",
    ")"
   ]
  },
  {
   "cell_type": "code",
   "execution_count": 15,
   "metadata": {},
   "outputs": [],
   "source": [
    "#Попробуем для каждого пользователя сделать некоторый путь потребления контента\n",
    "# Для этого объединим все действия пользователей\n",
    "transactions['action'] = 'watch'\n",
    "ratings['action'] = 'rate'\n",
    "bookmarks['action'] = 'bookmate'"
   ]
  },
  {
   "cell_type": "code",
   "execution_count": 16,
   "metadata": {},
   "outputs": [
    {
     "data": {
      "text/plain": [
       "user_uid            559099\n",
       "element_uid            943\n",
       "ts             4.43041e+07\n",
       "action            bookmate\n",
       "Name: 100, dtype: object"
      ]
     },
     "execution_count": 16,
     "metadata": {},
     "output_type": "execute_result"
    }
   ],
   "source": [
    "bookmarks.iloc[100]"
   ]
  },
  {
   "cell_type": "code",
   "execution_count": null,
   "metadata": {},
   "outputs": [],
   "source": []
  },
  {
   "cell_type": "code",
   "execution_count": 17,
   "metadata": {},
   "outputs": [
    {
     "name": "stderr",
     "output_type": "stream",
     "text": [
      "C:\\Users\\yabom\\Anaconda3\\lib\\site-packages\\ipykernel_launcher.py:1: FutureWarning: Sorting because non-concatenation axis is not aligned. A future version\n",
      "of pandas will change to not sort by default.\n",
      "\n",
      "To accept the future behavior, pass 'sort=False'.\n",
      "\n",
      "To retain the current behavior and silence the warning, pass 'sort=True'.\n",
      "\n",
      "  \"\"\"Entry point for launching an IPython kernel.\n"
     ]
    }
   ],
   "source": [
    "actions = pd.concat((transactions,ratings,bookmarks))"
   ]
  },
  {
   "cell_type": "code",
   "execution_count": 18,
   "metadata": {},
   "outputs": [
    {
     "data": {
      "text/html": [
       "<div>\n",
       "<style scoped>\n",
       "    .dataframe tbody tr th:only-of-type {\n",
       "        vertical-align: middle;\n",
       "    }\n",
       "\n",
       "    .dataframe tbody tr th {\n",
       "        vertical-align: top;\n",
       "    }\n",
       "\n",
       "    .dataframe thead th {\n",
       "        text-align: right;\n",
       "    }\n",
       "</style>\n",
       "<table border=\"1\" class=\"dataframe\">\n",
       "  <thead>\n",
       "    <tr style=\"text-align: right;\">\n",
       "      <th></th>\n",
       "      <th>action</th>\n",
       "      <th>consumption_mode</th>\n",
       "      <th>device_manufacturer</th>\n",
       "      <th>device_type</th>\n",
       "      <th>element_uid</th>\n",
       "      <th>rating</th>\n",
       "      <th>ts</th>\n",
       "      <th>user_uid</th>\n",
       "      <th>watched_time</th>\n",
       "    </tr>\n",
       "  </thead>\n",
       "  <tbody>\n",
       "    <tr>\n",
       "      <th>0</th>\n",
       "      <td>watch</td>\n",
       "      <td>S</td>\n",
       "      <td>50.0</td>\n",
       "      <td>0.0</td>\n",
       "      <td>3336</td>\n",
       "      <td>NaN</td>\n",
       "      <td>4.430518e+07</td>\n",
       "      <td>5177</td>\n",
       "      <td>4282.0</td>\n",
       "    </tr>\n",
       "    <tr>\n",
       "      <th>1</th>\n",
       "      <td>watch</td>\n",
       "      <td>S</td>\n",
       "      <td>11.0</td>\n",
       "      <td>0.0</td>\n",
       "      <td>481</td>\n",
       "      <td>NaN</td>\n",
       "      <td>4.430518e+07</td>\n",
       "      <td>593316</td>\n",
       "      <td>2989.0</td>\n",
       "    </tr>\n",
       "    <tr>\n",
       "      <th>2</th>\n",
       "      <td>watch</td>\n",
       "      <td>S</td>\n",
       "      <td>50.0</td>\n",
       "      <td>0.0</td>\n",
       "      <td>4128</td>\n",
       "      <td>NaN</td>\n",
       "      <td>4.430518e+07</td>\n",
       "      <td>262355</td>\n",
       "      <td>833.0</td>\n",
       "    </tr>\n",
       "    <tr>\n",
       "      <th>3</th>\n",
       "      <td>watch</td>\n",
       "      <td>S</td>\n",
       "      <td>99.0</td>\n",
       "      <td>0.0</td>\n",
       "      <td>6272</td>\n",
       "      <td>NaN</td>\n",
       "      <td>4.430518e+07</td>\n",
       "      <td>74296</td>\n",
       "      <td>2530.0</td>\n",
       "    </tr>\n",
       "    <tr>\n",
       "      <th>4</th>\n",
       "      <td>watch</td>\n",
       "      <td>P</td>\n",
       "      <td>50.0</td>\n",
       "      <td>0.0</td>\n",
       "      <td>5543</td>\n",
       "      <td>NaN</td>\n",
       "      <td>4.430518e+07</td>\n",
       "      <td>340623</td>\n",
       "      <td>6282.0</td>\n",
       "    </tr>\n",
       "  </tbody>\n",
       "</table>\n",
       "</div>"
      ],
      "text/plain": [
       "  action consumption_mode  device_manufacturer  device_type  element_uid  \\\n",
       "0  watch                S                 50.0          0.0         3336   \n",
       "1  watch                S                 11.0          0.0          481   \n",
       "2  watch                S                 50.0          0.0         4128   \n",
       "3  watch                S                 99.0          0.0         6272   \n",
       "4  watch                P                 50.0          0.0         5543   \n",
       "\n",
       "   rating            ts  user_uid  watched_time  \n",
       "0     NaN  4.430518e+07      5177        4282.0  \n",
       "1     NaN  4.430518e+07    593316        2989.0  \n",
       "2     NaN  4.430518e+07    262355         833.0  \n",
       "3     NaN  4.430518e+07     74296        2530.0  \n",
       "4     NaN  4.430518e+07    340623        6282.0  "
      ]
     },
     "execution_count": 18,
     "metadata": {},
     "output_type": "execute_result"
    }
   ],
   "source": [
    "actions.head()"
   ]
  },
  {
   "cell_type": "markdown",
   "metadata": {},
   "source": [
    "`consumption_mode` — тип потребления (переменная принимает следующие значения: P — покупка, R — аренда, S — просмотр по подписке)"
   ]
  },
  {
   "cell_type": "code",
   "execution_count": 19,
   "metadata": {},
   "outputs": [],
   "source": [
    "actions.set_index(['user_uid','element_uid','ts'],inplace = True)"
   ]
  },
  {
   "cell_type": "code",
   "execution_count": 20,
   "metadata": {},
   "outputs": [],
   "source": [
    "actions.sort_index(inplace = True)"
   ]
  },
  {
   "cell_type": "code",
   "execution_count": 21,
   "metadata": {},
   "outputs": [],
   "source": [
    "one_user = actions.loc[207861]"
   ]
  },
  {
   "cell_type": "code",
   "execution_count": 22,
   "metadata": {},
   "outputs": [
    {
     "data": {
      "text/html": [
       "<div>\n",
       "<style scoped>\n",
       "    .dataframe tbody tr th:only-of-type {\n",
       "        vertical-align: middle;\n",
       "    }\n",
       "\n",
       "    .dataframe tbody tr th {\n",
       "        vertical-align: top;\n",
       "    }\n",
       "\n",
       "    .dataframe thead th {\n",
       "        text-align: right;\n",
       "    }\n",
       "</style>\n",
       "<table border=\"1\" class=\"dataframe\">\n",
       "  <thead>\n",
       "    <tr style=\"text-align: right;\">\n",
       "      <th></th>\n",
       "      <th></th>\n",
       "      <th>action</th>\n",
       "      <th>consumption_mode</th>\n",
       "      <th>device_manufacturer</th>\n",
       "      <th>device_type</th>\n",
       "      <th>rating</th>\n",
       "      <th>watched_time</th>\n",
       "    </tr>\n",
       "    <tr>\n",
       "      <th>element_uid</th>\n",
       "      <th>ts</th>\n",
       "      <th></th>\n",
       "      <th></th>\n",
       "      <th></th>\n",
       "      <th></th>\n",
       "      <th></th>\n",
       "      <th></th>\n",
       "    </tr>\n",
       "  </thead>\n",
       "  <tbody>\n",
       "    <tr>\n",
       "      <th rowspan=\"2\" valign=\"top\">1570</th>\n",
       "      <th>4.357572e+07</th>\n",
       "      <td>rate</td>\n",
       "      <td>NaN</td>\n",
       "      <td>NaN</td>\n",
       "      <td>NaN</td>\n",
       "      <td>10.0</td>\n",
       "      <td>NaN</td>\n",
       "    </tr>\n",
       "    <tr>\n",
       "      <th>4.357628e+07</th>\n",
       "      <td>watch</td>\n",
       "      <td>R</td>\n",
       "      <td>50.0</td>\n",
       "      <td>0.0</td>\n",
       "      <td>NaN</td>\n",
       "      <td>6229.0</td>\n",
       "    </tr>\n",
       "    <tr>\n",
       "      <th rowspan=\"2\" valign=\"top\">2714</th>\n",
       "      <th>4.430346e+07</th>\n",
       "      <td>watch</td>\n",
       "      <td>R</td>\n",
       "      <td>50.0</td>\n",
       "      <td>0.0</td>\n",
       "      <td>NaN</td>\n",
       "      <td>8088.0</td>\n",
       "    </tr>\n",
       "    <tr>\n",
       "      <th>4.430376e+07</th>\n",
       "      <td>rate</td>\n",
       "      <td>NaN</td>\n",
       "      <td>NaN</td>\n",
       "      <td>NaN</td>\n",
       "      <td>10.0</td>\n",
       "      <td>NaN</td>\n",
       "    </tr>\n",
       "    <tr>\n",
       "      <th rowspan=\"2\" valign=\"top\">3336</th>\n",
       "      <th>4.335158e+07</th>\n",
       "      <td>rate</td>\n",
       "      <td>NaN</td>\n",
       "      <td>NaN</td>\n",
       "      <td>NaN</td>\n",
       "      <td>10.0</td>\n",
       "      <td>NaN</td>\n",
       "    </tr>\n",
       "    <tr>\n",
       "      <th>4.335240e+07</th>\n",
       "      <td>watch</td>\n",
       "      <td>P</td>\n",
       "      <td>50.0</td>\n",
       "      <td>0.0</td>\n",
       "      <td>NaN</td>\n",
       "      <td>5839.0</td>\n",
       "    </tr>\n",
       "  </tbody>\n",
       "</table>\n",
       "</div>"
      ],
      "text/plain": [
       "                         action consumption_mode  device_manufacturer  \\\n",
       "element_uid ts                                                          \n",
       "1570        4.357572e+07   rate              NaN                  NaN   \n",
       "            4.357628e+07  watch                R                 50.0   \n",
       "2714        4.430346e+07  watch                R                 50.0   \n",
       "            4.430376e+07   rate              NaN                  NaN   \n",
       "3336        4.335158e+07   rate              NaN                  NaN   \n",
       "            4.335240e+07  watch                P                 50.0   \n",
       "\n",
       "                          device_type  rating  watched_time  \n",
       "element_uid ts                                               \n",
       "1570        4.357572e+07          NaN    10.0           NaN  \n",
       "            4.357628e+07          0.0     NaN        6229.0  \n",
       "2714        4.430346e+07          0.0     NaN        8088.0  \n",
       "            4.430376e+07          NaN    10.0           NaN  \n",
       "3336        4.335158e+07          NaN    10.0           NaN  \n",
       "            4.335240e+07          0.0     NaN        5839.0  "
      ]
     },
     "execution_count": 22,
     "metadata": {},
     "output_type": "execute_result"
    }
   ],
   "source": [
    "one_user"
   ]
  },
  {
   "cell_type": "code",
   "execution_count": 23,
   "metadata": {},
   "outputs": [],
   "source": [
    "data_catalogue.index.names = ['element_uid',]"
   ]
  },
  {
   "cell_type": "code",
   "execution_count": 24,
   "metadata": {},
   "outputs": [],
   "source": [
    "data_catalogue['duration'] = data_catalogue['duration']*60"
   ]
  },
  {
   "cell_type": "code",
   "execution_count": 26,
   "metadata": {},
   "outputs": [
    {
     "data": {
      "text/html": [
       "<div>\n",
       "<style scoped>\n",
       "    .dataframe tbody tr th:only-of-type {\n",
       "        vertical-align: middle;\n",
       "    }\n",
       "\n",
       "    .dataframe tbody tr th {\n",
       "        vertical-align: top;\n",
       "    }\n",
       "\n",
       "    .dataframe thead th {\n",
       "        text-align: right;\n",
       "    }\n",
       "</style>\n",
       "<table border=\"1\" class=\"dataframe\">\n",
       "  <thead>\n",
       "    <tr style=\"text-align: right;\">\n",
       "      <th></th>\n",
       "      <th>is_purchase</th>\n",
       "      <th>is_rent</th>\n",
       "      <th>is_subscription</th>\n",
       "      <th>duration</th>\n",
       "      <th>feature_1</th>\n",
       "      <th>feature_2</th>\n",
       "      <th>feature_3</th>\n",
       "      <th>feature_4</th>\n",
       "      <th>feature_5</th>\n",
       "      <th>type</th>\n",
       "    </tr>\n",
       "    <tr>\n",
       "      <th>element_uid</th>\n",
       "      <th></th>\n",
       "      <th></th>\n",
       "      <th></th>\n",
       "      <th></th>\n",
       "      <th></th>\n",
       "      <th></th>\n",
       "      <th></th>\n",
       "      <th></th>\n",
       "      <th></th>\n",
       "      <th></th>\n",
       "    </tr>\n",
       "  </thead>\n",
       "  <tbody>\n",
       "    <tr>\n",
       "      <th>1983</th>\n",
       "      <td>1</td>\n",
       "      <td>1</td>\n",
       "      <td>1</td>\n",
       "      <td>8400</td>\n",
       "      <td>1.657223e+06</td>\n",
       "      <td>0.753610</td>\n",
       "      <td>39</td>\n",
       "      <td>1.119409</td>\n",
       "      <td>0.000000</td>\n",
       "      <td>2</td>\n",
       "    </tr>\n",
       "    <tr>\n",
       "      <th>3783</th>\n",
       "      <td>1</td>\n",
       "      <td>1</td>\n",
       "      <td>1</td>\n",
       "      <td>6600</td>\n",
       "      <td>3.556521e+07</td>\n",
       "      <td>0.766254</td>\n",
       "      <td>41</td>\n",
       "      <td>1.138604</td>\n",
       "      <td>0.654707</td>\n",
       "      <td>2</td>\n",
       "    </tr>\n",
       "    <tr>\n",
       "      <th>5208</th>\n",
       "      <td>1</td>\n",
       "      <td>1</td>\n",
       "      <td>1</td>\n",
       "      <td>5400</td>\n",
       "      <td>1.327068e+07</td>\n",
       "      <td>0.765425</td>\n",
       "      <td>27</td>\n",
       "      <td>1.131807</td>\n",
       "      <td>0.592716</td>\n",
       "      <td>2</td>\n",
       "    </tr>\n",
       "    <tr>\n",
       "      <th>9744</th>\n",
       "      <td>1</td>\n",
       "      <td>1</td>\n",
       "      <td>1</td>\n",
       "      <td>7200</td>\n",
       "      <td>2.174992e+07</td>\n",
       "      <td>0.757874</td>\n",
       "      <td>26</td>\n",
       "      <td>1.133525</td>\n",
       "      <td>0.654707</td>\n",
       "      <td>2</td>\n",
       "    </tr>\n",
       "    <tr>\n",
       "      <th>1912</th>\n",
       "      <td>1</td>\n",
       "      <td>1</td>\n",
       "      <td>0</td>\n",
       "      <td>6600</td>\n",
       "      <td>9.212964e+06</td>\n",
       "      <td>0.759566</td>\n",
       "      <td>7</td>\n",
       "      <td>1.110127</td>\n",
       "      <td>0.654707</td>\n",
       "      <td>2</td>\n",
       "    </tr>\n",
       "  </tbody>\n",
       "</table>\n",
       "</div>"
      ],
      "text/plain": [
       "             is_purchase  is_rent  is_subscription  duration     feature_1  \\\n",
       "element_uid                                                                  \n",
       "1983                   1        1                1      8400  1.657223e+06   \n",
       "3783                   1        1                1      6600  3.556521e+07   \n",
       "5208                   1        1                1      5400  1.327068e+07   \n",
       "9744                   1        1                1      7200  2.174992e+07   \n",
       "1912                   1        1                0      6600  9.212964e+06   \n",
       "\n",
       "             feature_2  feature_3  feature_4  feature_5  type  \n",
       "element_uid                                                    \n",
       "1983          0.753610         39   1.119409   0.000000     2  \n",
       "3783          0.766254         41   1.138604   0.654707     2  \n",
       "5208          0.765425         27   1.131807   0.592716     2  \n",
       "9744          0.757874         26   1.133525   0.654707     2  \n",
       "1912          0.759566          7   1.110127   0.654707     2  "
      ]
     },
     "execution_count": 26,
     "metadata": {},
     "output_type": "execute_result"
    }
   ],
   "source": [
    "data_catalogue.head()"
   ]
  },
  {
   "cell_type": "code",
   "execution_count": 27,
   "metadata": {},
   "outputs": [],
   "source": [
    "#data_catalogue.loc[1570]\n",
    "\n",
    "actions = actions.join(data_catalogue[['duration','type']])#.loc[(slice(None),[1570,],slice(None)),:]"
   ]
  },
  {
   "cell_type": "code",
   "execution_count": 28,
   "metadata": {},
   "outputs": [],
   "source": [
    "#actions.rating.value_counts()"
   ]
  },
  {
   "cell_type": "code",
   "execution_count": 29,
   "metadata": {},
   "outputs": [],
   "source": [
    "with open(os.path.join(DATA_PATH, 'test_users.json'), 'r') as f:\n",
    "    test_users = set(json.load(f)['users'])"
   ]
  },
  {
   "cell_type": "code",
   "execution_count": 30,
   "metadata": {},
   "outputs": [
    {
     "data": {
      "text/plain": [
       "50000"
      ]
     },
     "execution_count": 30,
     "metadata": {},
     "output_type": "execute_result"
    }
   ],
   "source": [
    "len(test_users & set(actions.index.get_level_values(0)))"
   ]
  },
  {
   "cell_type": "code",
   "execution_count": null,
   "metadata": {},
   "outputs": [],
   "source": []
  },
  {
   "cell_type": "code",
   "execution_count": null,
   "metadata": {},
   "outputs": [],
   "source": []
  },
  {
   "cell_type": "code",
   "execution_count": null,
   "metadata": {},
   "outputs": [],
   "source": []
  },
  {
   "cell_type": "code",
   "execution_count": 31,
   "metadata": {},
   "outputs": [
    {
     "name": "stderr",
     "output_type": "stream",
     "text": [
      "100%|████████████████████████████████████████████████████████████████████████| 500000/500000 [04:13<00:00, 1971.84it/s]\n"
     ]
    }
   ],
   "source": [
    "# Приделаем каждому чуваку атрибуты просмотренных фильмов. ну или вообще по всем действиям - они все позитивные\n",
    "ind_user = []\n",
    "buf = []\n",
    "for i in tqdm.tqdm(np.unique(actions.index.get_level_values(0))):\n",
    "    temp = np.unique(actions.loc[i].index.get_level_values(0))\n",
    "    ind_user.append(i)\n",
    "    \n",
    "    s = ''\n",
    "    for ii in temp:\n",
    "        s+=bag_of_attr[ii]\n",
    "        \n",
    "        s+=','\n",
    "    if  '26846' in s:\n",
    "            break\n",
    "    #assert X.shape[1] == len(a)\n",
    "    buf.append(s)\n",
    "    \n",
    "    "
   ]
  },
  {
   "cell_type": "code",
   "execution_count": 32,
   "metadata": {},
   "outputs": [
    {
     "data": {
      "text/plain": [
       "'4052,4127,4128,4129,270,4130,4131,1241,42,14,15,131,170,33,17,328,272,25,30100,25237,6710,25123,270,17516,130,10,138,14,15,131,17,18,19,328,272,197,25,8392,22288,7859,13295,83,571,22289,43,14,15,131,17,18,19,21,44,361,25,5278,7903,7904,7905,7,7906,123,42,14,15,17,18,19,20,21,56,25,35239,270,35314,1134,14,15,1135,3704,6634,6635,4389,270,6636,130,42,14,15,131,17,18,19,328,272,25,10052,11766,4389,6781,270,11767,43,14,15,17,18,19,328,272,20,44,25,8380,11756,10050,270,30435,43,14,15,131,17,18,19,328,272,44,25,716,10220,559,1317,714,367,1279,7,20411,31,43,14,15,131,17,18,19,21,44,25,5043,638,396,21837,1492,14,15,3273,16,3274,3275,18327,21840,11935,679,2315,4350,7,11936,11937,43,14,15,131,17,18,19,21,25,59,5133,5134,5135,1055,7,699,42,43,124,14,15,18,19,20,21,5136,5137,25,9714,5043,9737,9738,396,9718,1492,14,15,3273,16,6478,6479,3277,1065,198,1066,660,7,1067,31,54,175,14,15,131,17,18,19,21,25,35287,577,270,35288,1492,14,15,3273,25,34916,34917,34918,34919,34920,577,34846,1492,14,15,3273,22971,23042,23043,23044,7,23045,123,43,14,15,19,20,21,56,72,15964,1374,2515,7,15965,11,1492,14,15,16,131,170,33,17,35,36,22,1704,1705,25,20833,7981,34323,326,270,14801,123,25,14402,9541,10047,14857,270,14858,43,14,15,131,17,18,19,272,44,1031,25,1875,1876,1877,794,7,1878,31,54,1383,131,170,33,17,25,172,1195,679,5692,113,2664,83,52,5693,123,42,1225,43,14,15,17,18,19,20,21,55,361,25,20087,25224,25225,9533,270,25226,43,14,15,131,17,18,19,272,44,25,516,7214,7215,609,1058,7,522,31,54,14,15,17,19,20,151,21,7213,633,187,188,25,12657,4857,22696,4776,270,22697,43,14,15,131,170,33,17,272,44,17951,25,1211,1454,1455,1456,1457,7,1458,43,14,15,17,20,388,151,21,44,1459,1460,1378,1031,25,17362,10539,7386,11430,51,1556,43,14,15,131,17,18,19,21,197,25,6445,6446,6447,885,1038,7,2336,130,42,138,14,15,17,18,19,20,21,4085,6448,6449,689,2599,1165,9076,3496,192,577,7,3492,11,1492,14,15,16,131,17,18,19,25,117,126,127,128,7,129,130,31,42,14,15,131,17,18,19,21,132,25,'"
      ]
     },
     "execution_count": 32,
     "metadata": {},
     "output_type": "execute_result"
    }
   ],
   "source": [
    "s"
   ]
  },
  {
   "cell_type": "code",
   "execution_count": 33,
   "metadata": {},
   "outputs": [],
   "source": [
    "cv1 = CountVectorizer(token_pattern='\\d+',)\n",
    "X_user = cv1.fit_transform(buf)"
   ]
  },
  {
   "cell_type": "code",
   "execution_count": 34,
   "metadata": {},
   "outputs": [
    {
     "data": {
      "text/plain": [
       "(500000, 33465)"
      ]
     },
     "execution_count": 34,
     "metadata": {},
     "output_type": "execute_result"
    }
   ],
   "source": [
    "X_user.shape"
   ]
  },
  {
   "cell_type": "code",
   "execution_count": 35,
   "metadata": {},
   "outputs": [
    {
     "data": {
      "text/plain": [
       "(10200, 35869)"
      ]
     },
     "execution_count": 35,
     "metadata": {},
     "output_type": "execute_result"
    }
   ],
   "source": [
    "X.shape"
   ]
  },
  {
   "cell_type": "code",
   "execution_count": 36,
   "metadata": {},
   "outputs": [],
   "source": [
    "# Дальше уже совершенно ненужная херь, запускать до сюда\n"
   ]
  },
  {
   "cell_type": "code",
   "execution_count": 37,
   "metadata": {},
   "outputs": [
    {
     "data": {
      "text/plain": [
       "33465"
      ]
     },
     "execution_count": 37,
     "metadata": {},
     "output_type": "execute_result"
    }
   ],
   "source": [
    "len(cv1.get_feature_names())"
   ]
  },
  {
   "cell_type": "code",
   "execution_count": 41,
   "metadata": {},
   "outputs": [
    {
     "data": {
      "text/plain": [
       "type\n",
       "2    100.0\n",
       "3     40.0\n",
       "Name: duration, dtype: float64"
      ]
     },
     "execution_count": 41,
     "metadata": {},
     "output_type": "execute_result"
    }
   ],
   "source": [
    "actions.groupby('type')['duration'].median()/60\n"
   ]
  },
  {
   "cell_type": "markdown",
   "metadata": {},
   "source": [
    "2 - фильм, 3 - сериал"
   ]
  },
  {
   "cell_type": "markdown",
   "metadata": {},
   "source": [
    "Считается, что пользователь потребил контент, если он:\n",
    "1. Купил его или взял в аренду\n",
    "2. Посмотрел больше половины фильма по подписке\n",
    "3. Посмотрел больше трети сериала по подписке\n"
   ]
  },
  {
   "cell_type": "code",
   "execution_count": 43,
   "metadata": {},
   "outputs": [
    {
     "data": {
      "text/html": [
       "<div>\n",
       "<style scoped>\n",
       "    .dataframe tbody tr th:only-of-type {\n",
       "        vertical-align: middle;\n",
       "    }\n",
       "\n",
       "    .dataframe tbody tr th {\n",
       "        vertical-align: top;\n",
       "    }\n",
       "\n",
       "    .dataframe thead th {\n",
       "        text-align: right;\n",
       "    }\n",
       "</style>\n",
       "<table border=\"1\" class=\"dataframe\">\n",
       "  <thead>\n",
       "    <tr style=\"text-align: right;\">\n",
       "      <th></th>\n",
       "      <th></th>\n",
       "      <th></th>\n",
       "      <th>action</th>\n",
       "      <th>consumption_mode</th>\n",
       "      <th>device_manufacturer</th>\n",
       "      <th>device_type</th>\n",
       "      <th>rating</th>\n",
       "      <th>watched_time</th>\n",
       "      <th>duration</th>\n",
       "      <th>type</th>\n",
       "    </tr>\n",
       "    <tr>\n",
       "      <th>user_uid</th>\n",
       "      <th>element_uid</th>\n",
       "      <th>ts</th>\n",
       "      <th></th>\n",
       "      <th></th>\n",
       "      <th></th>\n",
       "      <th></th>\n",
       "      <th></th>\n",
       "      <th></th>\n",
       "      <th></th>\n",
       "      <th></th>\n",
       "    </tr>\n",
       "  </thead>\n",
       "  <tbody>\n",
       "    <tr>\n",
       "      <th rowspan=\"20\" valign=\"top\">0</th>\n",
       "      <th>51</th>\n",
       "      <th>4.416546e+07</th>\n",
       "      <td>watch</td>\n",
       "      <td>S</td>\n",
       "      <td>99.0</td>\n",
       "      <td>0.0</td>\n",
       "      <td>NaN</td>\n",
       "      <td>12382.0</td>\n",
       "      <td>3600</td>\n",
       "      <td>2</td>\n",
       "    </tr>\n",
       "    <tr>\n",
       "      <th>72</th>\n",
       "      <th>4.375829e+07</th>\n",
       "      <td>watch</td>\n",
       "      <td>S</td>\n",
       "      <td>99.0</td>\n",
       "      <td>0.0</td>\n",
       "      <td>NaN</td>\n",
       "      <td>5653.0</td>\n",
       "      <td>6000</td>\n",
       "      <td>2</td>\n",
       "    </tr>\n",
       "    <tr>\n",
       "      <th>207</th>\n",
       "      <th>4.371904e+07</th>\n",
       "      <td>watch</td>\n",
       "      <td>S</td>\n",
       "      <td>99.0</td>\n",
       "      <td>0.0</td>\n",
       "      <td>NaN</td>\n",
       "      <td>2646.0</td>\n",
       "      <td>5400</td>\n",
       "      <td>2</td>\n",
       "    </tr>\n",
       "    <tr>\n",
       "      <th>209</th>\n",
       "      <th>4.377814e+07</th>\n",
       "      <td>watch</td>\n",
       "      <td>S</td>\n",
       "      <td>99.0</td>\n",
       "      <td>0.0</td>\n",
       "      <td>NaN</td>\n",
       "      <td>6971.0</td>\n",
       "      <td>7200</td>\n",
       "      <td>2</td>\n",
       "    </tr>\n",
       "    <tr>\n",
       "      <th>434</th>\n",
       "      <th>4.338109e+07</th>\n",
       "      <td>watch</td>\n",
       "      <td>S</td>\n",
       "      <td>99.0</td>\n",
       "      <td>0.0</td>\n",
       "      <td>NaN</td>\n",
       "      <td>5894.0</td>\n",
       "      <td>6600</td>\n",
       "      <td>2</td>\n",
       "    </tr>\n",
       "    <tr>\n",
       "      <th>460</th>\n",
       "      <th>4.333750e+07</th>\n",
       "      <td>watch</td>\n",
       "      <td>S</td>\n",
       "      <td>99.0</td>\n",
       "      <td>0.0</td>\n",
       "      <td>NaN</td>\n",
       "      <td>240.0</td>\n",
       "      <td>7200</td>\n",
       "      <td>2</td>\n",
       "    </tr>\n",
       "    <tr>\n",
       "      <th>603</th>\n",
       "      <th>4.419977e+07</th>\n",
       "      <td>watch</td>\n",
       "      <td>S</td>\n",
       "      <td>99.0</td>\n",
       "      <td>0.0</td>\n",
       "      <td>NaN</td>\n",
       "      <td>0.0</td>\n",
       "      <td>5400</td>\n",
       "      <td>2</td>\n",
       "    </tr>\n",
       "    <tr>\n",
       "      <th>893</th>\n",
       "      <th>4.372807e+07</th>\n",
       "      <td>watch</td>\n",
       "      <td>S</td>\n",
       "      <td>99.0</td>\n",
       "      <td>0.0</td>\n",
       "      <td>NaN</td>\n",
       "      <td>5773.0</td>\n",
       "      <td>6600</td>\n",
       "      <td>2</td>\n",
       "    </tr>\n",
       "    <tr>\n",
       "      <th>944</th>\n",
       "      <th>4.343746e+07</th>\n",
       "      <td>watch</td>\n",
       "      <td>S</td>\n",
       "      <td>99.0</td>\n",
       "      <td>0.0</td>\n",
       "      <td>NaN</td>\n",
       "      <td>362.0</td>\n",
       "      <td>5400</td>\n",
       "      <td>2</td>\n",
       "    </tr>\n",
       "    <tr>\n",
       "      <th>1016</th>\n",
       "      <th>4.336596e+07</th>\n",
       "      <td>watch</td>\n",
       "      <td>S</td>\n",
       "      <td>99.0</td>\n",
       "      <td>0.0</td>\n",
       "      <td>NaN</td>\n",
       "      <td>6732.0</td>\n",
       "      <td>6600</td>\n",
       "      <td>2</td>\n",
       "    </tr>\n",
       "    <tr>\n",
       "      <th>1165</th>\n",
       "      <th>4.338014e+07</th>\n",
       "      <td>watch</td>\n",
       "      <td>S</td>\n",
       "      <td>99.0</td>\n",
       "      <td>0.0</td>\n",
       "      <td>NaN</td>\n",
       "      <td>3366.0</td>\n",
       "      <td>6600</td>\n",
       "      <td>2</td>\n",
       "    </tr>\n",
       "    <tr>\n",
       "      <th>1176</th>\n",
       "      <th>4.382874e+07</th>\n",
       "      <td>watch</td>\n",
       "      <td>S</td>\n",
       "      <td>99.0</td>\n",
       "      <td>0.0</td>\n",
       "      <td>NaN</td>\n",
       "      <td>6010.0</td>\n",
       "      <td>6000</td>\n",
       "      <td>2</td>\n",
       "    </tr>\n",
       "    <tr>\n",
       "      <th>1253</th>\n",
       "      <th>4.379047e+07</th>\n",
       "      <td>watch</td>\n",
       "      <td>S</td>\n",
       "      <td>99.0</td>\n",
       "      <td>0.0</td>\n",
       "      <td>NaN</td>\n",
       "      <td>19108.0</td>\n",
       "      <td>2400</td>\n",
       "      <td>3</td>\n",
       "    </tr>\n",
       "    <tr>\n",
       "      <th>1284</th>\n",
       "      <th>4.333743e+07</th>\n",
       "      <td>watch</td>\n",
       "      <td>S</td>\n",
       "      <td>99.0</td>\n",
       "      <td>0.0</td>\n",
       "      <td>NaN</td>\n",
       "      <td>120.0</td>\n",
       "      <td>5400</td>\n",
       "      <td>2</td>\n",
       "    </tr>\n",
       "    <tr>\n",
       "      <th>1535</th>\n",
       "      <th>4.333747e+07</th>\n",
       "      <td>watch</td>\n",
       "      <td>S</td>\n",
       "      <td>99.0</td>\n",
       "      <td>0.0</td>\n",
       "      <td>NaN</td>\n",
       "      <td>120.0</td>\n",
       "      <td>7800</td>\n",
       "      <td>2</td>\n",
       "    </tr>\n",
       "    <tr>\n",
       "      <th>1550</th>\n",
       "      <th>4.364514e+07</th>\n",
       "      <td>watch</td>\n",
       "      <td>S</td>\n",
       "      <td>99.0</td>\n",
       "      <td>0.0</td>\n",
       "      <td>NaN</td>\n",
       "      <td>4448.0</td>\n",
       "      <td>6000</td>\n",
       "      <td>2</td>\n",
       "    </tr>\n",
       "    <tr>\n",
       "      <th>1911</th>\n",
       "      <th>4.388547e+07</th>\n",
       "      <td>watch</td>\n",
       "      <td>S</td>\n",
       "      <td>99.0</td>\n",
       "      <td>0.0</td>\n",
       "      <td>NaN</td>\n",
       "      <td>1682.0</td>\n",
       "      <td>6600</td>\n",
       "      <td>2</td>\n",
       "    </tr>\n",
       "    <tr>\n",
       "      <th>1974</th>\n",
       "      <th>4.403384e+07</th>\n",
       "      <td>watch</td>\n",
       "      <td>S</td>\n",
       "      <td>99.0</td>\n",
       "      <td>0.0</td>\n",
       "      <td>NaN</td>\n",
       "      <td>5169.0</td>\n",
       "      <td>5400</td>\n",
       "      <td>2</td>\n",
       "    </tr>\n",
       "    <tr>\n",
       "      <th>1983</th>\n",
       "      <th>4.335460e+07</th>\n",
       "      <td>watch</td>\n",
       "      <td>S</td>\n",
       "      <td>99.0</td>\n",
       "      <td>0.0</td>\n",
       "      <td>NaN</td>\n",
       "      <td>7212.0</td>\n",
       "      <td>8400</td>\n",
       "      <td>2</td>\n",
       "    </tr>\n",
       "    <tr>\n",
       "      <th>2081</th>\n",
       "      <th>4.340841e+07</th>\n",
       "      <td>watch</td>\n",
       "      <td>S</td>\n",
       "      <td>99.0</td>\n",
       "      <td>0.0</td>\n",
       "      <td>NaN</td>\n",
       "      <td>4332.0</td>\n",
       "      <td>5400</td>\n",
       "      <td>2</td>\n",
       "    </tr>\n",
       "  </tbody>\n",
       "</table>\n",
       "</div>"
      ],
      "text/plain": [
       "                                  action consumption_mode  \\\n",
       "user_uid element_uid ts                                     \n",
       "0        51          4.416546e+07  watch                S   \n",
       "         72          4.375829e+07  watch                S   \n",
       "         207         4.371904e+07  watch                S   \n",
       "         209         4.377814e+07  watch                S   \n",
       "         434         4.338109e+07  watch                S   \n",
       "         460         4.333750e+07  watch                S   \n",
       "         603         4.419977e+07  watch                S   \n",
       "         893         4.372807e+07  watch                S   \n",
       "         944         4.343746e+07  watch                S   \n",
       "         1016        4.336596e+07  watch                S   \n",
       "         1165        4.338014e+07  watch                S   \n",
       "         1176        4.382874e+07  watch                S   \n",
       "         1253        4.379047e+07  watch                S   \n",
       "         1284        4.333743e+07  watch                S   \n",
       "         1535        4.333747e+07  watch                S   \n",
       "         1550        4.364514e+07  watch                S   \n",
       "         1911        4.388547e+07  watch                S   \n",
       "         1974        4.403384e+07  watch                S   \n",
       "         1983        4.335460e+07  watch                S   \n",
       "         2081        4.340841e+07  watch                S   \n",
       "\n",
       "                                   device_manufacturer  device_type  rating  \\\n",
       "user_uid element_uid ts                                                       \n",
       "0        51          4.416546e+07                 99.0          0.0     NaN   \n",
       "         72          4.375829e+07                 99.0          0.0     NaN   \n",
       "         207         4.371904e+07                 99.0          0.0     NaN   \n",
       "         209         4.377814e+07                 99.0          0.0     NaN   \n",
       "         434         4.338109e+07                 99.0          0.0     NaN   \n",
       "         460         4.333750e+07                 99.0          0.0     NaN   \n",
       "         603         4.419977e+07                 99.0          0.0     NaN   \n",
       "         893         4.372807e+07                 99.0          0.0     NaN   \n",
       "         944         4.343746e+07                 99.0          0.0     NaN   \n",
       "         1016        4.336596e+07                 99.0          0.0     NaN   \n",
       "         1165        4.338014e+07                 99.0          0.0     NaN   \n",
       "         1176        4.382874e+07                 99.0          0.0     NaN   \n",
       "         1253        4.379047e+07                 99.0          0.0     NaN   \n",
       "         1284        4.333743e+07                 99.0          0.0     NaN   \n",
       "         1535        4.333747e+07                 99.0          0.0     NaN   \n",
       "         1550        4.364514e+07                 99.0          0.0     NaN   \n",
       "         1911        4.388547e+07                 99.0          0.0     NaN   \n",
       "         1974        4.403384e+07                 99.0          0.0     NaN   \n",
       "         1983        4.335460e+07                 99.0          0.0     NaN   \n",
       "         2081        4.340841e+07                 99.0          0.0     NaN   \n",
       "\n",
       "                                   watched_time  duration  type  \n",
       "user_uid element_uid ts                                          \n",
       "0        51          4.416546e+07       12382.0      3600     2  \n",
       "         72          4.375829e+07        5653.0      6000     2  \n",
       "         207         4.371904e+07        2646.0      5400     2  \n",
       "         209         4.377814e+07        6971.0      7200     2  \n",
       "         434         4.338109e+07        5894.0      6600     2  \n",
       "         460         4.333750e+07         240.0      7200     2  \n",
       "         603         4.419977e+07           0.0      5400     2  \n",
       "         893         4.372807e+07        5773.0      6600     2  \n",
       "         944         4.343746e+07         362.0      5400     2  \n",
       "         1016        4.336596e+07        6732.0      6600     2  \n",
       "         1165        4.338014e+07        3366.0      6600     2  \n",
       "         1176        4.382874e+07        6010.0      6000     2  \n",
       "         1253        4.379047e+07       19108.0      2400     3  \n",
       "         1284        4.333743e+07         120.0      5400     2  \n",
       "         1535        4.333747e+07         120.0      7800     2  \n",
       "         1550        4.364514e+07        4448.0      6000     2  \n",
       "         1911        4.388547e+07        1682.0      6600     2  \n",
       "         1974        4.403384e+07        5169.0      5400     2  \n",
       "         1983        4.335460e+07        7212.0      8400     2  \n",
       "         2081        4.340841e+07        4332.0      5400     2  "
      ]
     },
     "execution_count": 43,
     "metadata": {},
     "output_type": "execute_result"
    }
   ],
   "source": [
    "actions.head(20)"
   ]
  },
  {
   "cell_type": "code",
   "execution_count": null,
   "metadata": {},
   "outputs": [],
   "source": [
    "def get_target(actions):\n",
    "    '''\n",
    "    Функция, которая вернет число просмотреннх серий каждым пользователем каждого сериала, потом вернет то,что недопотребил\n",
    "    А потом то, что точно потребил согласно правилам соревнования - например, так можно вычислить примерную длительность сериала \n",
    "    и его же рекомендовать в потребленные после.\n",
    "    '''\n",
    "    return actions['duration'] > actions"
   ]
  },
  {
   "cell_type": "code",
   "execution_count": null,
   "metadata": {},
   "outputs": [],
   "source": [
    "len(cv.get_feature_names())"
   ]
  },
  {
   "cell_type": "code",
   "execution_count": null,
   "metadata": {},
   "outputs": [],
   "source": [
    "len(set(cv1.get_feature_names())^set(cv.get_feature_names()))"
   ]
  },
  {
   "cell_type": "code",
   "execution_count": null,
   "metadata": {},
   "outputs": [],
   "source": [
    "set(cv.get_feature_names())^set(cv1.get_feature_names())"
   ]
  },
  {
   "cell_type": "code",
   "execution_count": null,
   "metadata": {},
   "outputs": [],
   "source": []
  }
 ],
 "metadata": {
  "kernelspec": {
   "display_name": "Python 3",
   "language": "python",
   "name": "python3"
  },
  "language_info": {
   "codemirror_mode": {
    "name": "ipython",
    "version": 3
   },
   "file_extension": ".py",
   "mimetype": "text/x-python",
   "name": "python",
   "nbconvert_exporter": "python",
   "pygments_lexer": "ipython3",
   "version": "3.7.1"
  }
 },
 "nbformat": 4,
 "nbformat_minor": 2
}
