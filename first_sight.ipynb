{
 "cells": [
  {
   "cell_type": "code",
   "execution_count": 1,
   "metadata": {},
   "outputs": [],
   "source": [
    "import os\n",
    "import json\n",
    "import pandas as pd\n",
    "import numpy as np\n",
    "import tqdm\n",
    "import scipy.sparse as sp\n",
    "\n",
    "from pprint import pprint"
   ]
  },
  {
   "cell_type": "code",
   "execution_count": 2,
   "metadata": {},
   "outputs": [],
   "source": [
    "pd.set_option('display.max_columns',100)\n",
    "\n",
    "DATA_PATH = '../okko/orig_data'\n",
    "PREPARED_PATH = './prepared_data/'"
   ]
  },
  {
   "cell_type": "code",
   "execution_count": 3,
   "metadata": {},
   "outputs": [],
   "source": [
    "with open(os.path.join(DATA_PATH, 'catalogue.json'), 'r') as f:\n",
    "    catalogue = json.load(f)\n",
    "    \n",
    "catalogue = {int(k): v for k, v in catalogue.items()}"
   ]
  },
  {
   "cell_type": "code",
   "execution_count": 4,
   "metadata": {},
   "outputs": [
    {
     "name": "stdout",
     "output_type": "stream",
     "text": [
      "{'attributes': [18441,\n",
      "                16300,\n",
      "                16580,\n",
      "                18770,\n",
      "                18771,\n",
      "                18643,\n",
      "                396,\n",
      "                18772,\n",
      "                3771,\n",
      "                18773,\n",
      "                910,\n",
      "                18774,\n",
      "                16364,\n",
      "                3277],\n",
      " 'availability': ['purchase', 'rent'],\n",
      " 'duration': 80,\n",
      " 'feature_1': 6064738.740195342,\n",
      " 'feature_2': 0.752750538,\n",
      " 'feature_3': 4,\n",
      " 'feature_4': 0.9537104605,\n",
      " 'feature_5': 0.0,\n",
      " 'type': 'movie'}\n"
     ]
    }
   ],
   "source": [
    "pprint(catalogue[100])"
   ]
  },
  {
   "cell_type": "markdown",
   "metadata": {},
   "source": [
    " - `attributes` — мешок атрибутов\n",
    " - `availability` — доступность (может содержать значения `purchase`, `rent` и `subscription`)\n",
    " - `duration` — длительность в минутах, округлённая до десятков (продолжительность серии для сериалов и многосерийных фильмов)\n",
    " - `feature_1,2,4,5` —  анонимизированные вещественные признаки, `feature_3` - порядковый\n",
    " - `type` — принимает значения `movie`, `multipart_movie` или `series`"
   ]
  },
  {
   "cell_type": "code",
   "execution_count": 5,
   "metadata": {},
   "outputs": [],
   "source": [
    "from sklearn.feature_extraction.text import CountVectorizer"
   ]
  },
  {
   "cell_type": "code",
   "execution_count": 6,
   "metadata": {},
   "outputs": [
    {
     "name": "stdout",
     "output_type": "stream",
     "text": [
      "['18441,16300,16580,18770,18771,18643,396,18772,3771,18773,910,18774,16364,3277'] ['10511,2752,9076,1373,472,7,10512,42,43,10513,25']\n",
      "[[0 0 0 0 1 1 1 1 1 1 1 1 1 1 0 0 1 1 1 0 0 0 0 0 1]\n",
      " [1 1 1 1 0 0 0 0 0 0 0 0 0 0 1 1 0 0 0 1 1 1 1 1 0]]\n"
     ]
    }
   ],
   "source": [
    "s = [','.join([str(i) for i in catalogue[100]['attributes']])]\n",
    "s1 = [','.join([str(i) for i in catalogue[10]['attributes']])]\n",
    "print(s,s1)\n",
    "cv = CountVectorizer(token_pattern='\\d+')\n",
    "print(cv.fit_transform([*s,*s1]).todense())\n"
   ]
  },
  {
   "cell_type": "code",
   "execution_count": 7,
   "metadata": {},
   "outputs": [],
   "source": [
    "from scipy.sparse import csr_matrix"
   ]
  },
  {
   "cell_type": "code",
   "execution_count": 8,
   "metadata": {},
   "outputs": [
    {
     "name": "stderr",
     "output_type": "stream",
     "text": [
      "100%|██████████| 10200/10200 [00:00<00:00, 141742.18it/s]\n"
     ]
    }
   ],
   "source": [
    "# Сделаем мешок атрибутов для каждого фильма\n",
    "bag_of_attr = {}\n",
    "map_type = {'movie':1,'multipart_movie':2,'series':3}\n",
    "buf = []\n",
    "ind = []\n",
    "bag = []\n",
    "for key,cat in tqdm.tqdm(catalogue.items()):\n",
    "    \n",
    "    bag_of_attr[int(key)]= ','.join([str(i) for i in cat['attributes']])\n",
    "    bag.append((','.join([str(i) for i in cat['attributes']])))\n",
    "    buf.append([1*('purchase' in cat['availability']), 1*('rent' in cat['availability']),1*('subscription' in cat['availability']),\n",
    "               cat['duration'],cat['feature_1'],cat['feature_2'],cat['feature_3'],cat['feature_4'],cat['feature_5'],\n",
    "               cat['type'],1*('movie' in cat['type']), 1*('series' in cat['type']),])\n",
    "    ind.append(int(key))\n",
    "data_catalogue = pd.DataFrame(buf,columns = ['is_purchase','is_rent','is_subscription','duration','feature_1',\n",
    "                                            'feature_2','feature_3','feature_4','feature_5','type','type_movie','type_serial'],index = ind)\n",
    "data_catalogue['type'] = data_catalogue['type'].map(map_type)\n",
    "cv = CountVectorizer(token_pattern='\\d+',)\n",
    "X = cv.fit_transform(bag)\n",
    "#bag_of_attr = pd.DataFrame(X.todense(),columns = cv.get_feature_names(),index = ind)"
   ]
  },
  {
   "cell_type": "code",
   "execution_count": 9,
   "metadata": {},
   "outputs": [
    {
     "data": {
      "text/html": [
       "<div>\n",
       "<style scoped>\n",
       "    .dataframe tbody tr th:only-of-type {\n",
       "        vertical-align: middle;\n",
       "    }\n",
       "\n",
       "    .dataframe tbody tr th {\n",
       "        vertical-align: top;\n",
       "    }\n",
       "\n",
       "    .dataframe thead th {\n",
       "        text-align: right;\n",
       "    }\n",
       "</style>\n",
       "<table border=\"1\" class=\"dataframe\">\n",
       "  <thead>\n",
       "    <tr style=\"text-align: right;\">\n",
       "      <th></th>\n",
       "      <th>is_purchase</th>\n",
       "      <th>is_rent</th>\n",
       "      <th>is_subscription</th>\n",
       "      <th>duration</th>\n",
       "      <th>feature_1</th>\n",
       "      <th>feature_2</th>\n",
       "      <th>feature_3</th>\n",
       "      <th>feature_4</th>\n",
       "      <th>feature_5</th>\n",
       "      <th>type</th>\n",
       "      <th>type_movie</th>\n",
       "      <th>type_serial</th>\n",
       "    </tr>\n",
       "  </thead>\n",
       "  <tbody>\n",
       "    <tr>\n",
       "      <th>1983</th>\n",
       "      <td>1</td>\n",
       "      <td>1</td>\n",
       "      <td>1</td>\n",
       "      <td>140</td>\n",
       "      <td>1.657223e+06</td>\n",
       "      <td>0.753610</td>\n",
       "      <td>39</td>\n",
       "      <td>1.119409</td>\n",
       "      <td>0.000000</td>\n",
       "      <td>1</td>\n",
       "      <td>1</td>\n",
       "      <td>0</td>\n",
       "    </tr>\n",
       "    <tr>\n",
       "      <th>3783</th>\n",
       "      <td>1</td>\n",
       "      <td>1</td>\n",
       "      <td>1</td>\n",
       "      <td>110</td>\n",
       "      <td>3.556521e+07</td>\n",
       "      <td>0.766254</td>\n",
       "      <td>41</td>\n",
       "      <td>1.138604</td>\n",
       "      <td>0.654707</td>\n",
       "      <td>1</td>\n",
       "      <td>1</td>\n",
       "      <td>0</td>\n",
       "    </tr>\n",
       "    <tr>\n",
       "      <th>5208</th>\n",
       "      <td>1</td>\n",
       "      <td>1</td>\n",
       "      <td>1</td>\n",
       "      <td>90</td>\n",
       "      <td>1.327068e+07</td>\n",
       "      <td>0.765425</td>\n",
       "      <td>27</td>\n",
       "      <td>1.131807</td>\n",
       "      <td>0.592716</td>\n",
       "      <td>1</td>\n",
       "      <td>1</td>\n",
       "      <td>0</td>\n",
       "    </tr>\n",
       "    <tr>\n",
       "      <th>9744</th>\n",
       "      <td>1</td>\n",
       "      <td>1</td>\n",
       "      <td>1</td>\n",
       "      <td>120</td>\n",
       "      <td>2.174992e+07</td>\n",
       "      <td>0.757874</td>\n",
       "      <td>26</td>\n",
       "      <td>1.133525</td>\n",
       "      <td>0.654707</td>\n",
       "      <td>1</td>\n",
       "      <td>1</td>\n",
       "      <td>0</td>\n",
       "    </tr>\n",
       "    <tr>\n",
       "      <th>1912</th>\n",
       "      <td>1</td>\n",
       "      <td>1</td>\n",
       "      <td>0</td>\n",
       "      <td>110</td>\n",
       "      <td>9.212964e+06</td>\n",
       "      <td>0.759566</td>\n",
       "      <td>7</td>\n",
       "      <td>1.110127</td>\n",
       "      <td>0.654707</td>\n",
       "      <td>1</td>\n",
       "      <td>1</td>\n",
       "      <td>0</td>\n",
       "    </tr>\n",
       "  </tbody>\n",
       "</table>\n",
       "</div>"
      ],
      "text/plain": [
       "      is_purchase  is_rent  is_subscription  duration     feature_1  \\\n",
       "1983            1        1                1       140  1.657223e+06   \n",
       "3783            1        1                1       110  3.556521e+07   \n",
       "5208            1        1                1        90  1.327068e+07   \n",
       "9744            1        1                1       120  2.174992e+07   \n",
       "1912            1        1                0       110  9.212964e+06   \n",
       "\n",
       "      feature_2  feature_3  feature_4  feature_5  type  type_movie  \\\n",
       "1983   0.753610         39   1.119409   0.000000     1           1   \n",
       "3783   0.766254         41   1.138604   0.654707     1           1   \n",
       "5208   0.765425         27   1.131807   0.592716     1           1   \n",
       "9744   0.757874         26   1.133525   0.654707     1           1   \n",
       "1912   0.759566          7   1.110127   0.654707     1           1   \n",
       "\n",
       "      type_serial  \n",
       "1983            0  \n",
       "3783            0  \n",
       "5208            0  \n",
       "9744            0  \n",
       "1912            0  "
      ]
     },
     "execution_count": 9,
     "metadata": {},
     "output_type": "execute_result"
    }
   ],
   "source": [
    "data_catalogue.head()"
   ]
  },
  {
   "cell_type": "code",
   "execution_count": 16,
   "metadata": {},
   "outputs": [],
   "source": [
    "%matplotlib inline\n",
    "a = np.sort(data_catalogue['feature_1'])"
   ]
  },
  {
   "cell_type": "code",
   "execution_count": 20,
   "metadata": {},
   "outputs": [],
   "source": [
    "import matplotlib.pyplot as plt"
   ]
  },
  {
   "cell_type": "code",
   "execution_count": 25,
   "metadata": {},
   "outputs": [
    {
     "data": {
      "text/plain": [
       "[<matplotlib.lines.Line2D at 0x7f365437ccf8>]"
      ]
     },
     "execution_count": 25,
     "metadata": {},
     "output_type": "execute_result"
    },
    {
     "data": {
      "image/png": "[encoded data removed]",
      "text/plain": [
       "<Figure size 432x288 with 1 Axes>"
      ]
     },
     "metadata": {
      "needs_background": "light"
     },
     "output_type": "display_data"
    }
   ],
   "source": [
    "plt.plot(np.diff(a))"
   ]
  },
  {
   "cell_type": "code",
   "execution_count": 28,
   "metadata": {},
   "outputs": [
    {
     "data": {
      "text/plain": [
       "52.61538461538461"
      ]
     },
     "execution_count": 28,
     "metadata": {},
     "output_type": "execute_result"
    }
   ],
   "source": [
    "2736/52"
   ]
  },
  {
   "cell_type": "code",
   "execution_count": 29,
   "metadata": {},
   "outputs": [
    {
     "data": {
      "text/plain": [
       "1.006248e+02     42\n",
       "1.587263e+06      1\n",
       "1.601255e+06    117\n",
       "1.615247e+06     14\n",
       "1.657223e+06     17\n",
       "1.671216e+06     66\n",
       "3.154379e+06      1\n",
       "3.182364e+06     11\n",
       "3.196356e+06    102\n",
       "3.742048e+06      1\n",
       "3.756040e+06      3\n",
       "3.937938e+06      1\n",
       "3.951930e+06      1\n",
       "4.119835e+06      4\n",
       "4.133827e+06      1\n",
       "4.161811e+06      4\n",
       "4.217780e+06      2\n",
       "4.231772e+06     17\n",
       "4.609559e+06     66\n",
       "4.623551e+06      1\n",
       "4.637543e+06      1\n",
       "4.805449e+06      7\n",
       "4.819441e+06     85\n",
       "4.833433e+06     58\n",
       "4.847425e+06      1\n",
       "4.903393e+06      2\n",
       "5.001338e+06      7\n",
       "5.029322e+06      1\n",
       "5.127267e+06      5\n",
       "5.141259e+06      2\n",
       "               ... \n",
       "4.350591e+07      1\n",
       "4.351385e+07      2\n",
       "4.351581e+07      3\n",
       "4.352182e+07      5\n",
       "4.354689e+07      4\n",
       "4.356379e+07      1\n",
       "4.357778e+07      5\n",
       "4.358348e+07      1\n",
       "4.360117e+07      1\n",
       "4.360578e+07     14\n",
       "4.361447e+07      1\n",
       "4.361977e+07      3\n",
       "4.362631e+07      1\n",
       "4.362674e+07      1\n",
       "4.363377e+07      2\n",
       "4.364946e+07      1\n",
       "4.367036e+07      2\n",
       "4.367682e+07      2\n",
       "4.368974e+07      2\n",
       "4.369647e+07      1\n",
       "4.369985e+07     16\n",
       "4.370373e+07      4\n",
       "4.371772e+07      2\n",
       "4.372639e+07      3\n",
       "4.373171e+07      3\n",
       "4.374098e+07      2\n",
       "4.375969e+07      1\n",
       "4.377369e+07      3\n",
       "4.378769e+07      2\n",
       "4.380675e+07      1\n",
       "Name: feature_1, Length: 2736, dtype: int64"
      ]
     },
     "execution_count": 29,
     "metadata": {},
     "output_type": "execute_result"
    }
   ],
   "source": [
    "data_catalogue['feature_1'].value_counts().sort_index()"
   ]
  },
  {
   "cell_type": "code",
   "execution_count": 21,
   "metadata": {},
   "outputs": [
    {
     "data": {
      "text/plain": [
       "[<matplotlib.lines.Line2D at 0x7f3654499438>]"
      ]
     },
     "execution_count": 21,
     "metadata": {},
     "output_type": "execute_result"
    },
    {
     "data": {
      "image/png": "[encoded data removed]",
      "text/plain": [
       "<Figure size 432x288 with 1 Axes>"
      ]
     },
     "metadata": {
      "needs_background": "light"
     },
     "output_type": "display_data"
    }
   ],
   "source": [
    "plt.plot(np.cumsum((np.diff(a))))"
   ]
  },
  {
   "cell_type": "code",
   "execution_count": null,
   "metadata": {},
   "outputs": [],
   "source": [
    "data_catalogue.drop('type',axis = 1).values.shape"
   ]
  },
  {
   "cell_type": "code",
   "execution_count": null,
   "metadata": {},
   "outputs": [],
   "source": [
    "match_element_row = {i:ii for ii,i in enumerate(data_catalogue.index.values)}\n",
    "match_row_element = {ii:i for ii,i in enumerate(data_catalogue.index.values)}\n",
    "match_columns = [*list(data_catalogue.drop('type',axis = 1).columns),*(cv.get_feature_names())]\n",
    "element_matrix = csr_matrix(np.hstack((data_catalogue.drop('type',axis = 1).values, X.A)))"
   ]
  },
  {
   "cell_type": "code",
   "execution_count": null,
   "metadata": {},
   "outputs": [],
   "source": [
    "element_matrix"
   ]
  },
  {
   "cell_type": "code",
   "execution_count": null,
   "metadata": {},
   "outputs": [],
   "source": [
    "import pickle\n",
    "with open(PREPARED_PATH+'catalogue_features.pkl','wb') as f:\n",
    "    pickle.dump((match_element_row,match_row_element,match_columns,element_matrix),f)"
   ]
  },
  {
   "cell_type": "code",
   "execution_count": null,
   "metadata": {},
   "outputs": [],
   "source": [
    "import pickle\n",
    "with open(PREPARED_PATH+'bag_of_attr_movie.pkl','wb') as f:\n",
    "    pickle.dump(bag_of_attr,f)"
   ]
  },
  {
   "cell_type": "code",
   "execution_count": null,
   "metadata": {},
   "outputs": [],
   "source": [
    "%%time\n",
    "transactions = pd.read_csv(\n",
    "    os.path.join(DATA_PATH, 'transactions.csv'),\n",
    "    dtype={\n",
    "        'element_uid': np.uint16,\n",
    "        'user_uid': np.uint32,\n",
    "        'consumption_mode': 'category',\n",
    "        'ts': np.float64,\n",
    "        'watched_time': np.uint64,\n",
    "        'device_type': np.uint8,\n",
    "        'device_manufacturer': np.uint8\n",
    "    }\n",
    ")"
   ]
  },
  {
   "cell_type": "code",
   "execution_count": null,
   "metadata": {},
   "outputs": [],
   "source": [
    "%%time\n",
    "ratings = pd.read_csv(\n",
    "    os.path.join(DATA_PATH, 'ratings.csv'),\n",
    "    dtype={\n",
    "        'element_uid': np.uint16,\n",
    "        'user_uid': np.uint32,\n",
    "        'ts': np.float64,\n",
    "        'rating': np.uint8\n",
    "    }\n",
    ")"
   ]
  },
  {
   "cell_type": "code",
   "execution_count": null,
   "metadata": {},
   "outputs": [],
   "source": [
    "ratings.iloc[100]"
   ]
  },
  {
   "cell_type": "code",
   "execution_count": null,
   "metadata": {},
   "outputs": [],
   "source": [
    "%%time\n",
    "bookmarks = pd.read_csv(\n",
    "    os.path.join(DATA_PATH, 'bookmarks.csv'),\n",
    "    dtype={\n",
    "        'element_uid': np.uint16,\n",
    "        'user_uid': np.uint32,\n",
    "        'ts': np.float64\n",
    "    }\n",
    ")"
   ]
  },
  {
   "cell_type": "code",
   "execution_count": null,
   "metadata": {},
   "outputs": [],
   "source": [
    "#Попробуем для каждого пользователя сделать некоторый путь потребления контента\n",
    "# Для этого объединим все действия пользователей\n",
    "transactions['action'] = 'watch'\n",
    "ratings['action'] = 'rate'\n",
    "bookmarks['action'] = 'bookmate'"
   ]
  },
  {
   "cell_type": "code",
   "execution_count": null,
   "metadata": {},
   "outputs": [],
   "source": [
    "bookmarks.iloc[100]"
   ]
  },
  {
   "cell_type": "code",
   "execution_count": null,
   "metadata": {},
   "outputs": [],
   "source": []
  },
  {
   "cell_type": "code",
   "execution_count": null,
   "metadata": {},
   "outputs": [],
   "source": [
    "actions = pd.concat((transactions,ratings,bookmarks))"
   ]
  },
  {
   "cell_type": "code",
   "execution_count": null,
   "metadata": {},
   "outputs": [],
   "source": [
    "actions.head()"
   ]
  },
  {
   "cell_type": "markdown",
   "metadata": {},
   "source": [
    "`consumption_mode` — тип потребления (переменная принимает следующие значения: P — покупка, R — аренда, S — просмотр по подписке)"
   ]
  },
  {
   "cell_type": "code",
   "execution_count": null,
   "metadata": {},
   "outputs": [],
   "source": [
    "actions.set_index(['user_uid','element_uid','ts'],inplace = True)"
   ]
  },
  {
   "cell_type": "code",
   "execution_count": null,
   "metadata": {},
   "outputs": [],
   "source": [
    "actions.sort_index(inplace = True)"
   ]
  },
  {
   "cell_type": "code",
   "execution_count": null,
   "metadata": {},
   "outputs": [],
   "source": [
    "one_user = actions.loc[207861]"
   ]
  },
  {
   "cell_type": "code",
   "execution_count": null,
   "metadata": {},
   "outputs": [],
   "source": [
    "one_user"
   ]
  },
  {
   "cell_type": "code",
   "execution_count": null,
   "metadata": {},
   "outputs": [],
   "source": [
    "data_catalogue.index.names = ['element_uid',]"
   ]
  },
  {
   "cell_type": "code",
   "execution_count": null,
   "metadata": {},
   "outputs": [],
   "source": [
    "data_catalogue['duration'] = data_catalogue['duration']*60"
   ]
  },
  {
   "cell_type": "code",
   "execution_count": null,
   "metadata": {},
   "outputs": [],
   "source": [
    "data_catalogue.head()"
   ]
  },
  {
   "cell_type": "code",
   "execution_count": null,
   "metadata": {},
   "outputs": [],
   "source": [
    "#data_catalogue.loc[1570]\n",
    "\n",
    "actions = actions.join(data_catalogue[['duration','type']])#.loc[(slice(None),[1570,],slice(None)),:]"
   ]
  },
  {
   "cell_type": "code",
   "execution_count": null,
   "metadata": {},
   "outputs": [],
   "source": [
    "#actions.rating.value_counts()"
   ]
  },
  {
   "cell_type": "code",
   "execution_count": null,
   "metadata": {},
   "outputs": [],
   "source": [
    "with open(os.path.join(DATA_PATH, 'test_users.json'), 'r') as f:\n",
    "    test_users = set(json.load(f)['users'])"
   ]
  },
  {
   "cell_type": "code",
   "execution_count": null,
   "metadata": {},
   "outputs": [],
   "source": [
    "len(test_users & set(actions.index.get_level_values(0)))"
   ]
  },
  {
   "cell_type": "code",
   "execution_count": null,
   "metadata": {},
   "outputs": [],
   "source": []
  },
  {
   "cell_type": "code",
   "execution_count": null,
   "metadata": {},
   "outputs": [],
   "source": []
  },
  {
   "cell_type": "code",
   "execution_count": null,
   "metadata": {},
   "outputs": [],
   "source": []
  },
  {
   "cell_type": "code",
   "execution_count": null,
   "metadata": {},
   "outputs": [],
   "source": [
    "# Приделаем каждому чуваку атрибуты просмотренных фильмов. ну или вообще по всем действиям - они все позитивные\n",
    "ind_user = []\n",
    "buf = []\n",
    "for i in tqdm.tqdm(np.unique(actions.index.get_level_values(0))):\n",
    "    temp = np.unique(actions.loc[i].index.get_level_values(0))\n",
    "    ind_user.append(i)\n",
    "    \n",
    "    s = ''\n",
    "    for ii in temp:\n",
    "        s+=bag_of_attr[ii]\n",
    "        \n",
    "        s+=','\n",
    "    if  '26846' in s:\n",
    "            break\n",
    "    #assert X.shape[1] == len(a)\n",
    "    buf.append(s)\n",
    "    \n",
    "    \n",
    "\n",
    "s\n",
    "\n",
    "cv1 = CountVectorizer(token_pattern='\\d+',)\n",
    "X_user = cv1.fit_transform(buf)"
   ]
  },
  {
   "cell_type": "code",
   "execution_count": null,
   "metadata": {},
   "outputs": [],
   "source": [
    "X_user.shape"
   ]
  },
  {
   "cell_type": "code",
   "execution_count": null,
   "metadata": {},
   "outputs": [],
   "source": [
    "X.shape"
   ]
  },
  {
   "cell_type": "code",
   "execution_count": null,
   "metadata": {},
   "outputs": [],
   "source": [
    "# Дальше уже совершенно ненужная херь, запускать до сюда\n"
   ]
  },
  {
   "cell_type": "code",
   "execution_count": null,
   "metadata": {},
   "outputs": [],
   "source": [
    "len(cv1.get_feature_names())"
   ]
  },
  {
   "cell_type": "code",
   "execution_count": null,
   "metadata": {},
   "outputs": [],
   "source": [
    "actions.head(20)#groupby('type')['duration'].median()/60\n"
   ]
  },
  {
   "cell_type": "code",
   "execution_count": null,
   "metadata": {},
   "outputs": [],
   "source": [
    "# actions.device_manufacturer.value_counts()"
   ]
  },
  {
   "cell_type": "code",
   "execution_count": null,
   "metadata": {},
   "outputs": [],
   "source": [
    "actions.consumption_mode.value_counts()"
   ]
  },
  {
   "cell_type": "markdown",
   "metadata": {},
   "source": [
    "1 - фильм, 3 - сериал"
   ]
  },
  {
   "cell_type": "markdown",
   "metadata": {},
   "source": [
    "Считается, что пользователь потребил контент, если он:\n",
    "1. Купил его или взял в аренду\n",
    "2. Посмотрел больше половины фильма по подписке\n",
    "3. Посмотрел больше трети сериала по подписке\n"
   ]
  },
  {
   "cell_type": "code",
   "execution_count": null,
   "metadata": {},
   "outputs": [],
   "source": [
    "actions.action.value_counts()"
   ]
  },
  {
   "cell_type": "code",
   "execution_count": null,
   "metadata": {},
   "outputs": [],
   "source": [
    "%matplotlib inline"
   ]
  },
  {
   "cell_type": "code",
   "execution_count": null,
   "metadata": {},
   "outputs": [],
   "source": [
    "def get_target(actions):\n",
    "    '''\n",
    "    Функция, которая вернет число просмотреннх серий каждым пользователем каждого сериала, потом вернет то,что недопотребил\n",
    "    А потом то, что точно потребил согласно правилам соревнования - например, так можно вычислить примерную длительность сериала \n",
    "    и его же рекомендовать в потребленные после.\n",
    "    '''\n",
    "    watch_actions = actions[actions.action == 'watch']\n",
    "    # Блок нахождения всяких статистик по сериалам\n",
    "    serials = watch_actions[watch_actions['type'] == 3]\n",
    "    # Заменим длиетльность на 0, там где длительности нет.. или это очень короткие, надо подумоть.\n",
    "    serials['num_of_series'] = (serials['watched_time']/serials['duration']).fillna(0).replace(np.inf,0).astype(int)\n",
    "    serials['time_being'] = serials.index.get_level_values(2)\n",
    "    dur_being = serials.groupby(level = 1).agg({'time_being':[min,len],'num_of_series':[lambda x:x.mode()[0],max]})\n",
    "    dur_being.columns = ['time_being','count_of_watch','num_of_series_mode','num_of_series_max']\n",
    "    \n",
    "    # Блок нахождения статистик по фильмам для пользователя\n",
    "    films = watch_actions[watch_actions['type'] == 1]\n",
    "    # Здесь важно видимо, как долго смотрел\n",
    "    films['time_being'] = films.index.get_level_values(2)\n",
    "    dur_films = films.groupby(level = 1).agg({'time_being':[min,len]})\n",
    "    dur_films.columns = ['time_being','count_of_watch']\n",
    "    \n",
    "    # Блок нахождения статистик по фильмам и пользователям\n",
    "    watch_actions['rel_dur'] = (watch_actions['watched_time']/watch_actions['duration'])\n",
    "    watch_actions = watch_actions.groupby(level = [0,1]).mean()\n",
    "    \n",
    "    \n",
    "    return dur_being,dur_films,watch_actions"
   ]
  },
  {
   "cell_type": "code",
   "execution_count": null,
   "metadata": {},
   "outputs": [],
   "source": [
    "dur_being,dur_films,watch_actions = get_target(actions)"
   ]
  },
  {
   "cell_type": "code",
   "execution_count": null,
   "metadata": {},
   "outputs": [],
   "source": [
    "# как там интересно распределно.\n",
    "a = watch_actions['rel_dur'].replace(np.inf,-1,).fillna(-1)\n",
    "ax = a[(np.percentile(a,1)<a) & (np.percentile(a,95)>=a) ].hist()\n",
    "ax.axvline(x=np.median(a), color='k', linestyle='--')"
   ]
  },
  {
   "cell_type": "code",
   "execution_count": null,
   "metadata": {},
   "outputs": [],
   "source": [
    "#  я б сказал, что это как-то некоторая окрестность единицы (мб по перцентилям - но тут надо подумать)- в ней фильмы просмотрены.\n",
    "# За этой окрестностью справа - либо многосерийники, либо какая-то дичь\n",
    "# слева - точно недосмотры.\n",
    "# Можно попробовтаь какую-нить простую линейную модельку от атрибутов на 3 класса,( как вариант - регрессия просто)\n",
    "# чтобы потом на коэффициенты взвесить атрибуты для полдьзователя (X_user)\n",
    "#  а для фильмов - доля просмотров и недосмотров пользователям"
   ]
  },
  {
   "cell_type": "code",
   "execution_count": null,
   "metadata": {},
   "outputs": [],
   "source": []
  },
  {
   "cell_type": "code",
   "execution_count": null,
   "metadata": {},
   "outputs": [],
   "source": [
    "# Просто находит некоторые новинки и возвращает их  id\n",
    "# Критерий скорее всего такой - строим ряд просмотров - \n",
    "# если их много прям с первой даты и дата не в начале списка - то новинка.\n",
    "def min_nnz(x):\n",
    "    if len(x[x!=0]) >0:\n",
    "        return min(x[x!=0])\n",
    "    else:\n",
    "        return -1\n",
    "def novice_detect(actions):\n",
    "    watch_actions = actions[actions.action == 'watch']\n",
    "    \n",
    "    by_movie = watch_actions.groupby(level = [1,2])['action'].count().to_frame()\n",
    "    by_movie.columns = ['by_time']\n",
    "    al = watch_actions.groupby(level = [1])['action'].count().to_frame()\n",
    "    by_movie = by_movie.join(al)\n",
    "    by_movie['ts_time'] = by_movie.index.get_level_values(1)\n",
    "    by_movie.sort_index(inplace = True)\n",
    "    being_time = by_movie.groupby(level = [0])['ts_time'].agg(lambda x: x.iloc[0]).to_frame()\n",
    "    being_time.columns = ['first_time']\n",
    "    by_movie = by_movie.join(being_time)\n",
    "    by_movie['diff_time'] = by_movie['ts_time'] - by_movie['first_time']\n",
    "    by_movie['cum_watch'] = by_movie.groupby(level = [0,1])['by_time'].sum().groupby(level = 0).cumsum()\n",
    "    by_movie['detect'] = by_movie['diff_time']/by_movie['cum_watch']\n",
    "    by_movie['diff_time_all'] = by_movie.groupby(level = [0,1])['ts_time'].sum().groupby(level = 0).diff()\n",
    "    res = by_movie.groupby(level = 0)['detect'].agg([min_nnz,max,np.mean,np.median])\n",
    "    res = res.join(by_movie.groupby(level = 0)['diff_time_all'].mean())\n",
    "    return res,by_movie"
   ]
  },
  {
   "cell_type": "code",
   "execution_count": null,
   "metadata": {},
   "outputs": [],
   "source": []
  },
  {
   "cell_type": "code",
   "execution_count": null,
   "metadata": {},
   "outputs": [],
   "source": [
    "a,by_movie = novice_detect(actions)"
   ]
  },
  {
   "cell_type": "code",
   "execution_count": null,
   "metadata": {},
   "outputs": [],
   "source": [
    "#a.index = a.index.swaplevel()\n",
    "a"
   ]
  },
  {
   "cell_type": "code",
   "execution_count": null,
   "metadata": {},
   "outputs": [],
   "source": [
    "#a['cum_watch'] = a.groupby(level = [0,1])['by_time'].sum().groupby(level = 0).cumsum()"
   ]
  },
  {
   "cell_type": "code",
   "execution_count": null,
   "metadata": {},
   "outputs": [],
   "source": [
    "#a.loc[a['min_nnz'] !=-1,'min_nnz'].hist()\n",
    "ax = a.loc[a['mean']<np.median(a['mean']),'mean'].hist()\n",
    "#ax.axvline(x=np.median(a['mean']), color='k', linestyle='--')"
   ]
  },
  {
   "cell_type": "code",
   "execution_count": null,
   "metadata": {},
   "outputs": [],
   "source": [
    "# Вот тут надо подумать, что б такое было бы. что поможет детектировать новинки.\n",
    "# Кажется, что их средние накопленные просмотры дб маленикими\n",
    "# Только надо подумать"
   ]
  },
  {
   "cell_type": "code",
   "execution_count": null,
   "metadata": {},
   "outputs": [],
   "source": [
    "a[a['min_nnz']!=-1].sort_values('mean').iloc[:10]"
   ]
  },
  {
   "cell_type": "code",
   "execution_count": null,
   "metadata": {},
   "outputs": [],
   "source": [
    "a[a['min_nnz']!=-1].sort_values('mean').iloc[-10:]"
   ]
  },
  {
   "cell_type": "code",
   "execution_count": null,
   "metadata": {},
   "outputs": [],
   "source": [
    "# Вообще, новинка должна перестать быть новинкой. нужно смотреть какой-нить перелом.\n",
    "#  построим график какой-нибудь новинки\n",
    "\n",
    "by_movie.loc[10073,'detect'].plot(figsize = (20,10))\n",
    "# Т.е. со временем у него монотонно нарастает число просмотров за временной тик - вначале всплеск - \n",
    "# это и есть новизна и ее эффект скоротечен"
   ]
  },
  {
   "cell_type": "code",
   "execution_count": null,
   "metadata": {},
   "outputs": [],
   "source": [
    "by_movie.loc[621,'detect'].plot(figsize = (20,10))"
   ]
  },
  {
   "cell_type": "code",
   "execution_count": null,
   "metadata": {},
   "outputs": [],
   "source": [
    "#ToDo - некоторые фильмы смотрят подряд типа гарри поттер, властелин колец - попробовать найти такие последовательности"
   ]
  },
  {
   "cell_type": "code",
   "execution_count": null,
   "metadata": {},
   "outputs": [],
   "source": [
    "watched_action = actions[actions.action == 'watch']\n",
    "watched_action['ones'] = 1\n",
    "watched_action_by_time = watched_action.groupby(level = 2).sum()\n",
    "\n",
    "watched_action_by_time['ones'].rolling(10).sum().plot()"
   ]
  },
  {
   "cell_type": "code",
   "execution_count": null,
   "metadata": {},
   "outputs": [],
   "source": [
    "watched_action['nearly_time'] = watched_action.index.get_level_values(2) - watched_action.index.get_level_values(2)%(24*60*60)\n",
    "watched_action_by_time = watched_action.groupby('nearly_time').sum()\n",
    "\n",
    "watched_action_by_time['ones'].plot()"
   ]
  },
  {
   "cell_type": "code",
   "execution_count": null,
   "metadata": {},
   "outputs": [],
   "source": [
    "# Вот эти пики какие-то очень странные.надо подумать. и почему-то у накопленного числа просмотров\n",
    "# резко в последней трети вырастает - значит либо изменился сервис, либо данные не очень уж случайно подобраны. Можно покопать туда\n",
    "# ToDo"
   ]
  },
  {
   "cell_type": "code",
   "execution_count": null,
   "metadata": {},
   "outputs": [],
   "source": [
    "# Проверим, что нормально можем поделить валидацию и прочее\n",
    "watched_action_by_time = watched_action.groupby(level = 2).sum()\n",
    "watched_action_by_time['cum_ones'] = np.cumsum(watched_action_by_time['ones'])"
   ]
  },
  {
   "cell_type": "code",
   "execution_count": null,
   "metadata": {},
   "outputs": [],
   "source": [
    "watched_action_by_time['cum_ones'].plot()"
   ]
  },
  {
   "cell_type": "code",
   "execution_count": null,
   "metadata": {},
   "outputs": [],
   "source": [
    "# Есть очень мелкая просадка посередине, ноннаверное не так уж и страшно и можно устроить трейн тест и валид по времени\n"
   ]
  },
  {
   "cell_type": "code",
   "execution_count": null,
   "metadata": {},
   "outputs": [],
   "source": []
  },
  {
   "cell_type": "code",
   "execution_count": null,
   "metadata": {},
   "outputs": [],
   "source": [
    "# ToDo корелляция между временем просмотра и рейтингами\n",
    "\n",
    "ratings.set_index(['user_uid','element_uid'],inplace = True)\n",
    "ratings.head()"
   ]
  },
  {
   "cell_type": "code",
   "execution_count": null,
   "metadata": {},
   "outputs": [],
   "source": [
    "corr_df = pd.merge(ratings['rating'],watch_actions['rel_dur'],left_index=True,right_index=True)"
   ]
  },
  {
   "cell_type": "code",
   "execution_count": null,
   "metadata": {},
   "outputs": [],
   "source": [
    "import seaborn as sns"
   ]
  },
  {
   "cell_type": "code",
   "execution_count": null,
   "metadata": {},
   "outputs": [],
   "source": [
    "corr_df.replace(np.inf,np.nan).groupby('rating').agg([np.median,np.mean,min_nnz,np.max])\n"
   ]
  },
  {
   "cell_type": "code",
   "execution_count": null,
   "metadata": {},
   "outputs": [],
   "source": []
  },
  {
   "cell_type": "code",
   "execution_count": null,
   "metadata": {},
   "outputs": [],
   "source": [
    "#  С корелляцией как-то не особо пошло, а вот медиана говорит, что ваще-то не все далеко смотрят плохие фильмы до конца -\n",
    "# бросают, гневаются уходят"
   ]
  },
  {
   "cell_type": "code",
   "execution_count": null,
   "metadata": {},
   "outputs": [],
   "source": [
    "actions.to_pickle(PREPARED_PATH+'actions_one_table.pkl')"
   ]
  },
  {
   "cell_type": "markdown",
   "metadata": {},
   "source": [
    "#### Вот до сюда считать"
   ]
  },
  {
   "cell_type": "code",
   "execution_count": null,
   "metadata": {},
   "outputs": [],
   "source": [
    "len(set(cv1.get_feature_names())^set(cv.get_feature_names()))"
   ]
  },
  {
   "cell_type": "code",
   "execution_count": null,
   "metadata": {},
   "outputs": [],
   "source": [
    "set(cv.get_feature_names())^set(cv1.get_feature_names())"
   ]
  },
  {
   "cell_type": "code",
   "execution_count": null,
   "metadata": {},
   "outputs": [],
   "source": [
    "from lightfm import LightFM\n",
    "from lightfm.datasets import fetch_movielens\n",
    "from lightfm.evaluation import precision_at_k\n",
    "\n",
    "# Load the MovieLens 100k dataset. Only five\n",
    "# star ratings are treated as positive.\n",
    "data = fetch_movielens(min_rating=5.0)\n",
    "\n",
    "# Instantiate and train the model\n",
    "model = LightFM(loss='warp')\n",
    "model.fit(data['train'], epochs=30, num_threads=2)\n",
    "\n",
    "# Evaluate the trained model\n",
    "test_precision = precision_at_k(model, data['test'], k=5).mean()"
   ]
  },
  {
   "cell_type": "code",
   "execution_count": null,
   "metadata": {},
   "outputs": [],
   "source": []
  },
  {
   "cell_type": "code",
   "execution_count": null,
   "metadata": {},
   "outputs": [],
   "source": []
  }
 ],
 "metadata": {
  "kernelspec": {
   "display_name": "Python 3",
   "language": "python",
   "name": "python3"
  },
  "language_info": {
   "codemirror_mode": {
    "name": "ipython",
    "version": 3
   },
   "file_extension": ".py",
   "mimetype": "text/x-python",
   "name": "python",
   "nbconvert_exporter": "python",
   "pygments_lexer": "ipython3",
   "version": "3.6.7"
  }
 },
 "nbformat": 4,
 "nbformat_minor": 2
}
