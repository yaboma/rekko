{
 "cells": [
  {
   "cell_type": "markdown",
   "metadata": {},
   "source": [
    "# Rekko challenge 2019\n",
    "\n",
    "```\n",
    "                           /$$$$$$$  /$$$$$$$$ /$$   /$$ /$$   /$$  /$$$$$$ \n",
    "                          | $$__  $$| $$_____/| $$  /$$/| $$  /$$/ /$$__  $$\n",
    "                          | $$  \\ $$| $$      | $$ /$$/ | $$ /$$/ | $$  \\ $$\n",
    "                          | $$$$$$$/| $$$$$   | $$$$$/  | $$$$$/  | $$  | $$\n",
    "                          | $$__  $$| $$__/   | $$  $$  | $$  $$  | $$  | $$\n",
    "                          | $$  \\ $$| $$      | $$\\  $$ | $$\\  $$ | $$  | $$\n",
    "                          | $$  | $$| $$$$$$$$| $$ \\  $$| $$ \\  $$|  $$$$$$/\n",
    "                          |__/  |__/|________/|__/  \\__/|__/  \\__/ \\______/ \n",
    "                                                                            \n",
    "```"
   ]
  },
  {
   "cell_type": "markdown",
   "metadata": {},
   "source": [
    "Добро пожаловать на соревнование по машинному обучению от онлайн-кинотеатра [Okko](http://okko.tv) Rekko Challenge 2019.\n",
    "\n",
    "В этом ноутбуке мы покажем вам пример простого но полного решения, от загрузки данных до формирования ответа. Для работы нам понадобятся библиотеки `pandas`, `numpy`, `scipy`, `implicit`, `pprint`, `tqdm`. Установить их в вашем рабочем окружении можно следующей командой.\n",
    "```\n",
    "pip install pandas numpy scipy implicit pprint tqdm\n",
    "```"
   ]
  },
  {
   "cell_type": "code",
   "execution_count": 1,
   "metadata": {},
   "outputs": [],
   "source": [
    "import os\n",
    "import json\n",
    "import pandas as pd\n",
    "import numpy as np\n",
    "import tqdm\n",
    "import scipy.sparse as sp\n",
    "\n",
    "from pprint import pprint"
   ]
  },
  {
   "cell_type": "markdown",
   "metadata": {},
   "source": [
    "### Загрузка данных"
   ]
  },
  {
   "cell_type": "markdown",
   "metadata": {},
   "source": [
    "Замените `DATA_PATH` на путь к данным, которые вы скачали со страницы соревнования."
   ]
  },
  {
   "cell_type": "code",
   "execution_count": 3,
   "metadata": {},
   "outputs": [],
   "source": [
    "DATA_PATH = ''"
   ]
  },
  {
   "cell_type": "markdown",
   "metadata": {},
   "source": [
    "---"
   ]
  },
  {
   "cell_type": "markdown",
   "metadata": {},
   "source": [
    "`catalogue.json` содержит анонимизированную метаинформацию о доступных в сервисе фильмах и сериалах."
   ]
  },
  {
   "cell_type": "code",
   "execution_count": 4,
   "metadata": {},
   "outputs": [],
   "source": [
    "with open(os.path.join(DATA_PATH, 'catalogue.json'), 'r') as f:\n",
    "    catalogue = json.load(f)\n",
    "    \n",
    "catalogue = {int(k): v for k, v in catalogue.items()}"
   ]
  },
  {
   "cell_type": "code",
   "execution_count": 5,
   "metadata": {},
   "outputs": [
    {
     "data": {
      "text/plain": [
       "10200"
      ]
     },
     "execution_count": 5,
     "metadata": {},
     "output_type": "execute_result"
    }
   ],
   "source": [
    "len(catalogue)"
   ]
  },
  {
   "cell_type": "code",
   "execution_count": 6,
   "metadata": {},
   "outputs": [
    {
     "name": "stdout",
     "output_type": "stream",
     "text": [
      "{'attributes': [18441,\n",
      "                16300,\n",
      "                16580,\n",
      "                18770,\n",
      "                18771,\n",
      "                18643,\n",
      "                396,\n",
      "                18772,\n",
      "                3771,\n",
      "                18773,\n",
      "                910,\n",
      "                18774,\n",
      "                16364,\n",
      "                3277],\n",
      " 'availability': ['purchase', 'rent'],\n",
      " 'duration': 80,\n",
      " 'feature_1': 6064738.740195342,\n",
      " 'feature_2': 0.752750538,\n",
      " 'feature_3': 4,\n",
      " 'feature_4': 0.9537104605,\n",
      " 'feature_5': 0.0,\n",
      " 'type': 'movie'}\n"
     ]
    }
   ],
   "source": [
    "pprint(catalogue[100])"
   ]
  },
  {
   "cell_type": "markdown",
   "metadata": {},
   "source": [
    " - `attributes` — мешок атрибутов\n",
    " - `availability` — доступность (может содержать значения `purchase`, `rent` и `subscription`)\n",
    " - `duration` — длительность в минутах, округлённая до десятков (продолжительность серии для сериалов и многосерийных фильмов)\n",
    " - `feature_1..5` — пять анонимизированных вещественных и порядковых признаков\n",
    " - `type` — принимает значения `movie`, `multipart_movie` или `series`"
   ]
  },
  {
   "cell_type": "markdown",
   "metadata": {},
   "source": [
    "---"
   ]
  },
  {
   "cell_type": "markdown",
   "metadata": {},
   "source": [
    "`test_users.json` содержит список пользователей, для которых необходимо построить предсказание"
   ]
  },
  {
   "cell_type": "code",
   "execution_count": 7,
   "metadata": {},
   "outputs": [],
   "source": [
    "with open(os.path.join(DATA_PATH, 'test_users.json'), 'r') as f:\n",
    "    test_users = set(json.load(f)['users'])"
   ]
  },
  {
   "cell_type": "markdown",
   "metadata": {},
   "source": [
    "---"
   ]
  },
  {
   "cell_type": "markdown",
   "metadata": {},
   "source": [
    "`transactions.csv` — список всех транзакций за определённый период времени"
   ]
  },
  {
   "cell_type": "code",
   "execution_count": 15,
   "metadata": {},
   "outputs": [
    {
     "name": "stdout",
     "output_type": "stream",
     "text": [
      "CPU times: user 6.4 s, sys: 184 ms, total: 6.59 s\n",
      "Wall time: 6.59 s\n"
     ]
    }
   ],
   "source": [
    "%%time\n",
    "transactions = pd.read_csv(\n",
    "    os.path.join(DATA_PATH, 'transactions.csv'),\n",
    "    dtype={\n",
    "        'element_uid': np.uint16,\n",
    "        'user_uid': np.uint32,\n",
    "        'consumption_mode': 'category',\n",
    "        'ts': np.float64,\n",
    "        'watched_time': np.uint64,\n",
    "        'device_type': np.uint8,\n",
    "        'device_manufacturer': np.uint8\n",
    "    }\n",
    ")\n",
    "transactions.head(3)"
   ]
  },
  {
   "cell_type": "code",
   "execution_count": 16,
   "metadata": {},
   "outputs": [
    {
     "data": {
      "text/html": [
       "<div>\n",
       "<style scoped>\n",
       "    .dataframe tbody tr th:only-of-type {\n",
       "        vertical-align: middle;\n",
       "    }\n",
       "\n",
       "    .dataframe tbody tr th {\n",
       "        vertical-align: top;\n",
       "    }\n",
       "\n",
       "    .dataframe thead th {\n",
       "        text-align: right;\n",
       "    }\n",
       "</style>\n",
       "<table border=\"1\" class=\"dataframe\">\n",
       "  <thead>\n",
       "    <tr style=\"text-align: right;\">\n",
       "      <th></th>\n",
       "      <th>element_uid</th>\n",
       "      <th>user_uid</th>\n",
       "      <th>consumption_mode</th>\n",
       "      <th>ts</th>\n",
       "      <th>watched_time</th>\n",
       "      <th>device_type</th>\n",
       "      <th>device_manufacturer</th>\n",
       "    </tr>\n",
       "  </thead>\n",
       "  <tbody>\n",
       "    <tr>\n",
       "      <th>0</th>\n",
       "      <td>3336</td>\n",
       "      <td>5177</td>\n",
       "      <td>S</td>\n",
       "      <td>4.430518e+07</td>\n",
       "      <td>4282</td>\n",
       "      <td>0</td>\n",
       "      <td>50</td>\n",
       "    </tr>\n",
       "    <tr>\n",
       "      <th>1</th>\n",
       "      <td>481</td>\n",
       "      <td>593316</td>\n",
       "      <td>S</td>\n",
       "      <td>4.430518e+07</td>\n",
       "      <td>2989</td>\n",
       "      <td>0</td>\n",
       "      <td>11</td>\n",
       "    </tr>\n",
       "    <tr>\n",
       "      <th>2</th>\n",
       "      <td>4128</td>\n",
       "      <td>262355</td>\n",
       "      <td>S</td>\n",
       "      <td>4.430518e+07</td>\n",
       "      <td>833</td>\n",
       "      <td>0</td>\n",
       "      <td>50</td>\n",
       "    </tr>\n",
       "  </tbody>\n",
       "</table>\n",
       "</div>"
      ],
      "text/plain": [
       "   element_uid  user_uid consumption_mode            ts  watched_time  \\\n",
       "0         3336      5177                S  4.430518e+07          4282   \n",
       "1          481    593316                S  4.430518e+07          2989   \n",
       "2         4128    262355                S  4.430518e+07           833   \n",
       "\n",
       "   device_type  device_manufacturer  \n",
       "0            0                   50  \n",
       "1            0                   11  \n",
       "2            0                   50  "
      ]
     },
     "execution_count": 16,
     "metadata": {},
     "output_type": "execute_result"
    }
   ],
   "source": [
    "transactions.head(3)"
   ]
  },
  {
   "cell_type": "markdown",
   "metadata": {},
   "source": [
    " - `element_uid` — идентификатор элемента\n",
    " - `user_uid` — идентификатор пользователя\n",
    " - `consumption_mode` — тип потребления (`P` — покупка, `R` — аренда, `S` — просмотр по подписке)\n",
    " - `ts` — время совершения транзакции или начала просмотра в случае просмотра по подписке\n",
    " - `watched_time` — число просмотренных по транзакции секунд\n",
    " - `device_type` — анонимизированный тип устройства, с которого была совершена транзакция или начат просмотр\n",
    " - `device_manufacturer` — анонимизированный производитель устройства, с которого была совершена транзакция или начат просмотр"
   ]
  },
  {
   "cell_type": "markdown",
   "metadata": {},
   "source": [
    "---"
   ]
  },
  {
   "cell_type": "markdown",
   "metadata": {},
   "source": [
    "`ratings.csv` содержит информацию о поставленных пользователями оценках"
   ]
  },
  {
   "cell_type": "code",
   "execution_count": 19,
   "metadata": {},
   "outputs": [],
   "source": [
    "# %%time\n",
    "ratings = pd.read_csv(\n",
    "    os.path.join(DATA_PATH, 'ratings.csv'),\n",
    "    dtype={\n",
    "        'element_uid': np.uint16,\n",
    "        'user_uid': np.uint32,\n",
    "        'ts': np.float64,\n",
    "        'rating': np.uint8\n",
    "    }\n",
    ")"
   ]
  },
  {
   "cell_type": "code",
   "execution_count": 20,
   "metadata": {},
   "outputs": [
    {
     "data": {
      "text/html": [
       "<div>\n",
       "<style scoped>\n",
       "    .dataframe tbody tr th:only-of-type {\n",
       "        vertical-align: middle;\n",
       "    }\n",
       "\n",
       "    .dataframe tbody tr th {\n",
       "        vertical-align: top;\n",
       "    }\n",
       "\n",
       "    .dataframe thead th {\n",
       "        text-align: right;\n",
       "    }\n",
       "</style>\n",
       "<table border=\"1\" class=\"dataframe\">\n",
       "  <thead>\n",
       "    <tr style=\"text-align: right;\">\n",
       "      <th></th>\n",
       "      <th>user_uid</th>\n",
       "      <th>element_uid</th>\n",
       "      <th>rating</th>\n",
       "      <th>ts</th>\n",
       "    </tr>\n",
       "  </thead>\n",
       "  <tbody>\n",
       "    <tr>\n",
       "      <th>0</th>\n",
       "      <td>571252</td>\n",
       "      <td>1364</td>\n",
       "      <td>10</td>\n",
       "      <td>4.430517e+07</td>\n",
       "    </tr>\n",
       "    <tr>\n",
       "      <th>1</th>\n",
       "      <td>63140</td>\n",
       "      <td>3037</td>\n",
       "      <td>10</td>\n",
       "      <td>4.430514e+07</td>\n",
       "    </tr>\n",
       "    <tr>\n",
       "      <th>2</th>\n",
       "      <td>443817</td>\n",
       "      <td>4363</td>\n",
       "      <td>8</td>\n",
       "      <td>4.430514e+07</td>\n",
       "    </tr>\n",
       "  </tbody>\n",
       "</table>\n",
       "</div>"
      ],
      "text/plain": [
       "   user_uid  element_uid  rating            ts\n",
       "0    571252         1364      10  4.430517e+07\n",
       "1     63140         3037      10  4.430514e+07\n",
       "2    443817         4363       8  4.430514e+07"
      ]
     },
     "execution_count": 20,
     "metadata": {},
     "output_type": "execute_result"
    }
   ],
   "source": [
    "ratings.head(3)"
   ]
  },
  {
   "cell_type": "markdown",
   "metadata": {},
   "source": [
    " - `rating` — поставленный пользователем рейтинг (от `0` до `10`)"
   ]
  },
  {
   "cell_type": "markdown",
   "metadata": {},
   "source": [
    "---"
   ]
  },
  {
   "cell_type": "markdown",
   "metadata": {},
   "source": [
    "`bookmarks.csv` содержит информацию об элементах, добавленных пользователями в список «Избранное»"
   ]
  },
  {
   "cell_type": "code",
   "execution_count": 214,
   "metadata": {},
   "outputs": [],
   "source": [
    "# %%time\n",
    "bookmarks = pd.read_csv(\n",
    "    os.path.join(DATA_PATH, 'bookmarks.csv'),\n",
    "    dtype={\n",
    "        'element_uid': np.uint16,\n",
    "        'user_uid': np.uint32,\n",
    "        'ts': np.float64\n",
    "    }\n",
    ")"
   ]
  },
  {
   "cell_type": "code",
   "execution_count": 215,
   "metadata": {
    "scrolled": true
   },
   "outputs": [
    {
     "data": {
      "text/html": [
       "<div>\n",
       "<style scoped>\n",
       "    .dataframe tbody tr th:only-of-type {\n",
       "        vertical-align: middle;\n",
       "    }\n",
       "\n",
       "    .dataframe tbody tr th {\n",
       "        vertical-align: top;\n",
       "    }\n",
       "\n",
       "    .dataframe thead th {\n",
       "        text-align: right;\n",
       "    }\n",
       "</style>\n",
       "<table border=\"1\" class=\"dataframe\">\n",
       "  <thead>\n",
       "    <tr style=\"text-align: right;\">\n",
       "      <th></th>\n",
       "      <th>user_uid</th>\n",
       "      <th>element_uid</th>\n",
       "      <th>ts</th>\n",
       "    </tr>\n",
       "  </thead>\n",
       "  <tbody>\n",
       "    <tr>\n",
       "      <th>0</th>\n",
       "      <td>301135</td>\n",
       "      <td>7185</td>\n",
       "      <td>4.430516e+07</td>\n",
       "    </tr>\n",
       "    <tr>\n",
       "      <th>1</th>\n",
       "      <td>301135</td>\n",
       "      <td>4083</td>\n",
       "      <td>4.430516e+07</td>\n",
       "    </tr>\n",
       "    <tr>\n",
       "      <th>2</th>\n",
       "      <td>301135</td>\n",
       "      <td>10158</td>\n",
       "      <td>4.430516e+07</td>\n",
       "    </tr>\n",
       "  </tbody>\n",
       "</table>\n",
       "</div>"
      ],
      "text/plain": [
       "   user_uid  element_uid            ts\n",
       "0    301135         7185  4.430516e+07\n",
       "1    301135         4083  4.430516e+07\n",
       "2    301135        10158  4.430516e+07"
      ]
     },
     "execution_count": 215,
     "metadata": {},
     "output_type": "execute_result"
    }
   ],
   "source": [
    "bookmarks.head(3)"
   ]
  },
  {
   "cell_type": "code",
   "execution_count": 216,
   "metadata": {},
   "outputs": [],
   "source": [
    "bookmarks['added'] = 1"
   ]
  },
  {
   "cell_type": "code",
   "execution_count": 217,
   "metadata": {},
   "outputs": [],
   "source": [
    "kre = bookmarks.copy()"
   ]
  },
  {
   "cell_type": "markdown",
   "metadata": {},
   "source": [
    "### Решение"
   ]
  },
  {
   "cell_type": "markdown",
   "metadata": {},
   "source": [
    "Для начала построим список элементов, которые тестовые пользователи уже купили или посмотрели по подписке: они не смогут купить их второй раз, а просмотр по подписке второй раз маловероятен, поэтому мы захотим отфильтровать такие элементы из финального ответа.\n",
    "\n",
    "Точно так же можно поступить и с рейтингами и добавлениями в избранное, если это будет казаться правильным."
   ]
  },
  {
   "cell_type": "code",
   "execution_count": 23,
   "metadata": {},
   "outputs": [
    {
     "name": "stderr",
     "output_type": "stream",
     "text": [
      "100%|██████████| 9643012/9643012 [00:20<00:00, 466281.82it/s]\n"
     ]
    }
   ],
   "source": [
    "from collections import defaultdict\n",
    "\n",
    "filtered_elements = defaultdict(set)\n",
    "\n",
    "for user_uid, element_uid in tqdm.tqdm(transactions.loc[:, ['user_uid', 'element_uid']].values):\n",
    "    if user_uid not in test_users:\n",
    "        continue\n",
    "    filtered_elements[user_uid].add(element_uid)"
   ]
  },
  {
   "cell_type": "markdown",
   "metadata": {},
   "source": [
    "---"
   ]
  },
  {
   "cell_type": "markdown",
   "metadata": {},
   "source": [
    "Для примера мы воспользуемся методом K ближайших соседей, реализованным в библиотеке `implicit`. В качестве данных используем только информацию о рейтингах.\n",
    "\n",
    "Необходимо построить разреженную матрицу, где строкам будут соответствовать элементы, столбцам — пользователи, а на пересечении пользователя и элемента будет находиться количественная оценка степени их взаимодействия, если таковое имело место.\n",
    "\n",
    "Не забудем добавить `1` к рейтингу, чтобы избежать деления на ноль во время вычисления `tf-idf`."
   ]
  },
  {
   "cell_type": "markdown",
   "metadata": {},
   "source": [
    "### Тут хрень"
   ]
  },
  {
   "cell_type": "code",
   "execution_count": 228,
   "metadata": {},
   "outputs": [],
   "source": [
    "bookmarks['user_uid'] = bookmarks['user_uid'].astype('category')\n",
    "bookmarks['element_uid'] = bookmarks['element_uid'].astype('category')\n",
    "\n",
    "ratings_matrix = sp.coo_matrix(\n",
    "    (bookmarks[bookmarks['user_uid'].isin(c)]['added'].astype(np.float32),\n",
    "        (\n",
    "            bookmarks[bookmarks['user_uid'].isin(c)].element_uid.cat.codes.copy(),\n",
    "            bookmarks[bookmarks['user_uid'].isin(c)].user_uid.cat.codes.copy()\n",
    "        )\n",
    "    )\n",
    ")\n",
    "\n",
    "ratings_matrix = ratings_matrix.tocsr()"
   ]
  },
  {
   "cell_type": "code",
   "execution_count": 234,
   "metadata": {},
   "outputs": [],
   "source": [
    "a = np.unique(ratings.user_uid)\n",
    "b = np.unique(bookmarks.user_uid)\n",
    "c = np.intersect1d(b, a)\n",
    "kre = kre[kre['user_uid'].isin(c)]\n",
    "kre['user_uid'] = kre['user_uid'].astype('category')\n",
    "kre['element_uid'] = kre['element_uid'].astype('category')\n",
    "\n",
    "ratings_matrix = sp.coo_matrix(\n",
    "    (kre['added'].astype(np.float32),\n",
    "        (\n",
    "            kre.element_uid.cat.codes.copy(),\n",
    "            kre.user_uid.cat.codes.copy()\n",
    "        )\n",
    "    )\n",
    ")\n",
    "\n",
    "ratings_matrix1 = ratings_matrix.tocsr()"
   ]
  },
  {
   "cell_type": "code",
   "execution_count": 240,
   "metadata": {
    "scrolled": true
   },
   "outputs": [
    {
     "data": {
      "text/plain": [
       "<9178x47555 sparse matrix of type '<class 'numpy.float32'>'\n",
       "\twith 429634 stored elements in Compressed Sparse Row format>"
      ]
     },
     "execution_count": 240,
     "metadata": {},
     "output_type": "execute_result"
    }
   ],
   "source": [
    "ratings_matrix1"
   ]
  },
  {
   "cell_type": "code",
   "execution_count": 236,
   "metadata": {},
   "outputs": [
    {
     "name": "stdout",
     "output_type": "stream",
     "text": [
      "Sparsity: 0.000984\n"
     ]
    }
   ],
   "source": [
    "sparsity = ratings_matrix.nnz / (ratings_matrix.shape[0] * ratings_matrix.shape[1])\n",
    "print('Sparsity: %.6f' % sparsity)"
   ]
  },
  {
   "cell_type": "code",
   "execution_count": null,
   "metadata": {},
   "outputs": [],
   "source": [
    "ratings_matrix1"
   ]
  },
  {
   "cell_type": "code",
   "execution_count": 241,
   "metadata": {
    "scrolled": true
   },
   "outputs": [
    {
     "data": {
      "text/plain": [
       "<7519x104563 sparse matrix of type '<class 'numpy.float32'>'\n",
       "\twith 438790 stored elements in Compressed Sparse Row format>"
      ]
     },
     "execution_count": 241,
     "metadata": {},
     "output_type": "execute_result"
    }
   ],
   "source": [
    "ratings_matrix"
   ]
  },
  {
   "cell_type": "code",
   "execution_count": null,
   "metadata": {},
   "outputs": [],
   "source": []
  },
  {
   "cell_type": "code",
   "execution_count": null,
   "metadata": {},
   "outputs": [],
   "source": []
  },
  {
   "cell_type": "code",
   "execution_count": null,
   "metadata": {},
   "outputs": [],
   "source": []
  },
  {
   "cell_type": "code",
   "execution_count": null,
   "metadata": {},
   "outputs": [],
   "source": []
  },
  {
   "cell_type": "markdown",
   "metadata": {},
   "source": [
    "### Тут то предсказание только на основе избранного"
   ]
  },
  {
   "cell_type": "code",
   "execution_count": null,
   "metadata": {},
   "outputs": [],
   "source": [
    "bookmarks['user_uid'] = bookmarks['user_uid'].astype('category')\n",
    "bookmarks['element_uid'] = bookmarks['element_uid'].astype('category')\n",
    "\n",
    "ratings_matrix = sp.coo_matrix(\n",
    "    (bookmarks['added'].astype(np.float32),\n",
    "        (\n",
    "            bookmarks.element_uid.cat.codes.copy(),\n",
    "            bookmarks.user_uid.cat.codes.copy()\n",
    "        )\n",
    "    )\n",
    ")\n",
    "\n",
    "ratings_matrix = ratings_matrix.tocsr()"
   ]
  },
  {
   "cell_type": "code",
   "execution_count": 97,
   "metadata": {},
   "outputs": [
    {
     "name": "stderr",
     "output_type": "stream",
     "text": [
      "100%|██████████| 9489/9489 [00:00<00:00, 53241.32it/s]\n"
     ]
    }
   ],
   "source": [
    "from implicit.nearest_neighbours import TFIDFRecommender\n",
    "\n",
    "model = TFIDFRecommender()\n",
    "model.fit(ratings_matrix)"
   ]
  },
  {
   "cell_type": "code",
   "execution_count": null,
   "metadata": {},
   "outputs": [],
   "source": [
    "ratings_matrix_T = ratings_matrix.T.tocsr()"
   ]
  },
  {
   "cell_type": "code",
   "execution_count": 98,
   "metadata": {},
   "outputs": [],
   "source": [
    "user_uid_to_cat = dict(zip(\n",
    "    bookmarks['user_uid'].cat.categories,\n",
    "    range(len(bookmarks['user_uid'].cat.categories))\n",
    "))"
   ]
  },
  {
   "cell_type": "code",
   "execution_count": 99,
   "metadata": {},
   "outputs": [],
   "source": [
    "element_uid_to_cat = dict(zip(\n",
    "    bookmarks['element_uid'].cat.categories,\n",
    "    range(len(bookmarks['element_uid'].cat.categories))\n",
    "))"
   ]
  },
  {
   "cell_type": "code",
   "execution_count": 100,
   "metadata": {},
   "outputs": [],
   "source": [
    "filtered_elements_cat = {k: [element_uid_to_cat.get(x, None) for x in v] for k, v in filtered_elements.items()}"
   ]
  },
  {
   "cell_type": "code",
   "execution_count": 102,
   "metadata": {},
   "outputs": [
    {
     "name": "stderr",
     "output_type": "stream",
     "text": [
      "100%|██████████| 50000/50000 [00:03<00:00, 15043.58it/s]\n"
     ]
    }
   ],
   "source": [
    "result = {}\n",
    "\n",
    "for user_uid in tqdm.tqdm(test_users):\n",
    "    # transform user_uid to model's internal user category\n",
    "    try:\n",
    "        user_cat = user_uid_to_cat[user_uid]\n",
    "    except LookupError:\n",
    "        continue\n",
    "    \n",
    "    # perform inference\n",
    "    recs = model.recommend(\n",
    "        user_cat,\n",
    "        ratings_matrix_T,\n",
    "        N=20,\n",
    "        filter_already_liked_items=True,\n",
    "        filter_items=filtered_elements_cat.get(user_uid, set())\n",
    "    )\n",
    "    \n",
    "    # drop scores and transform model's internal elelemnt category to element_uid for every prediction\n",
    "    # also convert np.uint64 to int so it could be json serialized later\n",
    "    result[user_uid] = [int(bookmarks['element_uid'].cat.categories[i]) for i, _ in recs]"
   ]
  },
  {
   "cell_type": "code",
   "execution_count": 106,
   "metadata": {},
   "outputs": [
    {
     "data": {
      "text/plain": [
       "18194"
      ]
     },
     "execution_count": 106,
     "metadata": {},
     "output_type": "execute_result"
    }
   ],
   "source": [
    "len(result)"
   ]
  },
  {
   "cell_type": "code",
   "execution_count": 103,
   "metadata": {},
   "outputs": [],
   "source": [
    "with open('answer.json', 'w') as f:\n",
    "    json.dump(result, f) #0.00456111"
   ]
  },
  {
   "cell_type": "code",
   "execution_count": null,
   "metadata": {},
   "outputs": [],
   "source": []
  },
  {
   "cell_type": "code",
   "execution_count": null,
   "metadata": {},
   "outputs": [],
   "source": []
  },
  {
   "cell_type": "code",
   "execution_count": null,
   "metadata": {},
   "outputs": [],
   "source": []
  },
  {
   "cell_type": "markdown",
   "metadata": {},
   "source": [
    "### То что было в бейзлайне"
   ]
  },
  {
   "cell_type": "code",
   "execution_count": 237,
   "metadata": {},
   "outputs": [],
   "source": [
    "ratings['user_uid'] = ratings['user_uid'].astype('category')\n",
    "ratings['element_uid'] = ratings['element_uid'].astype('category')\n",
    "\n",
    "ratings_matrix = sp.coo_matrix(\n",
    "    (ratings['rating'].astype(np.float32) + 1,\n",
    "        (\n",
    "            ratings['element_uid'].cat.codes.copy(),\n",
    "            ratings['user_uid'].cat.codes.copy()\n",
    "        )\n",
    "    )\n",
    ")\n",
    "\n",
    "ratings_matrix = ratings_matrix.tocsr()"
   ]
  },
  {
   "cell_type": "code",
   "execution_count": 238,
   "metadata": {},
   "outputs": [
    {
     "data": {
      "text/plain": [
       "<7519x104563 sparse matrix of type '<class 'numpy.float32'>'\n",
       "\twith 438790 stored elements in Compressed Sparse Row format>"
      ]
     },
     "execution_count": 238,
     "metadata": {},
     "output_type": "execute_result"
    }
   ],
   "source": [
    "ratings_matrix"
   ]
  },
  {
   "cell_type": "code",
   "execution_count": 239,
   "metadata": {},
   "outputs": [
    {
     "name": "stdout",
     "output_type": "stream",
     "text": [
      "Sparsity: 0.000558\n"
     ]
    }
   ],
   "source": [
    "sparsity = ratings_matrix.nnz / (ratings_matrix.shape[0] * ratings_matrix.shape[1])\n",
    "print('Sparsity: %.6f' % sparsity)"
   ]
  },
  {
   "cell_type": "markdown",
   "metadata": {},
   "source": [
    "Обучить модель крайне просто."
   ]
  },
  {
   "cell_type": "code",
   "execution_count": 95,
   "metadata": {},
   "outputs": [
    {
     "name": "stderr",
     "output_type": "stream",
     "text": [
      "100%|██████████| 9489/9489 [00:00<00:00, 50015.52it/s]\n"
     ]
    }
   ],
   "source": [
    "from implicit.nearest_neighbours import TFIDFRecommender\n",
    "\n",
    "model = TFIDFRecommender()\n",
    "model.fit(ratings_matrix)"
   ]
  },
  {
   "cell_type": "markdown",
   "metadata": {},
   "source": [
    "---"
   ]
  },
  {
   "cell_type": "code",
   "execution_count": 96,
   "metadata": {},
   "outputs": [],
   "source": [
    "ratings_matrix_T = ratings_matrix.T.tocsr()"
   ]
  },
  {
   "cell_type": "markdown",
   "metadata": {},
   "source": [
    "Отображения из оригинальной категории во внутреннюю пригодится нам в дальнейшем."
   ]
  },
  {
   "cell_type": "code",
   "execution_count": 53,
   "metadata": {},
   "outputs": [],
   "source": [
    "user_uid_to_cat = dict(zip(\n",
    "    ratings['user_uid'].cat.categories,\n",
    "    range(len(ratings['user_uid'].cat.categories))\n",
    "))"
   ]
  },
  {
   "cell_type": "code",
   "execution_count": 54,
   "metadata": {},
   "outputs": [],
   "source": [
    "element_uid_to_cat = dict(zip(\n",
    "    ratings['element_uid'].cat.categories,\n",
    "    range(len(ratings['element_uid'].cat.categories))\n",
    "))"
   ]
  },
  {
   "cell_type": "code",
   "execution_count": 55,
   "metadata": {},
   "outputs": [],
   "source": [
    "filtered_elements_cat = {k: [element_uid_to_cat.get(x, None) for x in v] for k, v in filtered_elements.items()}"
   ]
  },
  {
   "cell_type": "markdown",
   "metadata": {},
   "source": [
    "---"
   ]
  },
  {
   "cell_type": "markdown",
   "metadata": {},
   "source": [
    "В метод `model.recommend` мы передаём идентификатор пользователя, который получаем обратным преобразованием из категории, транспонированную матрицу взаимодействий, число необходимых рекомендаций и список элементов, которые мы договорились фильтровать из ответа.\n",
    "\n",
    "Возвращает метод список пар (`element_cat`, `score`), отсортированный по вторым элементам. Из него необходимо достать все первые элементы пар и из категории преобразовать их к `element_uid`."
   ]
  },
  {
   "cell_type": "markdown",
   "metadata": {},
   "source": [
    "**Важно:** Не все тестовые пользователи есть в `ratings.csv` и не все из них есть в `transactions.csv`. Используя только один источник данных мы не можем построить полное предсказание. Такой ответ с неполным числом пользователей бдет принят системой, но при вычислении средней метрики метрика для отсутствующих пользователей будет принята равной нулю."
   ]
  },
  {
   "cell_type": "code",
   "execution_count": 56,
   "metadata": {},
   "outputs": [
    {
     "name": "stderr",
     "output_type": "stream",
     "text": [
      "100%|██████████| 50000/50000 [00:02<00:00, 20384.09it/s]\n"
     ]
    }
   ],
   "source": [
    "result = {}\n",
    "\n",
    "for user_uid in tqdm.tqdm(test_users):\n",
    "    # transform user_uid to model's internal user category\n",
    "    try:\n",
    "        user_cat = user_uid_to_cat[user_uid]\n",
    "    except LookupError:\n",
    "        continue\n",
    "    \n",
    "    # perform inference\n",
    "    recs = model.recommend(\n",
    "        user_cat,\n",
    "        ratings_matrix_T,\n",
    "        N=20,\n",
    "        filter_already_liked_items=True,\n",
    "        filter_items=filtered_elements_cat.get(user_uid, set())\n",
    "    )\n",
    "    \n",
    "    # drop scores and transform model's internal elelemnt category to element_uid for every prediction\n",
    "    # also convert np.uint64 to int so it could be json serialized later\n",
    "    result[user_uid] = [int(ratings['element_uid'].cat.categories[i]) for i, _ in recs]"
   ]
  },
  {
   "cell_type": "markdown",
   "metadata": {},
   "source": [
    "Используя только информацию о рейтингах мы смогли построить предсказание для `13251` из `50000` тестовых пользователей. Ровно в таком виде ответы и стоит сохранить для отправки."
   ]
  },
  {
   "cell_type": "code",
   "execution_count": 33,
   "metadata": {},
   "outputs": [],
   "source": [
    "with open('answer.json', 'w') as f:\n",
    "    json.dump(result, f) # 0.00468558"
   ]
  }
 ],
 "metadata": {
  "hide_input": false,
  "kernelspec": {
   "display_name": "Python 3",
   "language": "python",
   "name": "python3"
  },
  "language_info": {
   "codemirror_mode": {
    "name": "ipython",
    "version": 3
   },
   "file_extension": ".py",
   "mimetype": "text/x-python",
   "name": "python",
   "nbconvert_exporter": "python",
   "pygments_lexer": "ipython3",
   "version": "3.6.7"
  }
 },
 "nbformat": 4,
 "nbformat_minor": 2
}
