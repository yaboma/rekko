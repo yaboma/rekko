{
 "cells": [
  {
   "cell_type": "code",
   "execution_count": 1,
   "metadata": {},
   "outputs": [],
   "source": [
    "import os\n",
    "import json\n",
    "import pandas as pd\n",
    "import numpy as np\n",
    "import tqdm\n",
    "import scipy.sparse as sp\n",
    "\n",
    "import implicit\n",
    "import lightfm\n",
    "import warnings\n",
    "from validation_prepare import *\n",
    "warnings.filterwarnings('ignore')"
   ]
  },
  {
   "cell_type": "code",
   "execution_count": 2,
   "metadata": {},
   "outputs": [],
   "source": [
    "pd.set_option('display.max_columns',100)\n",
    "\n",
    "DATA_PATH = '../okko/orig_data'\n",
    "PREPARED_PATH = './prepared_data/'"
   ]
  },
  {
   "cell_type": "code",
   "execution_count": 3,
   "metadata": {},
   "outputs": [
    {
     "data": {
      "text/html": [
       "<div>\n",
       "<style scoped>\n",
       "    .dataframe tbody tr th:only-of-type {\n",
       "        vertical-align: middle;\n",
       "    }\n",
       "\n",
       "    .dataframe tbody tr th {\n",
       "        vertical-align: top;\n",
       "    }\n",
       "\n",
       "    .dataframe thead th {\n",
       "        text-align: right;\n",
       "    }\n",
       "</style>\n",
       "<table border=\"1\" class=\"dataframe\">\n",
       "  <thead>\n",
       "    <tr style=\"text-align: right;\">\n",
       "      <th></th>\n",
       "      <th></th>\n",
       "      <th></th>\n",
       "      <th>action</th>\n",
       "      <th>consumption_mode</th>\n",
       "      <th>device_manufacturer</th>\n",
       "      <th>device_type</th>\n",
       "      <th>rating</th>\n",
       "      <th>watched_time</th>\n",
       "      <th>duration</th>\n",
       "      <th>type</th>\n",
       "    </tr>\n",
       "    <tr>\n",
       "      <th>user_uid</th>\n",
       "      <th>element_uid</th>\n",
       "      <th>ts</th>\n",
       "      <th></th>\n",
       "      <th></th>\n",
       "      <th></th>\n",
       "      <th></th>\n",
       "      <th></th>\n",
       "      <th></th>\n",
       "      <th></th>\n",
       "      <th></th>\n",
       "    </tr>\n",
       "  </thead>\n",
       "  <tbody>\n",
       "    <tr>\n",
       "      <th rowspan=\"5\" valign=\"top\">0</th>\n",
       "      <th>51</th>\n",
       "      <th>4.416546e+07</th>\n",
       "      <td>watch</td>\n",
       "      <td>S</td>\n",
       "      <td>99.0</td>\n",
       "      <td>0.0</td>\n",
       "      <td>NaN</td>\n",
       "      <td>12382.0</td>\n",
       "      <td>3600</td>\n",
       "      <td>1</td>\n",
       "    </tr>\n",
       "    <tr>\n",
       "      <th>72</th>\n",
       "      <th>4.375829e+07</th>\n",
       "      <td>watch</td>\n",
       "      <td>S</td>\n",
       "      <td>99.0</td>\n",
       "      <td>0.0</td>\n",
       "      <td>NaN</td>\n",
       "      <td>5653.0</td>\n",
       "      <td>6000</td>\n",
       "      <td>1</td>\n",
       "    </tr>\n",
       "    <tr>\n",
       "      <th>207</th>\n",
       "      <th>4.371904e+07</th>\n",
       "      <td>watch</td>\n",
       "      <td>S</td>\n",
       "      <td>99.0</td>\n",
       "      <td>0.0</td>\n",
       "      <td>NaN</td>\n",
       "      <td>2646.0</td>\n",
       "      <td>5400</td>\n",
       "      <td>1</td>\n",
       "    </tr>\n",
       "    <tr>\n",
       "      <th>209</th>\n",
       "      <th>4.377814e+07</th>\n",
       "      <td>watch</td>\n",
       "      <td>S</td>\n",
       "      <td>99.0</td>\n",
       "      <td>0.0</td>\n",
       "      <td>NaN</td>\n",
       "      <td>6971.0</td>\n",
       "      <td>7200</td>\n",
       "      <td>1</td>\n",
       "    </tr>\n",
       "    <tr>\n",
       "      <th>434</th>\n",
       "      <th>4.338109e+07</th>\n",
       "      <td>watch</td>\n",
       "      <td>S</td>\n",
       "      <td>99.0</td>\n",
       "      <td>0.0</td>\n",
       "      <td>NaN</td>\n",
       "      <td>5894.0</td>\n",
       "      <td>6600</td>\n",
       "      <td>1</td>\n",
       "    </tr>\n",
       "  </tbody>\n",
       "</table>\n",
       "</div>"
      ],
      "text/plain": [
       "                                  action consumption_mode  \\\n",
       "user_uid element_uid ts                                     \n",
       "0        51          4.416546e+07  watch                S   \n",
       "         72          4.375829e+07  watch                S   \n",
       "         207         4.371904e+07  watch                S   \n",
       "         209         4.377814e+07  watch                S   \n",
       "         434         4.338109e+07  watch                S   \n",
       "\n",
       "                                   device_manufacturer  device_type  rating  \\\n",
       "user_uid element_uid ts                                                       \n",
       "0        51          4.416546e+07                 99.0          0.0     NaN   \n",
       "         72          4.375829e+07                 99.0          0.0     NaN   \n",
       "         207         4.371904e+07                 99.0          0.0     NaN   \n",
       "         209         4.377814e+07                 99.0          0.0     NaN   \n",
       "         434         4.338109e+07                 99.0          0.0     NaN   \n",
       "\n",
       "                                   watched_time  duration  type  \n",
       "user_uid element_uid ts                                          \n",
       "0        51          4.416546e+07       12382.0      3600     1  \n",
       "         72          4.375829e+07        5653.0      6000     1  \n",
       "         207         4.371904e+07        2646.0      5400     1  \n",
       "         209         4.377814e+07        6971.0      7200     1  \n",
       "         434         4.338109e+07        5894.0      6600     1  "
      ]
     },
     "execution_count": 3,
     "metadata": {},
     "output_type": "execute_result"
    }
   ],
   "source": [
    "actions = pd.read_pickle(PREPARED_PATH+'actions_one_table.pkl')\n",
    "\n",
    "actions.sort_index(inplace = True) # На всякий случай, иначе деление не будет работать\n",
    "\n",
    "actions.head()"
   ]
  },
  {
   "cell_type": "code",
   "execution_count": 4,
   "metadata": {},
   "outputs": [
    {
     "name": "stdout",
     "output_type": "stream",
     "text": [
      "6558458\n",
      "2186152\n",
      "2186153\n"
     ]
    }
   ],
   "source": [
    "idx = get_train_test(actions)"
   ]
  },
  {
   "cell_type": "code",
   "execution_count": 5,
   "metadata": {},
   "outputs": [
    {
     "data": {
      "text/plain": [
       "43362401.96226887"
      ]
     },
     "execution_count": 5,
     "metadata": {},
     "output_type": "execute_result"
    }
   ],
   "source": [
    "actions.iloc[idx[0]].index.get_level_values(2).max()"
   ]
  },
  {
   "cell_type": "code",
   "execution_count": 6,
   "metadata": {},
   "outputs": [
    {
     "data": {
      "text/plain": [
       "43362401.97085199"
      ]
     },
     "execution_count": 6,
     "metadata": {},
     "output_type": "execute_result"
    }
   ],
   "source": [
    "actions.iloc[idx[1]].index.get_level_values(2).min()"
   ]
  },
  {
   "cell_type": "code",
   "execution_count": 7,
   "metadata": {},
   "outputs": [
    {
     "data": {
      "text/plain": [
       "43828341.47903843"
      ]
     },
     "execution_count": 7,
     "metadata": {},
     "output_type": "execute_result"
    }
   ],
   "source": [
    "actions.iloc[idx[1]].index.get_level_values(2).max()"
   ]
  },
  {
   "cell_type": "code",
   "execution_count": 8,
   "metadata": {},
   "outputs": [
    {
     "data": {
      "text/plain": [
       "43828341.48519237"
      ]
     },
     "execution_count": 8,
     "metadata": {},
     "output_type": "execute_result"
    }
   ],
   "source": [
    "actions.iloc[idx[2]].index.get_level_values(2).min()"
   ]
  },
  {
   "cell_type": "code",
   "execution_count": 9,
   "metadata": {},
   "outputs": [
    {
     "data": {
      "text/plain": [
       "S    8296227\n",
       "P     873834\n",
       "R     472951\n",
       "Name: consumption_mode, dtype: int64"
      ]
     },
     "execution_count": 9,
     "metadata": {},
     "output_type": "execute_result"
    }
   ],
   "source": [
    "actions.consumption_mode.value_counts()"
   ]
  },
  {
   "cell_type": "code",
   "execution_count": 10,
   "metadata": {},
   "outputs": [
    {
     "data": {
      "text/html": [
       "<div>\n",
       "<style scoped>\n",
       "    .dataframe tbody tr th:only-of-type {\n",
       "        vertical-align: middle;\n",
       "    }\n",
       "\n",
       "    .dataframe tbody tr th {\n",
       "        vertical-align: top;\n",
       "    }\n",
       "\n",
       "    .dataframe thead th {\n",
       "        text-align: right;\n",
       "    }\n",
       "</style>\n",
       "<table border=\"1\" class=\"dataframe\">\n",
       "  <thead>\n",
       "    <tr style=\"text-align: right;\">\n",
       "      <th></th>\n",
       "      <th></th>\n",
       "      <th></th>\n",
       "      <th>action</th>\n",
       "      <th>consumption_mode</th>\n",
       "      <th>device_manufacturer</th>\n",
       "      <th>device_type</th>\n",
       "      <th>rating</th>\n",
       "      <th>watched_time</th>\n",
       "      <th>duration</th>\n",
       "      <th>type</th>\n",
       "    </tr>\n",
       "    <tr>\n",
       "      <th>user_uid</th>\n",
       "      <th>element_uid</th>\n",
       "      <th>ts</th>\n",
       "      <th></th>\n",
       "      <th></th>\n",
       "      <th></th>\n",
       "      <th></th>\n",
       "      <th></th>\n",
       "      <th></th>\n",
       "      <th></th>\n",
       "      <th></th>\n",
       "    </tr>\n",
       "  </thead>\n",
       "  <tbody>\n",
       "    <tr>\n",
       "      <th rowspan=\"5\" valign=\"top\">0</th>\n",
       "      <th>51</th>\n",
       "      <th>4.416546e+07</th>\n",
       "      <td>watch</td>\n",
       "      <td>S</td>\n",
       "      <td>99.0</td>\n",
       "      <td>0.0</td>\n",
       "      <td>NaN</td>\n",
       "      <td>12382.0</td>\n",
       "      <td>3600</td>\n",
       "      <td>1</td>\n",
       "    </tr>\n",
       "    <tr>\n",
       "      <th>72</th>\n",
       "      <th>4.375829e+07</th>\n",
       "      <td>watch</td>\n",
       "      <td>S</td>\n",
       "      <td>99.0</td>\n",
       "      <td>0.0</td>\n",
       "      <td>NaN</td>\n",
       "      <td>5653.0</td>\n",
       "      <td>6000</td>\n",
       "      <td>1</td>\n",
       "    </tr>\n",
       "    <tr>\n",
       "      <th>207</th>\n",
       "      <th>4.371904e+07</th>\n",
       "      <td>watch</td>\n",
       "      <td>S</td>\n",
       "      <td>99.0</td>\n",
       "      <td>0.0</td>\n",
       "      <td>NaN</td>\n",
       "      <td>2646.0</td>\n",
       "      <td>5400</td>\n",
       "      <td>1</td>\n",
       "    </tr>\n",
       "    <tr>\n",
       "      <th>209</th>\n",
       "      <th>4.377814e+07</th>\n",
       "      <td>watch</td>\n",
       "      <td>S</td>\n",
       "      <td>99.0</td>\n",
       "      <td>0.0</td>\n",
       "      <td>NaN</td>\n",
       "      <td>6971.0</td>\n",
       "      <td>7200</td>\n",
       "      <td>1</td>\n",
       "    </tr>\n",
       "    <tr>\n",
       "      <th>434</th>\n",
       "      <th>4.338109e+07</th>\n",
       "      <td>watch</td>\n",
       "      <td>S</td>\n",
       "      <td>99.0</td>\n",
       "      <td>0.0</td>\n",
       "      <td>NaN</td>\n",
       "      <td>5894.0</td>\n",
       "      <td>6600</td>\n",
       "      <td>1</td>\n",
       "    </tr>\n",
       "  </tbody>\n",
       "</table>\n",
       "</div>"
      ],
      "text/plain": [
       "                                  action consumption_mode  \\\n",
       "user_uid element_uid ts                                     \n",
       "0        51          4.416546e+07  watch                S   \n",
       "         72          4.375829e+07  watch                S   \n",
       "         207         4.371904e+07  watch                S   \n",
       "         209         4.377814e+07  watch                S   \n",
       "         434         4.338109e+07  watch                S   \n",
       "\n",
       "                                   device_manufacturer  device_type  rating  \\\n",
       "user_uid element_uid ts                                                       \n",
       "0        51          4.416546e+07                 99.0          0.0     NaN   \n",
       "         72          4.375829e+07                 99.0          0.0     NaN   \n",
       "         207         4.371904e+07                 99.0          0.0     NaN   \n",
       "         209         4.377814e+07                 99.0          0.0     NaN   \n",
       "         434         4.338109e+07                 99.0          0.0     NaN   \n",
       "\n",
       "                                   watched_time  duration  type  \n",
       "user_uid element_uid ts                                          \n",
       "0        51          4.416546e+07       12382.0      3600     1  \n",
       "         72          4.375829e+07        5653.0      6000     1  \n",
       "         207         4.371904e+07        2646.0      5400     1  \n",
       "         209         4.377814e+07        6971.0      7200     1  \n",
       "         434         4.338109e+07        5894.0      6600     1  "
      ]
     },
     "execution_count": 10,
     "metadata": {},
     "output_type": "execute_result"
    }
   ],
   "source": [
    "actions.head()"
   ]
  },
  {
   "cell_type": "code",
   "execution_count": 11,
   "metadata": {},
   "outputs": [],
   "source": [
    "# Вроде не пересекается.\n",
    "train,test,valid = actions.iloc[idx[0]],actions.iloc[idx[1]],actions.iloc[idx[2]]"
   ]
  },
  {
   "cell_type": "code",
   "execution_count": 12,
   "metadata": {},
   "outputs": [
    {
     "name": "stdout",
     "output_type": "stream",
     "text": [
      "CPU times: user 1 µs, sys: 0 ns, total: 1 µs\n",
      "Wall time: 2.86 µs\n"
     ]
    }
   ],
   "source": [
    "%time \n",
    "dur_being_train,dur_films_train,watch_actions_train,target_train = get_target(train)\n",
    "dur_being_test,dur_films_test,watch_actions_test,target_test = get_target(test)\n",
    "dur_being_valid,dur_films_valid,watch_actions_valid,target_valid = get_target(valid)"
   ]
  },
  {
   "cell_type": "code",
   "execution_count": 13,
   "metadata": {},
   "outputs": [],
   "source": [
    "# Получили фичи для фильмов\n",
    "import pickle\n",
    "with open(PREPARED_PATH+'catalogue_features.pkl','rb') as f:\n",
    "    match_element_row,match_row_element,match_columns,element_matrix = pickle.load(f)\n",
    "movie_match_columns = {i:ii for ii,i in enumerate(match_columns)}\n",
    "movie_columns_match = {ii:i for ii,i in enumerate(match_columns)}\n",
    "\n",
    "with open(PREPARED_PATH+'bag_of_attr_movie.pkl','rb') as f:\n",
    "    bag_of_attr = pickle.load(f)"
   ]
  },
  {
   "cell_type": "code",
   "execution_count": 14,
   "metadata": {},
   "outputs": [
    {
     "name": "stderr",
     "output_type": "stream",
     "text": [
      "100%|██████████| 389188/389188 [03:26<00:00, 1880.74it/s]\n"
     ]
    },
    {
     "name": "stdout",
     "output_type": "stream",
     "text": [
      "(389188, 29221) 389188 29221\n"
     ]
    },
    {
     "data": {
      "text/plain": [
       "<validation_prepare.FeatureExtractor at 0x7fafc5fdadd8>"
      ]
     },
     "execution_count": 14,
     "metadata": {},
     "output_type": "execute_result"
    }
   ],
   "source": [
    "fe = FeatureExtractor({'movie_attr_matrix':element_matrix,'movie_match_columns':movie_match_columns,\n",
    "                       'movie_columns_match':movie_columns_match,'movie_match_row_movie':match_row_element,\n",
    "                      'movie_match_movie_row':match_element_row,},bag_of_attr,)\n",
    "fe.fit(train)"
   ]
  },
  {
   "cell_type": "code",
   "execution_count": 15,
   "metadata": {},
   "outputs": [
    {
     "name": "stdout",
     "output_type": "stream",
     "text": [
      "8015 389188\n",
      "(286374, 1) (281788, 3)\n",
      "(389188, 8015)\n",
      "8015 389188\n",
      "(85260, 1) (63113, 3)\n",
      "(389188, 8015)\n"
     ]
    },
    {
     "name": "stderr",
     "output_type": "stream",
     "text": [
      "100%|██████████| 35799/35799 [00:14<00:00, 2516.89it/s]\n"
     ]
    },
    {
     "data": {
      "text/plain": [
       "((8015, 29232), (251, 29232))"
      ]
     },
     "execution_count": 15,
     "metadata": {},
     "output_type": "execute_result"
    }
   ],
   "source": [
    "train_ = fe.transform(train)\n",
    "test_ = fe.transform(test)\n",
    "\n",
    "train_.shape,test_.shape \n",
    "\n",
    "cfe = ColdFeatureExtractor(fe)\n",
    "\n",
    "cfe.fit(train)\n",
    "\n",
    "max(cfe.train_movie_cols)\n",
    "\n",
    "# sp.csc_matrix(cfe.fitted_FE.movie_attr_matrix)[cfe.train_movie_rows,cfe.train_movie_cols]\n",
    "\n",
    "\n",
    "\n",
    "train_res = cfe.transform(test)\n",
    "\n",
    "\n",
    "print(train_res['train_user'].shape,train_res['test_user'].shape,train_res['new_test_user'].shape)\n",
    "\n",
    "print(train_res['train_movie'].shape,train_res['test_movie'].shape)"
   ]
  },
  {
   "cell_type": "code",
   "execution_count": 16,
   "metadata": {},
   "outputs": [],
   "source": [
    "# def fit_lightfm(train,item_features=None,seed = 0)\n",
    "seed = 0\n",
    "epochs = 30\n",
    "num_threads=4\n",
    "\n",
    "model = lightfm.LightFM(loss = 'warp',random_state=seed)\n",
    "\n",
    "\n",
    "# model.fit(train_matrix,user_features = train_user,item_features = element_matrix,epochs = epochs,num_threads = num_threads,\n",
    "#          verbose = True)\n"
   ]
  },
  {
   "cell_type": "code",
   "execution_count": null,
   "metadata": {},
   "outputs": [],
   "source": [
    "tr = old_old_tr_te_1['train_interactions']\n",
    "te = old_old_tr_te_1['test_interactions']\n",
    "# tr[(tr < 3) &  (tr>0)] = -1\n",
    "# tr[(tr > 3)] = 1\n",
    "# te[(tr < 3) &  (te>0)] = -1\n",
    "# te[(tr > 3)] = 1\n",
    "\n",
    "model.fit(train_matrix,epochs = epochs,num_threads = num_threads,\n",
    "         verbose = True)"
   ]
  },
  {
   "cell_type": "code",
   "execution_count": null,
   "metadata": {},
   "outputs": [],
   "source": [
    "te.shape"
   ]
  },
  {
   "cell_type": "code",
   "execution_count": null,
   "metadata": {},
   "outputs": [],
   "source": [
    "from lightfm.evaluation import auc_score,precision_at_k\n",
    "\n",
    "# Compute and print the AUC score\n",
    "train_auc = precision_at_k(model, te ,tr, k = 20,num_threads=4).mean()\n",
    "print('Collaborative filtering train AUC: %s' % train_auc)"
   ]
  },
  {
   "cell_type": "code",
   "execution_count": null,
   "metadata": {},
   "outputs": [],
   "source": [
    "new_old_tr_te_2.keys()"
   ]
  },
  {
   "cell_type": "code",
   "execution_count": null,
   "metadata": {},
   "outputs": [],
   "source": [
    "tr = new_old_tr_te_2['train_interactions']\n",
    "te = new_old_tr_te_2['test_interactions']\n",
    "uf = new_old_tr_te_2['user_features_train']\n",
    "tf = new_old_tr_te_2['user_features_test']\n",
    "print(tr.shape,te.shape,uf.shape,tf.shape)\n",
    "# tr[(tr < 3) &  (tr>0)] = -1\n",
    "# tr[(tr > 3)] = 1\n",
    "# te[(tr < 3) &  (te>0)] = -1\n",
    "# te[(tr > 3)] = 1\n",
    "\n",
    "model.fit(train_matrix,user_features=uf,epochs = epochs,num_threads =num_threads,\n",
    "         verbose = True)"
   ]
  },
  {
   "cell_type": "code",
   "execution_count": null,
   "metadata": {},
   "outputs": [],
   "source": [
    "from scipy.sparse import csr_matrix\n",
    "import matplotlib.pyplot as plt\n",
    "tf = csr_matrix(tf)"
   ]
  },
  {
   "cell_type": "code",
   "execution_count": null,
   "metadata": {},
   "outputs": [],
   "source": [
    "p = model.predict(0,np.arange(tr.shape[1]),user_features=tf[0,:],num_threads=num_threads)"
   ]
  },
  {
   "cell_type": "code",
   "execution_count": null,
   "metadata": {},
   "outputs": [],
   "source": [
    "plt.hist(p)"
   ]
  },
  {
   "cell_type": "code",
   "execution_count": null,
   "metadata": {},
   "outputs": [],
   "source": [
    "test_user[0,:]"
   ]
  },
  {
   "cell_type": "code",
   "execution_count": null,
   "metadata": {},
   "outputs": [],
   "source": []
  },
  {
   "cell_type": "code",
   "execution_count": null,
   "metadata": {},
   "outputs": [],
   "source": [
    "a = model.predict(0,np.arange(train_matrix.shape[1]),user_features=test_user[0,:],num_threads=num_threads)\n",
    "len(a)"
   ]
  },
  {
   "cell_type": "code",
   "execution_count": null,
   "metadata": {},
   "outputs": [],
   "source": []
  },
  {
   "cell_type": "code",
   "execution_count": null,
   "metadata": {},
   "outputs": [],
   "source": [
    "from lightfm.evaluation import auc_score,precision_at_k\n",
    "\n",
    "# Compute and print the AUC score\n",
    "train_auc = precision_at_k(model, train_matrix,user_features = train_user,item_features = element_matrix ,num_threads=num_threads).mean()\n",
    "print('Collaborative filtering train AUC: %s' % train_auc)"
   ]
  },
  {
   "cell_type": "code",
   "execution_count": null,
   "metadata": {},
   "outputs": [],
   "source": [
    "model.user_feature_map"
   ]
  },
  {
   "cell_type": "code",
   "execution_count": null,
   "metadata": {},
   "outputs": [],
   "source": [
    "def get_answer(test_users_dict,test):\n",
    "    pass"
   ]
  }
 ],
 "metadata": {
  "kernelspec": {
   "display_name": "Python 3",
   "language": "python",
   "name": "python3"
  },
  "language_info": {
   "codemirror_mode": {
    "name": "ipython",
    "version": 3
   },
   "file_extension": ".py",
   "mimetype": "text/x-python",
   "name": "python",
   "nbconvert_exporter": "python",
   "pygments_lexer": "ipython3",
   "version": "3.6.7"
  }
 },
 "nbformat": 4,
 "nbformat_minor": 2
}
