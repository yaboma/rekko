{
 "cells": [
  {
   "cell_type": "code",
   "execution_count": 1,
   "metadata": {},
   "outputs": [],
   "source": [
    "import os\n",
    "import json\n",
    "import pandas as pd\n",
    "import numpy as np\n",
    "import tqdm\n",
    "import scipy.sparse as sp\n",
    "\n",
    "import implicit\n",
    "import lightfm\n",
    "import warnings\n",
    "from validation_prepare import *\n",
    "warnings.filterwarnings('ignore')"
   ]
  },
  {
   "cell_type": "code",
   "execution_count": 2,
   "metadata": {},
   "outputs": [],
   "source": [
    "def get_recomend(model,X,fe,test_users,user_history_films,user_features = None,item_features = None,mode = 'lightfm',N = 20,is_filter_history = True):\n",
    "    # Сделаем какой-нибудь сабмит из lightfm\n",
    "    result = {}\n",
    "    #'implicit'#'lightfm'\n",
    "    cnt = 0\n",
    "    for user_uid in tqdm.tqdm(test_users):\n",
    "\n",
    "        # transform user_uid to model's internal user category\n",
    "        try:\n",
    "            user_cat = fe.match_user_row[user_uid]\n",
    "        except LookupError:\n",
    "            continue\n",
    "        \n",
    "        if mode == 'lightfm':\n",
    "            if is_filter_history:\n",
    "                need_cols = np.array(list(set(np.arange(X.shape[1])) - user_history_films.get(user_cat, set())))\n",
    "            else:\n",
    "                need_cols = np.array(list(set(np.arange(X.shape[1]))))\n",
    "            recs = model.predict(user_cat,need_cols,item_features=item_features,user_features=user_features)\n",
    "            need_movies = np.argsort(-recs)[:N]\n",
    "            result[user_uid] = [int(fe.train_movie_match_row_movie[i]) for i in need_movies]\n",
    "            \n",
    "                \n",
    "        # переводим в фильмы\n",
    "\n",
    "        # perform inference\n",
    "        if mode == 'implicit':\n",
    "            if cnt == 0:\n",
    "                ratings_matrix_T = X.tocsr()\n",
    "            if is_filter_history:\n",
    "                recs = model.recommend(\n",
    "                    user_cat,\n",
    "                    X.tocsr(),\n",
    "                    N=N,\n",
    "                    filter_already_liked_items=True,\n",
    "                    filter_items=user_history_films.get(user_uid, set())\n",
    "                )\n",
    "            else:\n",
    "                recs = model.recommend(\n",
    "                    user_cat,\n",
    "                    X.tocsr(),\n",
    "                    N=N,filter_already_liked_items=False,\n",
    "                )\n",
    "            result[user_uid] = [int(fe.train_movie_match_row_movie[i]) for i, _ in recs]\n",
    "            # drop scores and transform model's internal elelemnt category to element_uid for every prediction\n",
    "        # also convert np.uint64 to int so it could be json serialized later\n",
    "        cnt += 1\n",
    "    return result\n",
    "\n",
    "def get_predict (model,X,fe,test_users,user_history_films,user_features = None,item_features = None,mode = 'lightfm',):\n",
    "    # Сделаем какой-нибудь сабмит из lightfm\n",
    "    result = {}\n",
    "    #'implicit'#'lightfm'\n",
    "    cnt = 0\n",
    "    for user_uid in tqdm.tqdm(test_users):\n",
    "\n",
    "        # transform user_uid to model's internal user category\n",
    "        try:\n",
    "            user_cat = fe.match_user_row[user_uid]\n",
    "        except LookupError:\n",
    "            continue\n",
    "        \n",
    "        if mode == 'lightfm':\n",
    "#             if is_filter_history:\n",
    "#                 need_cols = np.array(list(set(np.arange(X.shape[1])) - user_history_films.get(user_cat, set())))\n",
    "#             else:\n",
    "            need_cols = np.array(list(set(np.arange(X.shape[1]))))\n",
    "            recs = model.predict(user_cat,need_cols,item_features=item_features,user_features=user_features)\n",
    "            #need_movies = np.argsort(-recs)[:N]\n",
    "            result[user_uid] = recs#[int(fe.train_movie_match_row_movie[i]) for i in need_movies]\n",
    "            \n",
    "                \n",
    "        # переводим в фильмы\n",
    "\n",
    "        # perform inference\n",
    "        if mode == 'implicit':\n",
    "            if cnt == 0:\n",
    "                ratings_matrix_T = X.tocsr()\n",
    "            \n",
    "            recs = model.rank_items(user_cat, X.tocsr(), np.arange(X.shape[1]), )\n",
    "            recs = sorted(recs,key = lambda x:x[0])\n",
    "            \n",
    "            result[user_uid] = [score for i, score in recs]\n",
    "            # drop scores and transform model's internal elelemnt category to element_uid for every prediction\n",
    "        # also convert np.uint64 to int so it could be json serialized later\n",
    "            cnt += 1\n",
    "    return result"
   ]
  },
  {
   "cell_type": "code",
   "execution_count": 3,
   "metadata": {},
   "outputs": [],
   "source": [
    "pd.set_option('display.max_columns',100)\n",
    "\n",
    "DATA_PATH = '../okko/orig_data'\n",
    "PREPARED_PATH = './prepared_data/'"
   ]
  },
  {
   "cell_type": "code",
   "execution_count": 4,
   "metadata": {},
   "outputs": [
    {
     "data": {
      "text/html": [
       "<div>\n",
       "<style scoped>\n",
       "    .dataframe tbody tr th:only-of-type {\n",
       "        vertical-align: middle;\n",
       "    }\n",
       "\n",
       "    .dataframe tbody tr th {\n",
       "        vertical-align: top;\n",
       "    }\n",
       "\n",
       "    .dataframe thead th {\n",
       "        text-align: right;\n",
       "    }\n",
       "</style>\n",
       "<table border=\"1\" class=\"dataframe\">\n",
       "  <thead>\n",
       "    <tr style=\"text-align: right;\">\n",
       "      <th></th>\n",
       "      <th></th>\n",
       "      <th></th>\n",
       "      <th>action</th>\n",
       "      <th>consumption_mode</th>\n",
       "      <th>device_manufacturer</th>\n",
       "      <th>device_type</th>\n",
       "      <th>rating</th>\n",
       "      <th>watched_time</th>\n",
       "      <th>duration</th>\n",
       "      <th>type</th>\n",
       "    </tr>\n",
       "    <tr>\n",
       "      <th>user_uid</th>\n",
       "      <th>element_uid</th>\n",
       "      <th>ts</th>\n",
       "      <th></th>\n",
       "      <th></th>\n",
       "      <th></th>\n",
       "      <th></th>\n",
       "      <th></th>\n",
       "      <th></th>\n",
       "      <th></th>\n",
       "      <th></th>\n",
       "    </tr>\n",
       "  </thead>\n",
       "  <tbody>\n",
       "    <tr>\n",
       "      <th rowspan=\"5\" valign=\"top\">0</th>\n",
       "      <th>51</th>\n",
       "      <th>4.416546e+07</th>\n",
       "      <td>watch</td>\n",
       "      <td>S</td>\n",
       "      <td>99.0</td>\n",
       "      <td>0.0</td>\n",
       "      <td>NaN</td>\n",
       "      <td>12382.0</td>\n",
       "      <td>3600</td>\n",
       "      <td>1</td>\n",
       "    </tr>\n",
       "    <tr>\n",
       "      <th>72</th>\n",
       "      <th>4.375829e+07</th>\n",
       "      <td>watch</td>\n",
       "      <td>S</td>\n",
       "      <td>99.0</td>\n",
       "      <td>0.0</td>\n",
       "      <td>NaN</td>\n",
       "      <td>5653.0</td>\n",
       "      <td>6000</td>\n",
       "      <td>1</td>\n",
       "    </tr>\n",
       "    <tr>\n",
       "      <th>207</th>\n",
       "      <th>4.371904e+07</th>\n",
       "      <td>watch</td>\n",
       "      <td>S</td>\n",
       "      <td>99.0</td>\n",
       "      <td>0.0</td>\n",
       "      <td>NaN</td>\n",
       "      <td>2646.0</td>\n",
       "      <td>5400</td>\n",
       "      <td>1</td>\n",
       "    </tr>\n",
       "    <tr>\n",
       "      <th>209</th>\n",
       "      <th>4.377814e+07</th>\n",
       "      <td>watch</td>\n",
       "      <td>S</td>\n",
       "      <td>99.0</td>\n",
       "      <td>0.0</td>\n",
       "      <td>NaN</td>\n",
       "      <td>6971.0</td>\n",
       "      <td>7200</td>\n",
       "      <td>1</td>\n",
       "    </tr>\n",
       "    <tr>\n",
       "      <th>434</th>\n",
       "      <th>4.338109e+07</th>\n",
       "      <td>watch</td>\n",
       "      <td>S</td>\n",
       "      <td>99.0</td>\n",
       "      <td>0.0</td>\n",
       "      <td>NaN</td>\n",
       "      <td>5894.0</td>\n",
       "      <td>6600</td>\n",
       "      <td>1</td>\n",
       "    </tr>\n",
       "  </tbody>\n",
       "</table>\n",
       "</div>"
      ],
      "text/plain": [
       "                                  action consumption_mode  \\\n",
       "user_uid element_uid ts                                     \n",
       "0        51          4.416546e+07  watch                S   \n",
       "         72          4.375829e+07  watch                S   \n",
       "         207         4.371904e+07  watch                S   \n",
       "         209         4.377814e+07  watch                S   \n",
       "         434         4.338109e+07  watch                S   \n",
       "\n",
       "                                   device_manufacturer  device_type  rating  \\\n",
       "user_uid element_uid ts                                                       \n",
       "0        51          4.416546e+07                 99.0          0.0     NaN   \n",
       "         72          4.375829e+07                 99.0          0.0     NaN   \n",
       "         207         4.371904e+07                 99.0          0.0     NaN   \n",
       "         209         4.377814e+07                 99.0          0.0     NaN   \n",
       "         434         4.338109e+07                 99.0          0.0     NaN   \n",
       "\n",
       "                                   watched_time  duration  type  \n",
       "user_uid element_uid ts                                          \n",
       "0        51          4.416546e+07       12382.0      3600     1  \n",
       "         72          4.375829e+07        5653.0      6000     1  \n",
       "         207         4.371904e+07        2646.0      5400     1  \n",
       "         209         4.377814e+07        6971.0      7200     1  \n",
       "         434         4.338109e+07        5894.0      6600     1  "
      ]
     },
     "execution_count": 4,
     "metadata": {},
     "output_type": "execute_result"
    }
   ],
   "source": [
    "actions = pd.read_pickle(PREPARED_PATH+'actions_one_table.pkl')\n",
    "\n",
    "actions.sort_index(inplace = True) # На всякий случай, иначе деление не будет работать\n",
    "\n",
    "actions.head()"
   ]
  },
  {
   "cell_type": "code",
   "execution_count": 5,
   "metadata": {},
   "outputs": [],
   "source": [
    "_,_,watch_actions,_ = get_target(actions)\n",
    "\n",
    "actions = actions.join(watch_actions['rel_dur'])\n",
    "\n",
    "actions['rel_dur'] = actions['rel_dur'].fillna(0).replace(np.inf,1)"
   ]
  },
  {
   "cell_type": "code",
   "execution_count": 6,
   "metadata": {},
   "outputs": [
    {
     "name": "stdout",
     "output_type": "stream",
     "text": [
      "6558458\n",
      "2186152\n",
      "2186153\n"
     ]
    }
   ],
   "source": [
    "idx = get_train_test(actions)"
   ]
  },
  {
   "cell_type": "code",
   "execution_count": 7,
   "metadata": {},
   "outputs": [
    {
     "data": {
      "text/plain": [
       "43362401.96226887"
      ]
     },
     "execution_count": 7,
     "metadata": {},
     "output_type": "execute_result"
    }
   ],
   "source": [
    "actions.iloc[idx[0]].index.get_level_values(2).max()"
   ]
  },
  {
   "cell_type": "code",
   "execution_count": 8,
   "metadata": {},
   "outputs": [
    {
     "data": {
      "text/plain": [
       "43362401.97085199"
      ]
     },
     "execution_count": 8,
     "metadata": {},
     "output_type": "execute_result"
    }
   ],
   "source": [
    "actions.iloc[idx[1]].index.get_level_values(2).min()"
   ]
  },
  {
   "cell_type": "code",
   "execution_count": 9,
   "metadata": {},
   "outputs": [
    {
     "data": {
      "text/plain": [
       "43828341.47903843"
      ]
     },
     "execution_count": 9,
     "metadata": {},
     "output_type": "execute_result"
    }
   ],
   "source": [
    "actions.iloc[idx[1]].index.get_level_values(2).max()"
   ]
  },
  {
   "cell_type": "code",
   "execution_count": 10,
   "metadata": {},
   "outputs": [
    {
     "data": {
      "text/plain": [
       "43828341.48519237"
      ]
     },
     "execution_count": 10,
     "metadata": {},
     "output_type": "execute_result"
    }
   ],
   "source": [
    "actions.iloc[idx[2]].index.get_level_values(2).min()"
   ]
  },
  {
   "cell_type": "code",
   "execution_count": 11,
   "metadata": {},
   "outputs": [
    {
     "data": {
      "text/plain": [
       "S    8296227\n",
       "P     873834\n",
       "R     472951\n",
       "Name: consumption_mode, dtype: int64"
      ]
     },
     "execution_count": 11,
     "metadata": {},
     "output_type": "execute_result"
    }
   ],
   "source": [
    "actions.consumption_mode.value_counts()"
   ]
  },
  {
   "cell_type": "code",
   "execution_count": 12,
   "metadata": {},
   "outputs": [],
   "source": [
    "with open(os.path.join(DATA_PATH, 'test_users.json'), 'r') as f:\n",
    "    test_users = set(json.load(f)['users'])\n"
   ]
  },
  {
   "cell_type": "code",
   "execution_count": 13,
   "metadata": {},
   "outputs": [
    {
     "data": {
      "text/html": [
       "<div>\n",
       "<style scoped>\n",
       "    .dataframe tbody tr th:only-of-type {\n",
       "        vertical-align: middle;\n",
       "    }\n",
       "\n",
       "    .dataframe tbody tr th {\n",
       "        vertical-align: top;\n",
       "    }\n",
       "\n",
       "    .dataframe thead th {\n",
       "        text-align: right;\n",
       "    }\n",
       "</style>\n",
       "<table border=\"1\" class=\"dataframe\">\n",
       "  <thead>\n",
       "    <tr style=\"text-align: right;\">\n",
       "      <th></th>\n",
       "      <th></th>\n",
       "      <th></th>\n",
       "      <th>action</th>\n",
       "      <th>consumption_mode</th>\n",
       "      <th>device_manufacturer</th>\n",
       "      <th>device_type</th>\n",
       "      <th>rating</th>\n",
       "      <th>watched_time</th>\n",
       "      <th>duration</th>\n",
       "      <th>type</th>\n",
       "      <th>rel_dur</th>\n",
       "    </tr>\n",
       "    <tr>\n",
       "      <th>user_uid</th>\n",
       "      <th>element_uid</th>\n",
       "      <th>ts</th>\n",
       "      <th></th>\n",
       "      <th></th>\n",
       "      <th></th>\n",
       "      <th></th>\n",
       "      <th></th>\n",
       "      <th></th>\n",
       "      <th></th>\n",
       "      <th></th>\n",
       "      <th></th>\n",
       "    </tr>\n",
       "  </thead>\n",
       "  <tbody>\n",
       "    <tr>\n",
       "      <th rowspan=\"5\" valign=\"top\">0</th>\n",
       "      <th>51</th>\n",
       "      <th>4.416546e+07</th>\n",
       "      <td>watch</td>\n",
       "      <td>S</td>\n",
       "      <td>99.0</td>\n",
       "      <td>0.0</td>\n",
       "      <td>NaN</td>\n",
       "      <td>12382.0</td>\n",
       "      <td>3600</td>\n",
       "      <td>1</td>\n",
       "      <td>3.439444</td>\n",
       "    </tr>\n",
       "    <tr>\n",
       "      <th>72</th>\n",
       "      <th>4.375829e+07</th>\n",
       "      <td>watch</td>\n",
       "      <td>S</td>\n",
       "      <td>99.0</td>\n",
       "      <td>0.0</td>\n",
       "      <td>NaN</td>\n",
       "      <td>5653.0</td>\n",
       "      <td>6000</td>\n",
       "      <td>1</td>\n",
       "      <td>0.942167</td>\n",
       "    </tr>\n",
       "    <tr>\n",
       "      <th>207</th>\n",
       "      <th>4.371904e+07</th>\n",
       "      <td>watch</td>\n",
       "      <td>S</td>\n",
       "      <td>99.0</td>\n",
       "      <td>0.0</td>\n",
       "      <td>NaN</td>\n",
       "      <td>2646.0</td>\n",
       "      <td>5400</td>\n",
       "      <td>1</td>\n",
       "      <td>0.490000</td>\n",
       "    </tr>\n",
       "    <tr>\n",
       "      <th>209</th>\n",
       "      <th>4.377814e+07</th>\n",
       "      <td>watch</td>\n",
       "      <td>S</td>\n",
       "      <td>99.0</td>\n",
       "      <td>0.0</td>\n",
       "      <td>NaN</td>\n",
       "      <td>6971.0</td>\n",
       "      <td>7200</td>\n",
       "      <td>1</td>\n",
       "      <td>0.968194</td>\n",
       "    </tr>\n",
       "    <tr>\n",
       "      <th>434</th>\n",
       "      <th>4.338109e+07</th>\n",
       "      <td>watch</td>\n",
       "      <td>S</td>\n",
       "      <td>99.0</td>\n",
       "      <td>0.0</td>\n",
       "      <td>NaN</td>\n",
       "      <td>5894.0</td>\n",
       "      <td>6600</td>\n",
       "      <td>1</td>\n",
       "      <td>0.893030</td>\n",
       "    </tr>\n",
       "  </tbody>\n",
       "</table>\n",
       "</div>"
      ],
      "text/plain": [
       "                                  action consumption_mode  \\\n",
       "user_uid element_uid ts                                     \n",
       "0        51          4.416546e+07  watch                S   \n",
       "         72          4.375829e+07  watch                S   \n",
       "         207         4.371904e+07  watch                S   \n",
       "         209         4.377814e+07  watch                S   \n",
       "         434         4.338109e+07  watch                S   \n",
       "\n",
       "                                   device_manufacturer  device_type  rating  \\\n",
       "user_uid element_uid ts                                                       \n",
       "0        51          4.416546e+07                 99.0          0.0     NaN   \n",
       "         72          4.375829e+07                 99.0          0.0     NaN   \n",
       "         207         4.371904e+07                 99.0          0.0     NaN   \n",
       "         209         4.377814e+07                 99.0          0.0     NaN   \n",
       "         434         4.338109e+07                 99.0          0.0     NaN   \n",
       "\n",
       "                                   watched_time  duration  type   rel_dur  \n",
       "user_uid element_uid ts                                                    \n",
       "0        51          4.416546e+07       12382.0      3600     1  3.439444  \n",
       "         72          4.375829e+07        5653.0      6000     1  0.942167  \n",
       "         207         4.371904e+07        2646.0      5400     1  0.490000  \n",
       "         209         4.377814e+07        6971.0      7200     1  0.968194  \n",
       "         434         4.338109e+07        5894.0      6600     1  0.893030  "
      ]
     },
     "execution_count": 13,
     "metadata": {},
     "output_type": "execute_result"
    }
   ],
   "source": [
    "actions.head()"
   ]
  },
  {
   "cell_type": "code",
   "execution_count": 14,
   "metadata": {},
   "outputs": [],
   "source": [
    "# Вроде не пересекается.\n",
    "train,test,valid = actions.iloc[idx[0]],actions.iloc[idx[1]],actions.iloc[idx[2]]"
   ]
  },
  {
   "cell_type": "code",
   "execution_count": 15,
   "metadata": {},
   "outputs": [
    {
     "name": "stdout",
     "output_type": "stream",
     "text": [
      "CPU times: user 3 µs, sys: 0 ns, total: 3 µs\n",
      "Wall time: 7.15 µs\n"
     ]
    }
   ],
   "source": [
    "%time \n",
    "dur_being_train,dur_films_train,watch_actions_train,target_train = get_target(train)\n",
    "dur_being_test,dur_films_test,watch_actions_test,target_test = get_target(test)\n",
    "dur_being_valid,dur_films_valid,watch_actions_valid,target_valid = get_target(valid)"
   ]
  },
  {
   "cell_type": "code",
   "execution_count": null,
   "metadata": {},
   "outputs": [],
   "source": []
  },
  {
   "cell_type": "code",
   "execution_count": 16,
   "metadata": {},
   "outputs": [],
   "source": [
    "# Получили фичи для фильмов\n",
    "import pickle\n",
    "with open(PREPARED_PATH+'catalogue_features.pkl','rb') as f:\n",
    "    match_element_row,match_row_element,match_columns,element_matrix = pickle.load(f)\n",
    "movie_match_columns = {i:ii for ii,i in enumerate(match_columns)}\n",
    "movie_columns_match = {ii:i for ii,i in enumerate(match_columns)}\n",
    "\n",
    "with open(PREPARED_PATH+'bag_of_attr_movie.pkl','rb') as f:\n",
    "    bag_of_attr = pickle.load(f)"
   ]
  },
  {
   "cell_type": "code",
   "execution_count": 17,
   "metadata": {},
   "outputs": [
    {
     "name": "stderr",
     "output_type": "stream",
     "text": [
      "100%|██████████| 389188/389188 [03:19<00:00, 1946.98it/s]\n"
     ]
    },
    {
     "name": "stdout",
     "output_type": "stream",
     "text": [
      "(389188, 29221) 389188 29221\n"
     ]
    },
    {
     "data": {
      "text/plain": [
       "<validation_prepare.FeatureExtractor at 0x7f344265c208>"
      ]
     },
     "execution_count": 17,
     "metadata": {},
     "output_type": "execute_result"
    }
   ],
   "source": [
    "fe = FeatureExtractor({'movie_attr_matrix':element_matrix,'movie_match_columns':movie_match_columns,\n",
    "                       'movie_columns_match':movie_columns_match,'movie_match_row_movie':match_row_element,\n",
    "                      'movie_match_movie_row':match_element_row,},bag_of_attr,is_censor = True,delimiter=-1,mode = 'duration',\n",
    "                     target_col_name='rel_dur')\n",
    "\n",
    "fe = FeatureExtractor({'movie_attr_matrix':element_matrix,'movie_match_columns':movie_match_columns,\n",
    "                       'movie_columns_match':movie_columns_match,'movie_match_row_movie':match_row_element,\n",
    "                      'movie_match_movie_row':match_element_row,},bag_of_attr,is_censor =False,delimiter=4,)\n",
    "\n",
    "fe.fit(train)"
   ]
  },
  {
   "cell_type": "code",
   "execution_count": null,
   "metadata": {},
   "outputs": [],
   "source": []
  },
  {
   "cell_type": "code",
   "execution_count": 18,
   "metadata": {},
   "outputs": [
    {
     "name": "stdout",
     "output_type": "stream",
     "text": [
      "8015 389188\n",
      "(286374, 1) (281788, 3)\n",
      "(389188, 8015)\n",
      "8015 389188\n",
      "(85260, 1) (63113, 3)\n",
      "(389188, 8015)\n",
      "8015 389188\n",
      "(67156, 1) (44606, 3)\n",
      "(389188, 8015)\n"
     ]
    },
    {
     "name": "stderr",
     "output_type": "stream",
     "text": [
      "100%|██████████| 35799/35799 [00:13<00:00, 2601.27it/s]\n"
     ]
    },
    {
     "name": "stdout",
     "output_type": "stream",
     "text": [
      "(389188, 29221) (389188, 29221) (6654, 29221)\n",
      "(8015, 29232) (251, 29232)\n"
     ]
    }
   ],
   "source": [
    "train_ = fe.transform(train)\n",
    "test_ = fe.transform(test)\n",
    "valid_ = fe.transform(valid)\n",
    "\n",
    "train_.shape,test_.shape \n",
    "\n",
    "cfe = ColdFeatureExtractor(fe)\n",
    "\n",
    "cfe.fit(train)\n",
    "\n",
    "max(cfe.train_movie_cols)\n",
    "\n",
    "# sp.csc_matrix(cfe.fitted_FE.movie_attr_matrix)[cfe.train_movie_rows,cfe.train_movie_cols]\n",
    "\n",
    "\n",
    "\n",
    "train_res = cfe.transform(test)\n",
    "\n",
    "\n",
    "print(train_res['train_user'].shape,train_res['test_user'].shape,train_res['new_test_user'].shape)\n",
    "\n",
    "print(train_res['train_movie'].shape,train_res['test_movie'].shape)"
   ]
  },
  {
   "cell_type": "code",
   "execution_count": 19,
   "metadata": {},
   "outputs": [
    {
     "data": {
      "text/plain": [
       "0.0"
      ]
     },
     "execution_count": 19,
     "metadata": {},
     "output_type": "execute_result"
    }
   ],
   "source": [
    "np.min(train_)"
   ]
  },
  {
   "cell_type": "code",
   "execution_count": 20,
   "metadata": {},
   "outputs": [
    {
     "data": {
      "text/plain": [
       "'\\nЗдесь начинается русское поле экспериментов над параметрами моделей.\\n'"
      ]
     },
     "execution_count": 20,
     "metadata": {},
     "output_type": "execute_result"
    }
   ],
   "source": [
    "'''\n",
    "Здесь начинается русское поле экспериментов над параметрами моделей.\n",
    "'''"
   ]
  },
  {
   "cell_type": "code",
   "execution_count": 21,
   "metadata": {},
   "outputs": [
    {
     "data": {
      "text/plain": [
       "((389188, 8015), (389188, 8015), (389188, 8015))"
      ]
     },
     "execution_count": 21,
     "metadata": {},
     "output_type": "execute_result"
    }
   ],
   "source": [
    "train_.shape,test_.shape,valid_.shape"
   ]
  },
  {
   "cell_type": "code",
   "execution_count": 22,
   "metadata": {},
   "outputs": [
    {
     "data": {
      "text/plain": [
       "<8015x29232 sparse matrix of type '<class 'numpy.float64'>'\n",
       "\twith 204594 stored elements in Compressed Sparse Row format>"
      ]
     },
     "execution_count": 22,
     "metadata": {},
     "output_type": "execute_result"
    }
   ],
   "source": [
    "train_res['train_movie']"
   ]
  },
  {
   "cell_type": "code",
   "execution_count": 23,
   "metadata": {},
   "outputs": [
    {
     "name": "stderr",
     "output_type": "stream",
     "text": [
      "100%|██████████| 281264/281264 [00:01<00:00, 251883.72it/s]\n",
      "100%|██████████| 63024/63024 [00:00<00:00, 219041.97it/s]\n",
      "100%|██████████| 44525/44525 [00:00<00:00, 284423.58it/s]"
     ]
    },
    {
     "name": "stdout",
     "output_type": "stream",
     "text": [
      "CPU times: user 1.55 s, sys: 22.7 ms, total: 1.58 s\n",
      "Wall time: 1.57 s\n"
     ]
    },
    {
     "name": "stderr",
     "output_type": "stream",
     "text": [
      "\n"
     ]
    }
   ],
   "source": [
    "%%time\n",
    "from collections import defaultdict\n",
    "a,b = train_.nonzero()\n",
    "D_row_col_train = defaultdict(set)\n",
    "D_user_movie_train = defaultdict(set)\n",
    "for i,ii in tqdm.tqdm(zip(a,b),total = len(a)):\n",
    "    D_row_col_train[i].add(ii)\n",
    "    D_user_movie_train[fe.match_row_user[i]].add(fe.train_movie_match_row_movie[ii])\n",
    "\n",
    "from collections import defaultdict\n",
    "a,b = test_.nonzero()\n",
    "D_row_col_test = defaultdict(set)\n",
    "D_user_movie_test = defaultdict(set)\n",
    "for i,ii in tqdm.tqdm(zip(a,b),total = len(a)):\n",
    "    D_row_col_test[i].add(ii)\n",
    "    D_user_movie_test[fe.match_row_user[i]].add(fe.train_movie_match_row_movie[ii])\n",
    "\n",
    "from collections import defaultdict\n",
    "a,b = valid_.nonzero()\n",
    "D_row_col_valid = defaultdict(set)\n",
    "D_user_movie_valid = defaultdict(set)\n",
    "for i,ii in tqdm.tqdm(zip(a,b),total = len(a)):\n",
    "    D_row_col_valid[i].add(ii)\n",
    "    D_user_movie_valid[fe.match_row_user[i]].add(fe.train_movie_match_row_movie[ii])"
   ]
  },
  {
   "cell_type": "code",
   "execution_count": 24,
   "metadata": {},
   "outputs": [],
   "source": [
    "\n",
    "seed = 0\n",
    "epochs = 30\n",
    "num_threads=4\n",
    "\n",
    "model = lightfm.LightFM(loss = 'warp',random_state=seed)"
   ]
  },
  {
   "cell_type": "code",
   "execution_count": 25,
   "metadata": {},
   "outputs": [],
   "source": [
    "from implicit.nearest_neighbours import TFIDFRecommender,CosineRecommender,NearestNeighboursScorer,BM25Recommender,bm25_weight\n",
    "from implicit.als import AlternatingLeastSquares\n",
    "from implicit.evaluation import mean_average_precision_at_k,precision_at_k"
   ]
  },
  {
   "cell_type": "code",
   "execution_count": 26,
   "metadata": {},
   "outputs": [],
   "source": [
    "from lightfm.evaluation import precision_at_k,auc_score"
   ]
  },
  {
   "cell_type": "code",
   "execution_count": 27,
   "metadata": {},
   "outputs": [
    {
     "data": {
      "text/plain": [
       "10.0"
      ]
     },
     "execution_count": 27,
     "metadata": {},
     "output_type": "execute_result"
    }
   ],
   "source": [
    "np.max(train_)"
   ]
  },
  {
   "cell_type": "code",
   "execution_count": 28,
   "metadata": {},
   "outputs": [
    {
     "name": "stderr",
     "output_type": "stream",
     "text": [
      "100%|██████████| 8015/8015 [00:00<00:00, 239801.88it/s]\n"
     ]
    }
   ],
   "source": [
    "model_im = BM25Recommender()#CosineRecommender()\n",
    "model_im.fit(train_.T)"
   ]
  },
  {
   "cell_type": "code",
   "execution_count": null,
   "metadata": {},
   "outputs": [],
   "source": []
  },
  {
   "cell_type": "code",
   "execution_count": 29,
   "metadata": {},
   "outputs": [],
   "source": [
    "# recs_model_im_test = get_predict(model_im,train_,fe,D_user_movie_test.keys(),D_row_col_train,mode = 'implicit')\n",
    "\n",
    "# list(recs_model_im_test.keys())[0]\n",
    "\n",
    "# len(recs_model_im_test[17])"
   ]
  },
  {
   "cell_type": "code",
   "execution_count": 30,
   "metadata": {},
   "outputs": [
    {
     "data": {
      "text/plain": [
       "<lightfm.lightfm.LightFM at 0x7f33fffc1710>"
      ]
     },
     "execution_count": 30,
     "metadata": {},
     "output_type": "execute_result"
    }
   ],
   "source": [
    "model = lightfm.LightFM(loss = 'logistic',random_state=seed,max_sampled=100,no_components=100)\n",
    "model.fit(train_,epochs=30,)"
   ]
  },
  {
   "cell_type": "code",
   "execution_count": 31,
   "metadata": {},
   "outputs": [],
   "source": [
    "# Здесь простецкий стекинг делать"
   ]
  },
  {
   "cell_type": "code",
   "execution_count": 32,
   "metadata": {},
   "outputs": [
    {
     "name": "stderr",
     "output_type": "stream",
     "text": [
      "100%|██████████| 26360/26360 [01:31<00:00, 286.82it/s]\n"
     ]
    },
    {
     "data": {
      "text/plain": [
       "8015"
      ]
     },
     "execution_count": 32,
     "metadata": {},
     "output_type": "execute_result"
    }
   ],
   "source": [
    "recs_model_test = get_predict(model,train_,fe,D_user_movie_test.keys(),D_row_col_train,mode = 'lightfm')\n",
    "len(recs_model_test[list(recs_model_test.keys())[0]])\n",
    "len(recs_model_test[17])"
   ]
  },
  {
   "cell_type": "code",
   "execution_count": 34,
   "metadata": {},
   "outputs": [
    {
     "name": "stderr",
     "output_type": "stream",
     "text": [
      "100%|██████████| 19605/19605 [01:11<00:00, 274.42it/s]\n"
     ]
    },
    {
     "data": {
      "text/plain": [
       "8015"
      ]
     },
     "execution_count": 34,
     "metadata": {},
     "output_type": "execute_result"
    }
   ],
   "source": [
    "recs_model_valid = get_predict(model,train_,fe,D_user_movie_valid.keys(),D_row_col_train,mode = 'lightfm')\n",
    "len(recs_model_valid[list(recs_model_valid.keys())[0]])\n",
    "#len(recs_model_valid[17])"
   ]
  },
  {
   "cell_type": "code",
   "execution_count": 35,
   "metadata": {},
   "outputs": [
    {
     "name": "stderr",
     "output_type": "stream",
     "text": [
      "100%|██████████| 50000/50000 [02:24<00:00, 345.37it/s]\n"
     ]
    },
    {
     "data": {
      "text/plain": [
       "(8015, 39299)"
      ]
     },
     "execution_count": 35,
     "metadata": {},
     "output_type": "execute_result"
    }
   ],
   "source": [
    "recs_model_test_true = get_predict(model,train_,fe,test_users,D_row_col_train,mode = 'lightfm')\n",
    "len(recs_model_test_true[list(recs_model_test_true.keys())[0]]),len(recs_model_test_true)"
   ]
  },
  {
   "cell_type": "code",
   "execution_count": 36,
   "metadata": {},
   "outputs": [],
   "source": [
    "with open(os.path.join(DATA_PATH, 'catalogue.json'), 'r') as f:\n",
    "    catalogue = json.load(f)\n",
    "    \n",
    "catalogue = {int(k): v for k, v in catalogue.items()}"
   ]
  },
  {
   "cell_type": "code",
   "execution_count": 51,
   "metadata": {},
   "outputs": [],
   "source": [
    "def get_movie_feat(movie_id,data_catalogue_orig):\n",
    "    l = catalogue[movie_id]['attributes']\n",
    "    return {i:1 for i in l}\n",
    "def convert_to_range(X,data_catalogue_orig,path = PREPARED_PATH+'train.txt', label_name = 'target',need_feat = None):\n",
    "    '''\n",
    "    конвертируем в libsvm вместе с query файлом\n",
    "    '''\n",
    "    # Сначала рейтинг 0...10\n",
    "    buf_tr = []\n",
    "    buf_query = []\n",
    "    for i in tqdm.tqdm(np.unique(X.index.get_level_values(0))):\n",
    "        cnt_film = 0\n",
    "        temp = X.loc[i]\n",
    "        for movie_id in temp.index.get_level_values(0):\n",
    "            row = temp.loc[movie_id,need_feat].to_dict()\n",
    "            dict_row = get_movie_feat(movie_id,data_catalogue_orig)\n",
    "            dict_row.update(row)\n",
    "            s_movie = str(int(temp.loc[movie_id,label_name]))+' '\n",
    "            for k,kk in dict_row.items():\n",
    "                s_movie+= str(k)+':'+str(kk)+' '\n",
    "            s_movie+='\\n'\n",
    "            buf_tr.append(s_movie)\n",
    "            cnt_film+=1\n",
    "        buf_query.append(str(cnt_film)+'\\n')\n",
    "    with open(path,'w') as f:\n",
    "        for i in buf_tr:\n",
    "            f.write(i)\n",
    "    with open(path+'.query','w') as f:\n",
    "        for i in buf_query:\n",
    "            f.write(i)"
   ]
  },
  {
   "cell_type": "code",
   "execution_count": 52,
   "metadata": {},
   "outputs": [],
   "source": [
    "wm = pd.read_pickle(PREPARED_PATH+'some_wm.pkl')\n",
    "wm_cut = wm.loc[~wm.rating.isnull()]"
   ]
  },
  {
   "cell_type": "code",
   "execution_count": 53,
   "metadata": {},
   "outputs": [
    {
     "data": {
      "text/html": [
       "<div>\n",
       "<style scoped>\n",
       "    .dataframe tbody tr th:only-of-type {\n",
       "        vertical-align: middle;\n",
       "    }\n",
       "\n",
       "    .dataframe tbody tr th {\n",
       "        vertical-align: top;\n",
       "    }\n",
       "\n",
       "    .dataframe thead th {\n",
       "        text-align: right;\n",
       "    }\n",
       "</style>\n",
       "<table border=\"1\" class=\"dataframe\">\n",
       "  <thead>\n",
       "    <tr style=\"text-align: right;\">\n",
       "      <th></th>\n",
       "      <th></th>\n",
       "      <th>rel_dur</th>\n",
       "      <th>type</th>\n",
       "      <th>rating</th>\n",
       "      <th>action_enc</th>\n",
       "      <th>cons_enc</th>\n",
       "      <th>first_ts</th>\n",
       "      <th>first_ts_1</th>\n",
       "      <th>diff_ts</th>\n",
       "      <th>duration</th>\n",
       "      <th>feature_1</th>\n",
       "      <th>feature_2</th>\n",
       "      <th>feature_3</th>\n",
       "      <th>feature_4</th>\n",
       "      <th>feature_5</th>\n",
       "      <th>is_history</th>\n",
       "      <th>is_future</th>\n",
       "      <th>diff_novice_ts</th>\n",
       "      <th>target</th>\n",
       "      <th>mean_rating_user</th>\n",
       "      <th>num_watched_user</th>\n",
       "      <th>mean_target_user</th>\n",
       "      <th>mean_rating_movie</th>\n",
       "      <th>num_watched_movie</th>\n",
       "      <th>mean_target_movie</th>\n",
       "      <th>probably_kp_rate</th>\n",
       "    </tr>\n",
       "    <tr>\n",
       "      <th>user_uid</th>\n",
       "      <th>element_uid</th>\n",
       "      <th></th>\n",
       "      <th></th>\n",
       "      <th></th>\n",
       "      <th></th>\n",
       "      <th></th>\n",
       "      <th></th>\n",
       "      <th></th>\n",
       "      <th></th>\n",
       "      <th></th>\n",
       "      <th></th>\n",
       "      <th></th>\n",
       "      <th></th>\n",
       "      <th></th>\n",
       "      <th></th>\n",
       "      <th></th>\n",
       "      <th></th>\n",
       "      <th></th>\n",
       "      <th></th>\n",
       "      <th></th>\n",
       "      <th></th>\n",
       "      <th></th>\n",
       "      <th></th>\n",
       "      <th></th>\n",
       "      <th></th>\n",
       "      <th></th>\n",
       "    </tr>\n",
       "  </thead>\n",
       "  <tbody>\n",
       "    <tr>\n",
       "      <th rowspan=\"3\" valign=\"top\">1</th>\n",
       "      <th>1653</th>\n",
       "      <td>1.005185</td>\n",
       "      <td>1.0</td>\n",
       "      <td>10.0</td>\n",
       "      <td>watch+rate</td>\n",
       "      <td>R</td>\n",
       "      <td>4.202058e+07</td>\n",
       "      <td>4.424958e+07</td>\n",
       "      <td>177102.426069</td>\n",
       "      <td>90</td>\n",
       "      <td>4.166108e+07</td>\n",
       "      <td>0.733306</td>\n",
       "      <td>18</td>\n",
       "      <td>1.141929</td>\n",
       "      <td>0.449667</td>\n",
       "      <td>1</td>\n",
       "      <td>0</td>\n",
       "      <td>-1.0</td>\n",
       "      <td>1</td>\n",
       "      <td>9.666667</td>\n",
       "      <td>21</td>\n",
       "      <td>0.761905</td>\n",
       "      <td>8.879898</td>\n",
       "      <td>11152</td>\n",
       "      <td>0.884953</td>\n",
       "      <td>0.837383</td>\n",
       "    </tr>\n",
       "    <tr>\n",
       "      <th>2245</th>\n",
       "      <td>1.024394</td>\n",
       "      <td>1.0</td>\n",
       "      <td>10.0</td>\n",
       "      <td>watch+rate</td>\n",
       "      <td>S</td>\n",
       "      <td>4.222738e+07</td>\n",
       "      <td>4.219768e+07</td>\n",
       "      <td>4771.864115</td>\n",
       "      <td>110</td>\n",
       "      <td>4.097526e+07</td>\n",
       "      <td>0.784022</td>\n",
       "      <td>45</td>\n",
       "      <td>1.140273</td>\n",
       "      <td>0.449667</td>\n",
       "      <td>1</td>\n",
       "      <td>0</td>\n",
       "      <td>-1.0</td>\n",
       "      <td>1</td>\n",
       "      <td>9.666667</td>\n",
       "      <td>21</td>\n",
       "      <td>0.761905</td>\n",
       "      <td>8.952146</td>\n",
       "      <td>54153</td>\n",
       "      <td>0.753642</td>\n",
       "      <td>0.893999</td>\n",
       "    </tr>\n",
       "    <tr>\n",
       "      <th>10084</th>\n",
       "      <td>0.000000</td>\n",
       "      <td>1.0</td>\n",
       "      <td>9.0</td>\n",
       "      <td>rate</td>\n",
       "      <td>NaN</td>\n",
       "      <td>4.225600e+07</td>\n",
       "      <td>4.223215e+07</td>\n",
       "      <td>3722.295050</td>\n",
       "      <td>80</td>\n",
       "      <td>4.074168e+07</td>\n",
       "      <td>0.687308</td>\n",
       "      <td>19</td>\n",
       "      <td>1.138604</td>\n",
       "      <td>0.680410</td>\n",
       "      <td>1</td>\n",
       "      <td>0</td>\n",
       "      <td>-1.0</td>\n",
       "      <td>-1</td>\n",
       "      <td>9.666667</td>\n",
       "      <td>21</td>\n",
       "      <td>0.761905</td>\n",
       "      <td>7.384956</td>\n",
       "      <td>23946</td>\n",
       "      <td>0.666500</td>\n",
       "      <td>0.782572</td>\n",
       "    </tr>\n",
       "    <tr>\n",
       "      <th>3</th>\n",
       "      <th>6409</th>\n",
       "      <td>1.221000</td>\n",
       "      <td>1.0</td>\n",
       "      <td>10.0</td>\n",
       "      <td>watch+rate</td>\n",
       "      <td>P</td>\n",
       "      <td>4.259758e+07</td>\n",
       "      <td>4.259721e+07</td>\n",
       "      <td>99080.013576</td>\n",
       "      <td>100</td>\n",
       "      <td>4.250043e+07</td>\n",
       "      <td>0.769551</td>\n",
       "      <td>13</td>\n",
       "      <td>1.138604</td>\n",
       "      <td>0.654707</td>\n",
       "      <td>0</td>\n",
       "      <td>0</td>\n",
       "      <td>-1.0</td>\n",
       "      <td>1</td>\n",
       "      <td>10.000000</td>\n",
       "      <td>54</td>\n",
       "      <td>0.555556</td>\n",
       "      <td>8.710054</td>\n",
       "      <td>19196</td>\n",
       "      <td>0.923422</td>\n",
       "      <td>0.876214</td>\n",
       "    </tr>\n",
       "    <tr>\n",
       "      <th>14</th>\n",
       "      <th>1354</th>\n",
       "      <td>0.992500</td>\n",
       "      <td>1.0</td>\n",
       "      <td>7.0</td>\n",
       "      <td>watch+rate</td>\n",
       "      <td>R</td>\n",
       "      <td>4.313770e+07</td>\n",
       "      <td>4.253438e+07</td>\n",
       "      <td>32361.807478</td>\n",
       "      <td>100</td>\n",
       "      <td>4.136723e+07</td>\n",
       "      <td>0.655429</td>\n",
       "      <td>14</td>\n",
       "      <td>1.141929</td>\n",
       "      <td>0.680410</td>\n",
       "      <td>1</td>\n",
       "      <td>0</td>\n",
       "      <td>-1.0</td>\n",
       "      <td>1</td>\n",
       "      <td>7.000000</td>\n",
       "      <td>8</td>\n",
       "      <td>1.000000</td>\n",
       "      <td>7.529058</td>\n",
       "      <td>4651</td>\n",
       "      <td>0.911847</td>\n",
       "      <td>0.748454</td>\n",
       "    </tr>\n",
       "  </tbody>\n",
       "</table>\n",
       "</div>"
      ],
      "text/plain": [
       "                       rel_dur  type  rating  action_enc cons_enc  \\\n",
       "user_uid element_uid                                                \n",
       "1        1653         1.005185   1.0    10.0  watch+rate        R   \n",
       "         2245         1.024394   1.0    10.0  watch+rate        S   \n",
       "         10084        0.000000   1.0     9.0        rate      NaN   \n",
       "3        6409         1.221000   1.0    10.0  watch+rate        P   \n",
       "14       1354         0.992500   1.0     7.0  watch+rate        R   \n",
       "\n",
       "                          first_ts    first_ts_1        diff_ts  duration  \\\n",
       "user_uid element_uid                                                        \n",
       "1        1653         4.202058e+07  4.424958e+07  177102.426069        90   \n",
       "         2245         4.222738e+07  4.219768e+07    4771.864115       110   \n",
       "         10084        4.225600e+07  4.223215e+07    3722.295050        80   \n",
       "3        6409         4.259758e+07  4.259721e+07   99080.013576       100   \n",
       "14       1354         4.313770e+07  4.253438e+07   32361.807478       100   \n",
       "\n",
       "                         feature_1  feature_2  feature_3  feature_4  \\\n",
       "user_uid element_uid                                                  \n",
       "1        1653         4.166108e+07   0.733306         18   1.141929   \n",
       "         2245         4.097526e+07   0.784022         45   1.140273   \n",
       "         10084        4.074168e+07   0.687308         19   1.138604   \n",
       "3        6409         4.250043e+07   0.769551         13   1.138604   \n",
       "14       1354         4.136723e+07   0.655429         14   1.141929   \n",
       "\n",
       "                      feature_5  is_history  is_future  diff_novice_ts  \\\n",
       "user_uid element_uid                                                     \n",
       "1        1653          0.449667           1          0            -1.0   \n",
       "         2245          0.449667           1          0            -1.0   \n",
       "         10084         0.680410           1          0            -1.0   \n",
       "3        6409          0.654707           0          0            -1.0   \n",
       "14       1354          0.680410           1          0            -1.0   \n",
       "\n",
       "                      target  mean_rating_user  num_watched_user  \\\n",
       "user_uid element_uid                                               \n",
       "1        1653              1          9.666667                21   \n",
       "         2245              1          9.666667                21   \n",
       "         10084            -1          9.666667                21   \n",
       "3        6409              1         10.000000                54   \n",
       "14       1354              1          7.000000                 8   \n",
       "\n",
       "                      mean_target_user  mean_rating_movie  num_watched_movie  \\\n",
       "user_uid element_uid                                                           \n",
       "1        1653                 0.761905           8.879898              11152   \n",
       "         2245                 0.761905           8.952146              54153   \n",
       "         10084                0.761905           7.384956              23946   \n",
       "3        6409                 0.555556           8.710054              19196   \n",
       "14       1354                 1.000000           7.529058               4651   \n",
       "\n",
       "                      mean_target_movie  probably_kp_rate  \n",
       "user_uid element_uid                                       \n",
       "1        1653                  0.884953          0.837383  \n",
       "         2245                  0.753642          0.893999  \n",
       "         10084                 0.666500          0.782572  \n",
       "3        6409                  0.923422          0.876214  \n",
       "14       1354                  0.911847          0.748454  "
      ]
     },
     "execution_count": 53,
     "metadata": {},
     "output_type": "execute_result"
    }
   ],
   "source": [
    "wm_cut.head()"
   ]
  },
  {
   "cell_type": "code",
   "execution_count": 54,
   "metadata": {},
   "outputs": [],
   "source": [
    "need_feat =['rel_dur','diff_ts','duration','feature_1','feature_2','feature_3','feature_4','feature_5','num_watched_user'\n",
    "            ,'mean_rating_movie','probably_kp_rate']"
   ]
  },
  {
   "cell_type": "code",
   "execution_count": 55,
   "metadata": {},
   "outputs": [
    {
     "name": "stderr",
     "output_type": "stream",
     "text": [
      "100%|██████████| 104563/104563 [05:51<00:00, 297.20it/s]\n"
     ]
    }
   ],
   "source": [
    "convert_to_range(wm_cut,catalogue,label_name = 'rating',need_feat = need_feat)"
   ]
  },
  {
   "cell_type": "code",
   "execution_count": 56,
   "metadata": {},
   "outputs": [],
   "source": [
    "from sklearn.datasets import load_svmlight_file"
   ]
  },
  {
   "cell_type": "code",
   "execution_count": 57,
   "metadata": {},
   "outputs": [],
   "source": [
    "import lightgbm"
   ]
  },
  {
   "cell_type": "code",
   "execution_count": 59,
   "metadata": {},
   "outputs": [],
   "source": [
    "d = lightgbm.Dataset(PREPARED_PATH+'train.txt')"
   ]
  },
  {
   "cell_type": "code",
   "execution_count": 61,
   "metadata": {},
   "outputs": [],
   "source": []
  },
  {
   "cell_type": "code",
   "execution_count": null,
   "metadata": {},
   "outputs": [],
   "source": [
    "res = get_recomend(model_im,train_,fe,D_user_movie_train.keys(),D_row_col_train,mode = 'implicit',is_filter_history=False)\n",
    "\n",
    "metric(D_user_movie_train,res)"
   ]
  },
  {
   "cell_type": "code",
   "execution_count": null,
   "metadata": {},
   "outputs": [],
   "source": [
    "res = get_recomend(model_im,train_,fe,D_user_movie_test.keys(),D_row_col_train,mode = 'implicit')\n",
    "\n",
    "metric(D_user_movie_test,res)"
   ]
  },
  {
   "cell_type": "code",
   "execution_count": null,
   "metadata": {},
   "outputs": [],
   "source": [
    "res = get_recomend(model_im,train_,fe,D_user_movie_valid.keys(),D_row_col_train,mode = 'implicit')\n",
    "\n",
    "metric(D_user_movie_valid,res)"
   ]
  },
  {
   "cell_type": "code",
   "execution_count": null,
   "metadata": {},
   "outputs": [],
   "source": [
    "#precision_at_k(model,train_,test_,k = 20)"
   ]
  },
  {
   "cell_type": "code",
   "execution_count": null,
   "metadata": {},
   "outputs": [],
   "source": [
    "# Организуем hyperopt\n",
    "import colorama\n",
    "import hyperopt\n",
    "from hyperopt import hp, fmin, tpe, STATUS_OK, Trials\n",
    "\n",
    "\n",
    "space ={\n",
    "        'loss': hp.choice( 'loss', ['logistic', 'warp' ] ),\n",
    "        'learning_schedule': hp.choice(\"learning_schedule\", ['adagrad','adadelta']),\n",
    "        'rho':  hp.quniform('rho', 0.75, 0.99,0.05),\n",
    "        'max_sampled': hp.quniform('max_sampled', 10, 1000,20),\n",
    "        'learning_rate': hp.loguniform('learning_rate', -6.9, -1),  \n",
    "        'no_components':hp.quniform('no_components',5,200,5),\n",
    "       }\n",
    "cur_best_loss = np.inf\n",
    "cnt = 1\n",
    "\n",
    "\n",
    "def get_params(space):\n",
    "    px = dict()\n",
    "    px['loss'] = space['loss']\n",
    "    px['learning_schedule'] = space['learning_schedule']\n",
    "    px['rho'] = min(0.99,space['rho'])\n",
    "    px['max_sampled'] = int(space['max_sampled'])\n",
    "    px['learning_rate'] = space['learning_rate']\n",
    "    px['no_components'] = int(space['no_components'])\n",
    "    \n",
    "    return px\n",
    "def objective(space):\n",
    "    global cur_best_loss,cnt\n",
    "    params = get_params(space)\n",
    "    model = lightfm.LightFM(random_state=seed,**params,)\n",
    "    model.fit(train_,epochs=30,)\n",
    "    res = get_recomend(model,train_,fe,D_user_movie_test.keys(),D_row_col_train)\n",
    "    #score = custom_mae(l.values,p.values)\n",
    "    score = -metric(D_user_movie_test,res)\n",
    "    if cnt%10 == 0:\n",
    "        print('Попытка номер:',cnt)\n",
    "    if score < cur_best_loss:\n",
    "        cur_best_loss = score\n",
    "        print(colorama.Fore.GREEN + 'NEW BEST LOSS={}'.format(-cur_best_loss) + colorama.Fore.RESET)\n",
    "        print(params)\n",
    "    cnt+=1\n",
    "    return {'loss':score, 'status': STATUS_OK }\n",
    "trials = Trials()\n",
    "# best = hyperopt.fmin(fn=objective,\n",
    "#                      space=space,\n",
    "#                      algo=tpe.suggest,\n",
    "#                      max_evals=200,\n",
    "#                      trials=trials,\n",
    "#                      verbose=2)\n",
    "p={'loss': 'warp', 'learning_schedule': 'adagrad', 'rho': 0.75, 'max_sampled': 460, 'learning_rate': 0.005108939164793534, 'no_components': 160}"
   ]
  },
  {
   "cell_type": "code",
   "execution_count": null,
   "metadata": {},
   "outputs": [],
   "source": [
    "res = get_recomend(model,train_,fe,D_user_movie_test.keys(),D_row_col_train)#test_users#,mode = 'implicit'\n"
   ]
  },
  {
   "cell_type": "code",
   "execution_count": null,
   "metadata": {},
   "outputs": [],
   "source": [
    "metric(D_user_movie_test,res)"
   ]
  },
  {
   "cell_type": "code",
   "execution_count": null,
   "metadata": {},
   "outputs": [],
   "source": [
    "# Валидация\n",
    "res = get_recomend(model,valid_,fe,D_user_movie_valid.keys(),D_row_col_train)#,mode = 'implicit'\n",
    "metric(D_user_movie_valid,res)"
   ]
  },
  {
   "cell_type": "code",
   "execution_count": null,
   "metadata": {},
   "outputs": [],
   "source": [
    "len(D_user_movie_test)"
   ]
  },
  {
   "cell_type": "code",
   "execution_count": null,
   "metadata": {},
   "outputs": [],
   "source": [
    "len(set(D_user_movie_test.keys()) & set(res.keys()))"
   ]
  },
  {
   "cell_type": "code",
   "execution_count": null,
   "metadata": {},
   "outputs": [],
   "source": [
    "'''\n",
    "Здесь заканчиваетс/ русское поле экспериментов\n",
    "'''"
   ]
  },
  {
   "cell_type": "code",
   "execution_count": null,
   "metadata": {},
   "outputs": [],
   "source": [
    "actions.head()"
   ]
  },
  {
   "cell_type": "code",
   "execution_count": null,
   "metadata": {},
   "outputs": [],
   "source": []
  },
  {
   "cell_type": "code",
   "execution_count": null,
   "metadata": {},
   "outputs": [],
   "source": []
  },
  {
   "cell_type": "code",
   "execution_count": null,
   "metadata": {},
   "outputs": [],
   "source": [
    "wm = pd.read_pickle(PREPARED_PATH+'some_wm.pkl')"
   ]
  },
  {
   "cell_type": "code",
   "execution_count": null,
   "metadata": {},
   "outputs": [],
   "source": [
    "wm.head()"
   ]
  },
  {
   "cell_type": "code",
   "execution_count": null,
   "metadata": {},
   "outputs": [],
   "source": [
    "#Проверим, что не загибается на полном датасете\n",
    "\n",
    "fe = FeatureExtractor({'movie_attr_matrix':element_matrix,'movie_match_columns':movie_match_columns,\n",
    "                       'movie_columns_match':movie_columns_match,'movie_match_row_movie':match_row_element,\n",
    "                      'movie_match_movie_row':match_element_row,},bag_of_attr,is_censor = True,delimiter=4,)\n",
    "\n",
    "\n",
    "# fe = FeatureExtractor({'movie_attr_matrix':element_matrix,'movie_match_columns':movie_match_columns,\n",
    "#                        'movie_columns_match':movie_columns_match,'movie_match_row_movie':match_row_element,\n",
    "#                       'movie_match_movie_row':match_element_row,},bag_of_attr,is_censor = False)\n",
    "X = fe.fit_transform(actions)"
   ]
  },
  {
   "cell_type": "code",
   "execution_count": null,
   "metadata": {},
   "outputs": [],
   "source": [
    "cfe = ColdFeatureExtractor(fe)\n",
    "\n",
    "res_action = cfe.fit_transform(actions)"
   ]
  },
  {
   "cell_type": "code",
   "execution_count": null,
   "metadata": {},
   "outputs": [],
   "source": [
    "#res_action.keys()"
   ]
  },
  {
   "cell_type": "code",
   "execution_count": null,
   "metadata": {},
   "outputs": [],
   "source": [
    "#len(fe.train_movie_match_movie_row),len(fe.match_user_row)"
   ]
  },
  {
   "cell_type": "code",
   "execution_count": null,
   "metadata": {},
   "outputs": [],
   "source": []
  },
  {
   "cell_type": "code",
   "execution_count": null,
   "metadata": {},
   "outputs": [],
   "source": []
  },
  {
   "cell_type": "code",
   "execution_count": null,
   "metadata": {},
   "outputs": [],
   "source": [
    "X_user = res_action['train_user']\n",
    "X_movie = res_action['train_movie']\n",
    "X_user.shape,X_movie.shape"
   ]
  },
  {
   "cell_type": "code",
   "execution_count": null,
   "metadata": {},
   "outputs": [],
   "source": [
    "# def fit_lightfm(train,item_features=None,seed = 0)\n",
    "seed = 0\n",
    "epochs = 30\n",
    "num_threads=4\n",
    "\n",
    "model = lightfm.LightFM(loss = 'warp',random_state=seed)\n",
    "\n",
    "\n",
    "# model.fit(train_matrix,user_features = train_user,item_features = element_matrix,epochs = epochs,num_threads = num_threads,\n",
    "#          verbose = True)\n"
   ]
  },
  {
   "cell_type": "code",
   "execution_count": null,
   "metadata": {},
   "outputs": [],
   "source": [
    "\n",
    "\n",
    "%time model.fit(X,epochs = epochs,num_threads = num_threads,verbose = True)"
   ]
  },
  {
   "cell_type": "code",
   "execution_count": null,
   "metadata": {},
   "outputs": [],
   "source": []
  },
  {
   "cell_type": "code",
   "execution_count": null,
   "metadata": {},
   "outputs": [],
   "source": [
    "%%time\n",
    "from collections import defaultdict\n",
    "a,b = X.nonzero()\n",
    "D = defaultdict(set)\n",
    "for i,ii in tqdm.tqdm(zip(a,b),total = len(a)):\n",
    "    D[i].add(ii)\n",
    "# D = pd.DataFrame([a,b],index = ['row','columns']).T\n",
    "# D = D.groupby('row').agg(lambda x:frozenset(x.values))\n",
    "# D"
   ]
  },
  {
   "cell_type": "code",
   "execution_count": null,
   "metadata": {},
   "outputs": [],
   "source": [
    "#D[1]"
   ]
  },
  {
   "cell_type": "code",
   "execution_count": null,
   "metadata": {},
   "outputs": [],
   "source": [
    "len(fe.train_movie_match_row_movie)"
   ]
  },
  {
   "cell_type": "code",
   "execution_count": null,
   "metadata": {},
   "outputs": [],
   "source": [
    "print('sparsity',X.nnz/(X.shape[0]*X.shape[1]))"
   ]
  },
  {
   "cell_type": "code",
   "execution_count": null,
   "metadata": {},
   "outputs": [],
   "source": [
    "len( set(test_users) - set(fe.match_user_row.keys()))"
   ]
  },
  {
   "cell_type": "code",
   "execution_count": null,
   "metadata": {},
   "outputs": [],
   "source": [
    "from implicit.nearest_neighbours import TFIDFRecommender,CosineRecommender,NearestNeighboursScorer\n",
    "\n"
   ]
  },
  {
   "cell_type": "code",
   "execution_count": null,
   "metadata": {},
   "outputs": [],
   "source": []
  },
  {
   "cell_type": "code",
   "execution_count": null,
   "metadata": {},
   "outputs": [],
   "source": [
    "# Для implicit  надо фильмы*юзеры матрицу.\n",
    "# model = CosineRecommender()\n",
    "# model.fit(X.T.tocsr())"
   ]
  },
  {
   "cell_type": "code",
   "execution_count": null,
   "metadata": {},
   "outputs": [],
   "source": [
    "model = CosineRecommender()\n",
    "model.fit(X.T)"
   ]
  },
  {
   "cell_type": "code",
   "execution_count": null,
   "metadata": {},
   "outputs": [],
   "source": [
    "res = get_recomend(model,X,fe,test_users,D,mode = 'implicit')"
   ]
  },
  {
   "cell_type": "code",
   "execution_count": null,
   "metadata": {},
   "outputs": [],
   "source": [
    "# Сделаем какой-нибудь сабмит из lightfm\n",
    "result = {}\n",
    "mode = 'lightfm'#'implicit'#'lightfm'\n",
    "cnt = 0\n",
    "for user_uid in tqdm.tqdm(test_users):\n",
    "    \n",
    "    # transform user_uid to model's internal user category\n",
    "    try:\n",
    "        user_cat = fe.match_user_row[user_uid]\n",
    "    except LookupError:\n",
    "        continue\n",
    "    if mode == 'lightfm':\n",
    "        need_cols = np.array(list(set(np.arange(X.shape[1])) - D.get(user_cat, set())))\n",
    "        recs = model.predict(user_cat,need_cols,num_threads=num_threads)\n",
    "        need_movies = np.argsort(-recs)[:20]\n",
    "        result[user_uid] = [int(fe.train_movie_match_row_movie[i]) for i in need_movies]\n",
    "    # переводим в фильмы\n",
    "    \n",
    "    # perform inference\n",
    "    if mode == 'implicit':\n",
    "        if cnt == 0:\n",
    "            ratings_matrix_T = X.tocsr()\n",
    "        recs = model.recommend(\n",
    "            user_cat,\n",
    "            X.tocsr(),\n",
    "            N=20,\n",
    "            filter_already_liked_items=True,\n",
    "            filter_items=D.get(user_uid, set())\n",
    "        )\n",
    "        result[user_uid] = [int(fe.train_movie_match_row_movie[i]) for i, _ in recs]\n",
    "        # drop scores and transform model's internal elelemnt category to element_uid for every prediction\n",
    "    # also convert np.uint64 to int so it could be json serialized later\n",
    "    cnt += 1"
   ]
  },
  {
   "cell_type": "code",
   "execution_count": null,
   "metadata": {},
   "outputs": [],
   "source": [
    "user_cat"
   ]
  },
  {
   "cell_type": "code",
   "execution_count": null,
   "metadata": {},
   "outputs": [],
   "source": [
    "len(fe.train_movie_match_row_movie)"
   ]
  },
  {
   "cell_type": "code",
   "execution_count": null,
   "metadata": {},
   "outputs": [],
   "source": [
    "recs"
   ]
  },
  {
   "cell_type": "code",
   "execution_count": null,
   "metadata": {},
   "outputs": [],
   "source": [
    "#len(need_cols),len(recs),type(recs)"
   ]
  },
  {
   "cell_type": "code",
   "execution_count": null,
   "metadata": {},
   "outputs": [],
   "source": [
    "#plt.hist(recs)"
   ]
  },
  {
   "cell_type": "code",
   "execution_count": null,
   "metadata": {},
   "outputs": [],
   "source": [
    "len(result)"
   ]
  },
  {
   "cell_type": "code",
   "execution_count": null,
   "metadata": {},
   "outputs": [],
   "source": [
    "\n",
    "with open('answer.json', 'w') as f:\n",
    "    json.dump(result, f)"
   ]
  },
  {
   "cell_type": "code",
   "execution_count": null,
   "metadata": {},
   "outputs": [],
   "source": [
    "result[0]"
   ]
  },
  {
   "cell_type": "code",
   "execution_count": null,
   "metadata": {},
   "outputs": [],
   "source": [
    "from lightfm.evaluation import auc_score,precision_at_k\n",
    "\n",
    "# Compute and print the AUC score\n",
    "train_auc = precision_at_k(model, te ,tr, k = 20,num_threads=4).mean()\n",
    "print('Collaborative filtering train AUC: %s' % train_auc)"
   ]
  },
  {
   "cell_type": "code",
   "execution_count": null,
   "metadata": {},
   "outputs": [],
   "source": [
    "new_old_tr_te_2.keys()"
   ]
  },
  {
   "cell_type": "code",
   "execution_count": null,
   "metadata": {},
   "outputs": [],
   "source": [
    "tr = new_old_tr_te_2['train_interactions']\n",
    "te = new_old_tr_te_2['test_interactions']\n",
    "uf = new_old_tr_te_2['user_features_train']\n",
    "tf = new_old_tr_te_2['user_features_test']\n",
    "print(tr.shape,te.shape,uf.shape,tf.shape)\n",
    "# tr[(tr < 3) &  (tr>0)] = -1\n",
    "# tr[(tr > 3)] = 1\n",
    "# te[(tr < 3) &  (te>0)] = -1\n",
    "# te[(tr > 3)] = 1\n",
    "\n",
    "model.fit(train_matrix,user_features=uf,epochs = epochs,num_threads =num_threads,\n",
    "         verbose = True)"
   ]
  },
  {
   "cell_type": "code",
   "execution_count": null,
   "metadata": {},
   "outputs": [],
   "source": [
    "from scipy.sparse import csr_matrix\n",
    "import matplotlib.pyplot as plt\n"
   ]
  },
  {
   "cell_type": "code",
   "execution_count": null,
   "metadata": {},
   "outputs": [],
   "source": [
    "p = model.predict(0,np.arange(tr.shape[1]),user_features=tf[0,:],num_threads=num_threads)"
   ]
  },
  {
   "cell_type": "code",
   "execution_count": null,
   "metadata": {},
   "outputs": [],
   "source": [
    "plt.hist(p)"
   ]
  },
  {
   "cell_type": "code",
   "execution_count": null,
   "metadata": {},
   "outputs": [],
   "source": [
    "test_user[0,:]"
   ]
  },
  {
   "cell_type": "code",
   "execution_count": null,
   "metadata": {},
   "outputs": [],
   "source": []
  },
  {
   "cell_type": "code",
   "execution_count": null,
   "metadata": {},
   "outputs": [],
   "source": [
    "a = model.predict(0,np.arange(train_matrix.shape[1]),user_features=test_user[0,:],num_threads=num_threads)\n",
    "len(a)"
   ]
  },
  {
   "cell_type": "code",
   "execution_count": null,
   "metadata": {},
   "outputs": [],
   "source": []
  },
  {
   "cell_type": "code",
   "execution_count": null,
   "metadata": {},
   "outputs": [],
   "source": [
    "from lightfm.evaluation import auc_score,precision_at_k\n",
    "\n",
    "# Compute and print the AUC score\n",
    "train_auc = precision_at_k(model, train_matrix,user_features = train_user,item_features = element_matrix ,num_threads=num_threads).mean()\n",
    "print('Collaborative filtering train AUC: %s' % train_auc)"
   ]
  },
  {
   "cell_type": "code",
   "execution_count": null,
   "metadata": {},
   "outputs": [],
   "source": [
    "model.user_feature_map"
   ]
  },
  {
   "cell_type": "code",
   "execution_count": null,
   "metadata": {},
   "outputs": [],
   "source": [
    "def get_answer(test_users_dict,test):\n",
    "    pass"
   ]
  }
 ],
 "metadata": {
  "kernelspec": {
   "display_name": "Python 3",
   "language": "python",
   "name": "python3"
  },
  "language_info": {
   "codemirror_mode": {
    "name": "ipython",
    "version": 3
   },
   "file_extension": ".py",
   "mimetype": "text/x-python",
   "name": "python",
   "nbconvert_exporter": "python",
   "pygments_lexer": "ipython3",
   "version": "3.6.7"
  }
 },
 "nbformat": 4,
 "nbformat_minor": 2
}
