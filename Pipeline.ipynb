{
 "cells": [
  {
   "cell_type": "code",
   "execution_count": 25,
   "metadata": {},
   "outputs": [],
   "source": [
    "import os\n",
    "import json\n",
    "import pandas as pd\n",
    "import numpy as np\n",
    "import tqdm\n",
    "import scipy.sparse as sp\n",
    "\n",
    "import implicit\n",
    "import lightfm\n",
    "import warnings\n",
    "warnings.filterwarnings('ignore')"
   ]
  },
  {
   "cell_type": "code",
   "execution_count": 26,
   "metadata": {},
   "outputs": [],
   "source": [
    "pd.set_option('display.max_columns',100)\n",
    "\n",
    "DATA_PATH = '../okko/orig_data'\n",
    "PREPARED_PATH = './prepared_data/'"
   ]
  },
  {
   "cell_type": "code",
   "execution_count": 27,
   "metadata": {},
   "outputs": [],
   "source": [
    "actions = pd.read_pickle(PREPARED_PATH+'actions_one_table.pkl')"
   ]
  },
  {
   "cell_type": "code",
   "execution_count": 28,
   "metadata": {},
   "outputs": [],
   "source": [
    "actions.sort_index(inplace = True) # На всякий случай, иначе деление не будет работать"
   ]
  },
  {
   "cell_type": "code",
   "execution_count": 29,
   "metadata": {},
   "outputs": [
    {
     "data": {
      "text/html": [
       "<div>\n",
       "<style scoped>\n",
       "    .dataframe tbody tr th:only-of-type {\n",
       "        vertical-align: middle;\n",
       "    }\n",
       "\n",
       "    .dataframe tbody tr th {\n",
       "        vertical-align: top;\n",
       "    }\n",
       "\n",
       "    .dataframe thead th {\n",
       "        text-align: right;\n",
       "    }\n",
       "</style>\n",
       "<table border=\"1\" class=\"dataframe\">\n",
       "  <thead>\n",
       "    <tr style=\"text-align: right;\">\n",
       "      <th></th>\n",
       "      <th></th>\n",
       "      <th></th>\n",
       "      <th>action</th>\n",
       "      <th>consumption_mode</th>\n",
       "      <th>device_manufacturer</th>\n",
       "      <th>device_type</th>\n",
       "      <th>rating</th>\n",
       "      <th>watched_time</th>\n",
       "      <th>duration</th>\n",
       "      <th>type</th>\n",
       "    </tr>\n",
       "    <tr>\n",
       "      <th>user_uid</th>\n",
       "      <th>element_uid</th>\n",
       "      <th>ts</th>\n",
       "      <th></th>\n",
       "      <th></th>\n",
       "      <th></th>\n",
       "      <th></th>\n",
       "      <th></th>\n",
       "      <th></th>\n",
       "      <th></th>\n",
       "      <th></th>\n",
       "    </tr>\n",
       "  </thead>\n",
       "  <tbody>\n",
       "    <tr>\n",
       "      <th rowspan=\"5\" valign=\"top\">0</th>\n",
       "      <th>51</th>\n",
       "      <th>4.416546e+07</th>\n",
       "      <td>watch</td>\n",
       "      <td>S</td>\n",
       "      <td>99.0</td>\n",
       "      <td>0.0</td>\n",
       "      <td>NaN</td>\n",
       "      <td>12382.0</td>\n",
       "      <td>3600</td>\n",
       "      <td>1</td>\n",
       "    </tr>\n",
       "    <tr>\n",
       "      <th>72</th>\n",
       "      <th>4.375829e+07</th>\n",
       "      <td>watch</td>\n",
       "      <td>S</td>\n",
       "      <td>99.0</td>\n",
       "      <td>0.0</td>\n",
       "      <td>NaN</td>\n",
       "      <td>5653.0</td>\n",
       "      <td>6000</td>\n",
       "      <td>1</td>\n",
       "    </tr>\n",
       "    <tr>\n",
       "      <th>207</th>\n",
       "      <th>4.371904e+07</th>\n",
       "      <td>watch</td>\n",
       "      <td>S</td>\n",
       "      <td>99.0</td>\n",
       "      <td>0.0</td>\n",
       "      <td>NaN</td>\n",
       "      <td>2646.0</td>\n",
       "      <td>5400</td>\n",
       "      <td>1</td>\n",
       "    </tr>\n",
       "    <tr>\n",
       "      <th>209</th>\n",
       "      <th>4.377814e+07</th>\n",
       "      <td>watch</td>\n",
       "      <td>S</td>\n",
       "      <td>99.0</td>\n",
       "      <td>0.0</td>\n",
       "      <td>NaN</td>\n",
       "      <td>6971.0</td>\n",
       "      <td>7200</td>\n",
       "      <td>1</td>\n",
       "    </tr>\n",
       "    <tr>\n",
       "      <th>434</th>\n",
       "      <th>4.338109e+07</th>\n",
       "      <td>watch</td>\n",
       "      <td>S</td>\n",
       "      <td>99.0</td>\n",
       "      <td>0.0</td>\n",
       "      <td>NaN</td>\n",
       "      <td>5894.0</td>\n",
       "      <td>6600</td>\n",
       "      <td>1</td>\n",
       "    </tr>\n",
       "  </tbody>\n",
       "</table>\n",
       "</div>"
      ],
      "text/plain": [
       "                                  action consumption_mode  \\\n",
       "user_uid element_uid ts                                     \n",
       "0        51          4.416546e+07  watch                S   \n",
       "         72          4.375829e+07  watch                S   \n",
       "         207         4.371904e+07  watch                S   \n",
       "         209         4.377814e+07  watch                S   \n",
       "         434         4.338109e+07  watch                S   \n",
       "\n",
       "                                   device_manufacturer  device_type  rating  \\\n",
       "user_uid element_uid ts                                                       \n",
       "0        51          4.416546e+07                 99.0          0.0     NaN   \n",
       "         72          4.375829e+07                 99.0          0.0     NaN   \n",
       "         207         4.371904e+07                 99.0          0.0     NaN   \n",
       "         209         4.377814e+07                 99.0          0.0     NaN   \n",
       "         434         4.338109e+07                 99.0          0.0     NaN   \n",
       "\n",
       "                                   watched_time  duration  type  \n",
       "user_uid element_uid ts                                          \n",
       "0        51          4.416546e+07       12382.0      3600     1  \n",
       "         72          4.375829e+07        5653.0      6000     1  \n",
       "         207         4.371904e+07        2646.0      5400     1  \n",
       "         209         4.377814e+07        6971.0      7200     1  \n",
       "         434         4.338109e+07        5894.0      6600     1  "
      ]
     },
     "execution_count": 29,
     "metadata": {},
     "output_type": "execute_result"
    }
   ],
   "source": [
    "actions.head()"
   ]
  },
  {
   "cell_type": "code",
   "execution_count": 30,
   "metadata": {},
   "outputs": [],
   "source": [
    "def get_train_test(actions,mode = 'by_time',perc = (0.6,0.2,0.2)):\n",
    "    '''\n",
    "    здесь не очень аккуратно обращаемся с временем просмотра, потому что фильмы на границе должны быть \n",
    "    с обрезанной длительностью - но насрать\n",
    "    '''\n",
    "    X = actions.copy()\n",
    "    if mode == 'by_time':\n",
    "        X['ones'] = 1\n",
    "        X['increment'] = np.arange(len(X))\n",
    "        by_time = X.groupby(level = 2)['ones'].sum()\n",
    "        by_time.sort_index(inplace = True)\n",
    "        #проверили, что вроде как все ок и равномерно во времени\n",
    "        cur = 0\n",
    "        idx = []\n",
    "        for i in range(len(perc)):\n",
    "#             print(np.round((cur)*len(by_time)),np.round((cur+perc[i])*len(by_time)))\n",
    "            by_time_temp = by_time.iloc[int(np.round((cur)*len(by_time))):int(np.round((cur+perc[i])*len(by_time)))].index.values\n",
    "            print(len(by_time_temp))\n",
    "            mn = by_time_temp.min()\n",
    "            mx = by_time_temp.max()\n",
    "            cur+=perc[i]\n",
    "            idx.append(X.loc[(slice(None),slice(None),slice(mn,mx)),'increment'].values)\n",
    "            \n",
    "        return idx"
   ]
  },
  {
   "cell_type": "code",
   "execution_count": 31,
   "metadata": {},
   "outputs": [
    {
     "name": "stdout",
     "output_type": "stream",
     "text": [
      "6558458\n",
      "2186152\n",
      "2186153\n"
     ]
    }
   ],
   "source": [
    "idx = get_train_test(actions)"
   ]
  },
  {
   "cell_type": "code",
   "execution_count": 32,
   "metadata": {},
   "outputs": [
    {
     "data": {
      "text/plain": [
       "43362401.96226887"
      ]
     },
     "execution_count": 32,
     "metadata": {},
     "output_type": "execute_result"
    }
   ],
   "source": [
    "actions.iloc[idx[0]].index.get_level_values(2).max()"
   ]
  },
  {
   "cell_type": "code",
   "execution_count": 33,
   "metadata": {},
   "outputs": [
    {
     "data": {
      "text/plain": [
       "43362401.97085199"
      ]
     },
     "execution_count": 33,
     "metadata": {},
     "output_type": "execute_result"
    }
   ],
   "source": [
    "actions.iloc[idx[1]].index.get_level_values(2).min()"
   ]
  },
  {
   "cell_type": "code",
   "execution_count": 34,
   "metadata": {},
   "outputs": [
    {
     "data": {
      "text/plain": [
       "43828341.47903843"
      ]
     },
     "execution_count": 34,
     "metadata": {},
     "output_type": "execute_result"
    }
   ],
   "source": [
    "actions.iloc[idx[1]].index.get_level_values(2).max()"
   ]
  },
  {
   "cell_type": "code",
   "execution_count": 35,
   "metadata": {},
   "outputs": [
    {
     "data": {
      "text/plain": [
       "43828341.48519237"
      ]
     },
     "execution_count": 35,
     "metadata": {},
     "output_type": "execute_result"
    }
   ],
   "source": [
    "actions.iloc[idx[2]].index.get_level_values(2).min()"
   ]
  },
  {
   "cell_type": "code",
   "execution_count": 36,
   "metadata": {},
   "outputs": [
    {
     "data": {
      "text/plain": [
       "S    8296227\n",
       "P     873834\n",
       "R     472951\n",
       "Name: consumption_mode, dtype: int64"
      ]
     },
     "execution_count": 36,
     "metadata": {},
     "output_type": "execute_result"
    }
   ],
   "source": [
    "actions.consumption_mode.value_counts()"
   ]
  },
  {
   "cell_type": "code",
   "execution_count": 37,
   "metadata": {},
   "outputs": [
    {
     "data": {
      "text/html": [
       "<div>\n",
       "<style scoped>\n",
       "    .dataframe tbody tr th:only-of-type {\n",
       "        vertical-align: middle;\n",
       "    }\n",
       "\n",
       "    .dataframe tbody tr th {\n",
       "        vertical-align: top;\n",
       "    }\n",
       "\n",
       "    .dataframe thead th {\n",
       "        text-align: right;\n",
       "    }\n",
       "</style>\n",
       "<table border=\"1\" class=\"dataframe\">\n",
       "  <thead>\n",
       "    <tr style=\"text-align: right;\">\n",
       "      <th></th>\n",
       "      <th></th>\n",
       "      <th></th>\n",
       "      <th>action</th>\n",
       "      <th>consumption_mode</th>\n",
       "      <th>device_manufacturer</th>\n",
       "      <th>device_type</th>\n",
       "      <th>rating</th>\n",
       "      <th>watched_time</th>\n",
       "      <th>duration</th>\n",
       "      <th>type</th>\n",
       "    </tr>\n",
       "    <tr>\n",
       "      <th>user_uid</th>\n",
       "      <th>element_uid</th>\n",
       "      <th>ts</th>\n",
       "      <th></th>\n",
       "      <th></th>\n",
       "      <th></th>\n",
       "      <th></th>\n",
       "      <th></th>\n",
       "      <th></th>\n",
       "      <th></th>\n",
       "      <th></th>\n",
       "    </tr>\n",
       "  </thead>\n",
       "  <tbody>\n",
       "    <tr>\n",
       "      <th rowspan=\"5\" valign=\"top\">0</th>\n",
       "      <th>51</th>\n",
       "      <th>4.416546e+07</th>\n",
       "      <td>watch</td>\n",
       "      <td>S</td>\n",
       "      <td>99.0</td>\n",
       "      <td>0.0</td>\n",
       "      <td>NaN</td>\n",
       "      <td>12382.0</td>\n",
       "      <td>3600</td>\n",
       "      <td>1</td>\n",
       "    </tr>\n",
       "    <tr>\n",
       "      <th>72</th>\n",
       "      <th>4.375829e+07</th>\n",
       "      <td>watch</td>\n",
       "      <td>S</td>\n",
       "      <td>99.0</td>\n",
       "      <td>0.0</td>\n",
       "      <td>NaN</td>\n",
       "      <td>5653.0</td>\n",
       "      <td>6000</td>\n",
       "      <td>1</td>\n",
       "    </tr>\n",
       "    <tr>\n",
       "      <th>207</th>\n",
       "      <th>4.371904e+07</th>\n",
       "      <td>watch</td>\n",
       "      <td>S</td>\n",
       "      <td>99.0</td>\n",
       "      <td>0.0</td>\n",
       "      <td>NaN</td>\n",
       "      <td>2646.0</td>\n",
       "      <td>5400</td>\n",
       "      <td>1</td>\n",
       "    </tr>\n",
       "    <tr>\n",
       "      <th>209</th>\n",
       "      <th>4.377814e+07</th>\n",
       "      <td>watch</td>\n",
       "      <td>S</td>\n",
       "      <td>99.0</td>\n",
       "      <td>0.0</td>\n",
       "      <td>NaN</td>\n",
       "      <td>6971.0</td>\n",
       "      <td>7200</td>\n",
       "      <td>1</td>\n",
       "    </tr>\n",
       "    <tr>\n",
       "      <th>434</th>\n",
       "      <th>4.338109e+07</th>\n",
       "      <td>watch</td>\n",
       "      <td>S</td>\n",
       "      <td>99.0</td>\n",
       "      <td>0.0</td>\n",
       "      <td>NaN</td>\n",
       "      <td>5894.0</td>\n",
       "      <td>6600</td>\n",
       "      <td>1</td>\n",
       "    </tr>\n",
       "  </tbody>\n",
       "</table>\n",
       "</div>"
      ],
      "text/plain": [
       "                                  action consumption_mode  \\\n",
       "user_uid element_uid ts                                     \n",
       "0        51          4.416546e+07  watch                S   \n",
       "         72          4.375829e+07  watch                S   \n",
       "         207         4.371904e+07  watch                S   \n",
       "         209         4.377814e+07  watch                S   \n",
       "         434         4.338109e+07  watch                S   \n",
       "\n",
       "                                   device_manufacturer  device_type  rating  \\\n",
       "user_uid element_uid ts                                                       \n",
       "0        51          4.416546e+07                 99.0          0.0     NaN   \n",
       "         72          4.375829e+07                 99.0          0.0     NaN   \n",
       "         207         4.371904e+07                 99.0          0.0     NaN   \n",
       "         209         4.377814e+07                 99.0          0.0     NaN   \n",
       "         434         4.338109e+07                 99.0          0.0     NaN   \n",
       "\n",
       "                                   watched_time  duration  type  \n",
       "user_uid element_uid ts                                          \n",
       "0        51          4.416546e+07       12382.0      3600     1  \n",
       "         72          4.375829e+07        5653.0      6000     1  \n",
       "         207         4.371904e+07        2646.0      5400     1  \n",
       "         209         4.377814e+07        6971.0      7200     1  \n",
       "         434         4.338109e+07        5894.0      6600     1  "
      ]
     },
     "execution_count": 37,
     "metadata": {},
     "output_type": "execute_result"
    }
   ],
   "source": [
    "actions.head()"
   ]
  },
  {
   "cell_type": "code",
   "execution_count": 38,
   "metadata": {},
   "outputs": [],
   "source": [
    "# Вроде не пересекается.\n",
    "train,test,valid = actions.iloc[idx[0]],actions.iloc[idx[1]],actions.iloc[idx[2]]"
   ]
  },
  {
   "cell_type": "code",
   "execution_count": 39,
   "metadata": {},
   "outputs": [],
   "source": [
    "def get_target(actions):\n",
    "    '''\n",
    "    Функция, которая вернет число просмотреннх серий каждым пользователем каждого сериала, потом вернет то,что недопотребил\n",
    "    А потом то, что точно потребил согласно правилам соревнования - например, так можно вычислить примерную длительность сериала \n",
    "    и его же рекомендовать в потребленные после.\n",
    "    '''\n",
    "    watch_actions = actions[actions.action == 'watch']\n",
    "    # Блок нахождения всяких статистик по сериалам\n",
    "    serials = watch_actions[watch_actions['type'] != 1]\n",
    "    # Заменим длиетльность на 0, там где длительности нет.. или это очень короткие, надо подумоть.\n",
    "    serials['num_of_series'] = (serials['watched_time']/serials['duration']).fillna(0).replace(np.inf,0).astype(int)\n",
    "    serials['time_being'] = serials.index.get_level_values(2)\n",
    "    dur_being = serials.groupby(level = 1).agg({'time_being':[min,len],'num_of_series':[lambda x:x.mode()[0],max]})\n",
    "    dur_being.columns = ['time_being','count_of_watch','num_of_series_mode','num_of_series_max']\n",
    "    \n",
    "    # Блок нахождения статистик по фильмам для пользователя\n",
    "    films = watch_actions[watch_actions['type'] == 1]\n",
    "    # Здесь важно видимо, как долго смотрел\n",
    "    films['time_being'] = films.index.get_level_values(2)\n",
    "    dur_films = films.groupby(level = 1).agg({'time_being':[min,len]})\n",
    "    dur_films.columns = ['time_being','count_of_watch']\n",
    "    \n",
    "    # Блок нахождения статистик по фильмам и пользователям\n",
    "    watch_actions['rel_dur'] = (watch_actions['watched_time']/watch_actions['duration'])\n",
    "    target = 1*(watch_actions['rel_dur'] >= 1/3) | watch_actions['consumption_mode'].isin(['R','P']) \n",
    "    target = target.groupby(level = [0,1]).mean()\n",
    "    watch_actions = watch_actions.groupby(level = [0,1]).mean()\n",
    "    watch_actions['rel_dur'] = watch_actions['rel_dur'].replace(np.inf,1)# Заглушка для фильмов с 0 длительностью\n",
    "    \n",
    "    \n",
    "    \n",
    "    return dur_being,dur_films,watch_actions,target"
   ]
  },
  {
   "cell_type": "code",
   "execution_count": 40,
   "metadata": {},
   "outputs": [
    {
     "name": "stdout",
     "output_type": "stream",
     "text": [
      "Wall time: 0 ns\n"
     ]
    }
   ],
   "source": [
    "%time \n",
    "dur_being_train,dur_films_train,watch_actions_train,target_train = get_target(train)\n",
    "dur_being_test,dur_films_test,watch_actions_test,target_test = get_target(test)\n",
    "dur_being_valid,dur_films_valid,watch_actions_valid,target_valid = get_target(valid)"
   ]
  },
  {
   "cell_type": "code",
   "execution_count": 41,
   "metadata": {},
   "outputs": [
    {
     "ename": "FileNotFoundError",
     "evalue": "[Errno 2] No such file or directory: './prepared_data/catalogue_features.pkl'",
     "output_type": "error",
     "traceback": [
      "\u001b[1;31m--------------------------------------------------------------------\u001b[0m",
      "\u001b[1;31mFileNotFoundError\u001b[0m                  Traceback (most recent call last)",
      "\u001b[1;32m<ipython-input-41-8fb673bac4db>\u001b[0m in \u001b[0;36m<module>\u001b[1;34m\u001b[0m\n\u001b[0;32m      1\u001b[0m \u001b[1;31m# Получили фичи для фильмов\u001b[0m\u001b[1;33m\u001b[0m\u001b[1;33m\u001b[0m\u001b[1;33m\u001b[0m\u001b[0m\n\u001b[0;32m      2\u001b[0m \u001b[1;32mimport\u001b[0m \u001b[0mpickle\u001b[0m\u001b[1;33m\u001b[0m\u001b[1;33m\u001b[0m\u001b[0m\n\u001b[1;32m----> 3\u001b[1;33m \u001b[1;32mwith\u001b[0m \u001b[0mopen\u001b[0m\u001b[1;33m(\u001b[0m\u001b[0mPREPARED_PATH\u001b[0m\u001b[1;33m+\u001b[0m\u001b[1;34m'catalogue_features.pkl'\u001b[0m\u001b[1;33m,\u001b[0m\u001b[1;34m'rb'\u001b[0m\u001b[1;33m)\u001b[0m \u001b[1;32mas\u001b[0m \u001b[0mf\u001b[0m\u001b[1;33m:\u001b[0m\u001b[1;33m\u001b[0m\u001b[1;33m\u001b[0m\u001b[0m\n\u001b[0m\u001b[0;32m      4\u001b[0m     \u001b[0mmatch_element_row\u001b[0m\u001b[1;33m,\u001b[0m\u001b[0mmatch_row_element\u001b[0m\u001b[1;33m,\u001b[0m\u001b[0mmatch_columns\u001b[0m\u001b[1;33m,\u001b[0m\u001b[0melement_matrix\u001b[0m \u001b[1;33m=\u001b[0m \u001b[0mpickle\u001b[0m\u001b[1;33m.\u001b[0m\u001b[0mload\u001b[0m\u001b[1;33m(\u001b[0m\u001b[0mf\u001b[0m\u001b[1;33m)\u001b[0m\u001b[1;33m\u001b[0m\u001b[1;33m\u001b[0m\u001b[0m\n",
      "\u001b[1;31mFileNotFoundError\u001b[0m: [Errno 2] No such file or directory: './prepared_data/catalogue_features.pkl'"
     ]
    }
   ],
   "source": [
    "# Получили фичи для фильмов\n",
    "import pickle\n",
    "with open(PREPARED_PATH+'catalogue_features.pkl','rb') as f:\n",
    "    match_element_row,match_row_element,match_columns,element_matrix = pickle.load(f)"
   ]
  },
  {
   "cell_type": "code",
   "execution_count": null,
   "metadata": {},
   "outputs": [],
   "source": [
    "# Получили фичи для юзеров (пока какие-то)\n",
    "# import pickle\n",
    "# with open(PREPARED_PATH+'catalogue_users.pkl','rb') as f:\n",
    "#     match_element_row_user,match_row_element_user,match_columns_user,element_matrix_user = pickle.load(f)\n",
    "# Кажется, что их правильно пересчитывать по тем, кто есть во времени сейчас. \n",
    "# Фильмы вроде как мы занем все и не знаем про новые и это не страшно - Про это возможно стоит подумать\n",
    "import pickle\n",
    "from sklearn.feature_extraction.text import CountVectorizer\n",
    "\n",
    "with open(PREPARED_PATH+'bag_of_attr_movie.pkl','rb') as f:\n",
    "    bag_of_attr = pickle.load(f)\n",
    "def get_users_features(actions,bag_of_attr):\n",
    "    '''\n",
    "    bag_of_attr - словарь, где просто каждому id  фильма сопоставлена строка атрибутов через запятую.\n",
    "    строго  говоря в просмотренных фильмах атрибутов может оказаться меньше, чем во всем пуле фильмов, но я \n",
    "    пока не знаю проблема ли это ToDo\n",
    "    '''\n",
    "    # Приделаем каждому чуваку атрибуты просмотренных фильмов. ну или вообще по всем действиям - они все позитивные\n",
    "    ind_user = []\n",
    "    buf = []\n",
    "    for i in tqdm.tqdm(np.unique(actions.index.get_level_values(0))):\n",
    "        temp = np.unique(actions.loc[i].index.get_level_values(0))\n",
    "        ind_user.append(i)\n",
    "\n",
    "        s = ''\n",
    "        for ii in temp:\n",
    "            s+=bag_of_attr[ii]\n",
    "\n",
    "            s+=','\n",
    "        #assert X.shape[1] == len(a)\n",
    "        buf.append(s)\n",
    "\n",
    "    cv1 = CountVectorizer(token_pattern='\\d+',)\n",
    "    X_user = cv1.fit_transform(buf)\n",
    "    match_user_row = {i:ii for ii,i in enumerate(ind_user)}\n",
    "    match_row_user = {ii:i for ii,i in enumerate(ind_user)}\n",
    "    match_columns_user = list(cv1.get_feature_names())\n",
    "    \n",
    "    return match_user_row,match_row_user,match_columns_user,X_user"
   ]
  },
  {
   "cell_type": "code",
   "execution_count": null,
   "metadata": {},
   "outputs": [],
   "source": [
    "from scipy.sparse import coo_matrix\n",
    "def df_to_matrix(X,match_user_row,match_element_row):\n",
    "    '''\n",
    "    На вход подается датафрейм с мультииндексом <user_id, element_id> и некоторой оценкой пары, затем он переупорядочивается и дополняется \n",
    "    по шаблонам из строк всяких спарс матричек для фильмов и юзеров\n",
    "    match_user_row - отображение из айди в номер строки в матрице, match_element_row - аналогично\n",
    "    '''\n",
    "    Y = X.copy()\n",
    "    Y['users'] = Y.index.get_level_values(0).map(match_user_row).astype(int)\n",
    "    Y['items'] = Y.index.get_level_values(1).map(match_element_row).astype(int)\n",
    "    print(Y['users'].values.max())\n",
    "    return coo_matrix((X.values.squeeze(),(Y['users'].values,Y['items'].values)))"
   ]
  },
  {
   "cell_type": "code",
   "execution_count": null,
   "metadata": {
    "scrolled": true
   },
   "outputs": [],
   "source": [
    "# Получим что-то сначала для трейна, причем для рейтингового\n",
    "# Вообще парллелится, но пока непонятно зачем кроме тренировки\n",
    "match_user_row,match_row_user,match_columns_user,train_user = get_users_features(train[train.action =='rate'],bag_of_attr)"
   ]
  },
  {
   "cell_type": "code",
   "execution_count": null,
   "metadata": {},
   "outputs": [],
   "source": []
  },
  {
   "cell_type": "code",
   "execution_count": null,
   "metadata": {},
   "outputs": [],
   "source": []
  },
  {
   "cell_type": "code",
   "execution_count": null,
   "metadata": {},
   "outputs": [],
   "source": []
  },
  {
   "cell_type": "code",
   "execution_count": null,
   "metadata": {
    "scrolled": true
   },
   "outputs": [],
   "source": [
    "X = train.loc[train.action =='rate','rating'].groupby(level = [0,1]).mean().to_frame()\n",
    "# X.value_counts()\n",
    "train_matrix = df_to_matrix(X,match_user_row,match_element_row)"
   ]
  },
  {
   "cell_type": "code",
   "execution_count": null,
   "metadata": {},
   "outputs": [],
   "source": [
    "print(len(match_user_row),len(match_element_row),train_matrix.shape)"
   ]
  },
  {
   "cell_type": "code",
   "execution_count": null,
   "metadata": {},
   "outputs": [],
   "source": [
    "# def fit_lightfm(train,item_features=None,seed = 0)\n",
    "seed = 0\n",
    "epochs = 30\n",
    "num_threads=4\n",
    "\n",
    "model = lightfm.LightFM(loss = 'warp',random_state=seed)\n",
    "\n",
    "\n",
    "model.fit(train_matrix,user_features = train_user,item_features = element_matrix,epochs = epochs,num_threads = num_threads,\n",
    "         verbose = True)"
   ]
  },
  {
   "cell_type": "code",
   "execution_count": null,
   "metadata": {},
   "outputs": [],
   "source": [
    "def get_answer(test_users_dict,test):\n",
    "    pass"
   ]
  }
 ],
 "metadata": {
  "kernelspec": {
   "display_name": "Python 3",
   "language": "python",
   "name": "python3"
  },
  "language_info": {
   "codemirror_mode": {
    "name": "ipython",
    "version": 3
   },
   "file_extension": ".py",
   "mimetype": "text/x-python",
   "name": "python",
   "nbconvert_exporter": "python",
   "pygments_lexer": "ipython3",
   "version": "3.7.1"
  }
 },
 "nbformat": 4,
 "nbformat_minor": 2
}
