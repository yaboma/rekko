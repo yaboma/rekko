{
 "cells": [
  {
   "cell_type": "code",
   "execution_count": 4,
   "metadata": {},
   "outputs": [],
   "source": [
    "import os\n",
    "import json\n",
    "import pandas as pd\n",
    "import numpy as np\n",
    "import tqdm\n",
    "import scipy.sparse as sp\n",
    "import warnings\n",
    "warnings.simplefilter(\"ignore\")\n",
    "from pprint import pprint\n",
    "from tqdm._tqdm_notebook import tqdm_notebook\n",
    "\n",
    "tqdm_notebook.pandas()"
   ]
  },
  {
   "cell_type": "code",
   "execution_count": 6,
   "metadata": {},
   "outputs": [],
   "source": [
    "DATA_PATH = 'data'"
   ]
  },
  {
   "cell_type": "code",
   "execution_count": 3,
   "metadata": {},
   "outputs": [],
   "source": [
    "with open(os.path.join(DATA_PATH, 'catalogue.json'), 'r') as f:\n",
    "    catalogue = json.load(f)\n",
    "    \n",
    "catalogue = {int(k): v for k, v in catalogue.items()}"
   ]
  },
  {
   "cell_type": "code",
   "execution_count": 9,
   "metadata": {},
   "outputs": [
    {
     "data": {
      "text/plain": [
       "10200"
      ]
     },
     "execution_count": 9,
     "metadata": {},
     "output_type": "execute_result"
    }
   ],
   "source": [
    "len(catalogue)"
   ]
  },
  {
   "cell_type": "code",
   "execution_count": 22,
   "metadata": {},
   "outputs": [
    {
     "name": "stdout",
     "output_type": "stream",
     "text": [
      "{'attributes': [18441,\n",
      "                16300,\n",
      "                16580,\n",
      "                18770,\n",
      "                18771,\n",
      "                18643,\n",
      "                396,\n",
      "                18772,\n",
      "                3771,\n",
      "                18773,\n",
      "                910,\n",
      "                18774,\n",
      "                16364,\n",
      "                3277],\n",
      " 'availability': ['purchase', 'rent'],\n",
      " 'duration': 80,\n",
      " 'feature_1': 6064738.740195342,\n",
      " 'feature_2': 0.752750538,\n",
      " 'feature_3': 4,\n",
      " 'feature_4': 0.9537104605,\n",
      " 'feature_5': 0.0,\n",
      " 'type': 'movie'}\n"
     ]
    }
   ],
   "source": [
    "pprint(catalogue[100])"
   ]
  },
  {
   "cell_type": "markdown",
   "metadata": {},
   "source": [
    " - `attributes` — мешок атрибутов\n",
    " - `availability` — доступность (может содержать значения `purchase`, `rent` и `subscription`)\n",
    " - `duration` — длительность в минутах, округлённая до десятков (продолжительность серии для сериалов и многосерийных фильмов)\n",
    " - `feature_1..5` — пять анонимизированных вещественных и порядковых признаков\n",
    " - `type` — принимает значения `movie`, `multipart_movie` или `series`"
   ]
  },
  {
   "cell_type": "markdown",
   "metadata": {},
   "source": [
    "---"
   ]
  },
  {
   "cell_type": "markdown",
   "metadata": {},
   "source": [
    "`test_users.json` содержит список пользователей, для которых необходимо построить предсказание"
   ]
  },
  {
   "cell_type": "code",
   "execution_count": 4,
   "metadata": {},
   "outputs": [],
   "source": [
    "with open(os.path.join(DATA_PATH, 'test_users.json'), 'r') as f:\n",
    "    test_users = set(json.load(f)['users'])"
   ]
  },
  {
   "cell_type": "markdown",
   "metadata": {},
   "source": [
    "---"
   ]
  },
  {
   "cell_type": "markdown",
   "metadata": {},
   "source": [
    "`transactions.csv` — список всех транзакций за определённый период времени"
   ]
  },
  {
   "cell_type": "code",
   "execution_count": 90,
   "metadata": {},
   "outputs": [],
   "source": [
    "transactions = pd.read_csv(\n",
    "    os.path.join(DATA_PATH, 'transactions.csv'),\n",
    "    dtype={\n",
    "        'element_uid': np.uint16,\n",
    "        'user_uid': np.uint32,\n",
    "        'consumption_mode': 'category',\n",
    "        'ts': np.float64,\n",
    "        'watched_time': np.uint64,\n",
    "        'device_type': np.uint8,\n",
    "        'device_manufacturer': np.uint8\n",
    "    }\n",
    ")"
   ]
  },
  {
   "cell_type": "code",
   "execution_count": 91,
   "metadata": {
    "scrolled": false
   },
   "outputs": [
    {
     "data": {
      "text/html": [
       "<div>\n",
       "<style scoped>\n",
       "    .dataframe tbody tr th:only-of-type {\n",
       "        vertical-align: middle;\n",
       "    }\n",
       "\n",
       "    .dataframe tbody tr th {\n",
       "        vertical-align: top;\n",
       "    }\n",
       "\n",
       "    .dataframe thead th {\n",
       "        text-align: right;\n",
       "    }\n",
       "</style>\n",
       "<table border=\"1\" class=\"dataframe\">\n",
       "  <thead>\n",
       "    <tr style=\"text-align: right;\">\n",
       "      <th></th>\n",
       "      <th>element_uid</th>\n",
       "      <th>user_uid</th>\n",
       "      <th>consumption_mode</th>\n",
       "      <th>ts</th>\n",
       "      <th>watched_time</th>\n",
       "      <th>device_type</th>\n",
       "      <th>device_manufacturer</th>\n",
       "    </tr>\n",
       "  </thead>\n",
       "  <tbody>\n",
       "    <tr>\n",
       "      <th>0</th>\n",
       "      <td>3336</td>\n",
       "      <td>5177</td>\n",
       "      <td>S</td>\n",
       "      <td>4.430518e+07</td>\n",
       "      <td>4282</td>\n",
       "      <td>0</td>\n",
       "      <td>50</td>\n",
       "    </tr>\n",
       "    <tr>\n",
       "      <th>1</th>\n",
       "      <td>481</td>\n",
       "      <td>593316</td>\n",
       "      <td>S</td>\n",
       "      <td>4.430518e+07</td>\n",
       "      <td>2989</td>\n",
       "      <td>0</td>\n",
       "      <td>11</td>\n",
       "    </tr>\n",
       "    <tr>\n",
       "      <th>2</th>\n",
       "      <td>4128</td>\n",
       "      <td>262355</td>\n",
       "      <td>S</td>\n",
       "      <td>4.430518e+07</td>\n",
       "      <td>833</td>\n",
       "      <td>0</td>\n",
       "      <td>50</td>\n",
       "    </tr>\n",
       "  </tbody>\n",
       "</table>\n",
       "</div>"
      ],
      "text/plain": [
       "   element_uid  user_uid consumption_mode            ts  watched_time  \\\n",
       "0         3336      5177                S  4.430518e+07          4282   \n",
       "1          481    593316                S  4.430518e+07          2989   \n",
       "2         4128    262355                S  4.430518e+07           833   \n",
       "\n",
       "   device_type  device_manufacturer  \n",
       "0            0                   50  \n",
       "1            0                   11  \n",
       "2            0                   50  "
      ]
     },
     "execution_count": 91,
     "metadata": {},
     "output_type": "execute_result"
    }
   ],
   "source": [
    "transactions.head(3)"
   ]
  },
  {
   "cell_type": "markdown",
   "metadata": {},
   "source": [
    " - `element_uid` — идентификатор элемента\n",
    " - `user_uid` — идентификатор пользователя\n",
    " - `consumption_mode` — тип потребления (`P` — покупка, `R` — аренда, `S` — просмотр по подписке)\n",
    " - `ts` — время совершения транзакции или начала просмотра в случае просмотра по подписке\n",
    " - `watched_time` — число просмотренных по транзакции секунд\n",
    " - `device_type` — анонимизированный тип устройства, с которого была совершена транзакция или начат просмотр\n",
    " - `device_manufacturer` — анонимизированный производитель устройства, с которого была совершена транзакция или начат просмотр"
   ]
  },
  {
   "cell_type": "markdown",
   "metadata": {},
   "source": [
    "---"
   ]
  },
  {
   "cell_type": "markdown",
   "metadata": {},
   "source": [
    "`ratings.csv` содержит информацию о поставленных пользователями оценках"
   ]
  },
  {
   "cell_type": "code",
   "execution_count": 7,
   "metadata": {},
   "outputs": [],
   "source": [
    "ratings = pd.read_csv(\n",
    "    os.path.join(DATA_PATH, 'ratings.csv'),\n",
    "    dtype={\n",
    "        'element_uid': np.uint16,\n",
    "        'user_uid': np.uint32,\n",
    "        'ts': np.float64,\n",
    "        'rating': np.uint8\n",
    "    }\n",
    ")"
   ]
  },
  {
   "cell_type": "markdown",
   "metadata": {},
   "source": [
    " - `rating` — поставленный пользователем рейтинг (от `0` до `10`)"
   ]
  },
  {
   "cell_type": "code",
   "execution_count": 18,
   "metadata": {},
   "outputs": [
    {
     "data": {
      "text/html": [
       "<div>\n",
       "<style scoped>\n",
       "    .dataframe tbody tr th:only-of-type {\n",
       "        vertical-align: middle;\n",
       "    }\n",
       "\n",
       "    .dataframe tbody tr th {\n",
       "        vertical-align: top;\n",
       "    }\n",
       "\n",
       "    .dataframe thead th {\n",
       "        text-align: right;\n",
       "    }\n",
       "</style>\n",
       "<table border=\"1\" class=\"dataframe\">\n",
       "  <thead>\n",
       "    <tr style=\"text-align: right;\">\n",
       "      <th></th>\n",
       "      <th>user_uid</th>\n",
       "      <th>element_uid</th>\n",
       "      <th>rating</th>\n",
       "      <th>ts</th>\n",
       "    </tr>\n",
       "  </thead>\n",
       "  <tbody>\n",
       "    <tr>\n",
       "      <th>0</th>\n",
       "      <td>571252</td>\n",
       "      <td>1364</td>\n",
       "      <td>10</td>\n",
       "      <td>4.430517e+07</td>\n",
       "    </tr>\n",
       "    <tr>\n",
       "      <th>1</th>\n",
       "      <td>63140</td>\n",
       "      <td>3037</td>\n",
       "      <td>10</td>\n",
       "      <td>4.430514e+07</td>\n",
       "    </tr>\n",
       "    <tr>\n",
       "      <th>2</th>\n",
       "      <td>443817</td>\n",
       "      <td>4363</td>\n",
       "      <td>8</td>\n",
       "      <td>4.430514e+07</td>\n",
       "    </tr>\n",
       "  </tbody>\n",
       "</table>\n",
       "</div>"
      ],
      "text/plain": [
       "   user_uid  element_uid  rating            ts\n",
       "0    571252         1364      10  4.430517e+07\n",
       "1     63140         3037      10  4.430514e+07\n",
       "2    443817         4363       8  4.430514e+07"
      ]
     },
     "execution_count": 18,
     "metadata": {},
     "output_type": "execute_result"
    }
   ],
   "source": [
    "ratings.head(3)"
   ]
  },
  {
   "cell_type": "markdown",
   "metadata": {},
   "source": [
    "---"
   ]
  },
  {
   "cell_type": "markdown",
   "metadata": {},
   "source": [
    "`bookmarks.csv` содержит информацию об элементах, добавленных пользователями в список «Избранное»"
   ]
  },
  {
   "cell_type": "code",
   "execution_count": 7,
   "metadata": {},
   "outputs": [],
   "source": [
    "bookmarks = pd.read_csv(\n",
    "    os.path.join(DATA_PATH, 'bookmarks.csv'),\n",
    "    dtype={\n",
    "        'element_uid': np.uint16,\n",
    "        'user_uid': np.uint32,\n",
    "        'ts': np.float64\n",
    "    }\n",
    ")"
   ]
  },
  {
   "cell_type": "code",
   "execution_count": 25,
   "metadata": {},
   "outputs": [
    {
     "data": {
      "text/html": [
       "<div>\n",
       "<style scoped>\n",
       "    .dataframe tbody tr th:only-of-type {\n",
       "        vertical-align: middle;\n",
       "    }\n",
       "\n",
       "    .dataframe tbody tr th {\n",
       "        vertical-align: top;\n",
       "    }\n",
       "\n",
       "    .dataframe thead th {\n",
       "        text-align: right;\n",
       "    }\n",
       "</style>\n",
       "<table border=\"1\" class=\"dataframe\">\n",
       "  <thead>\n",
       "    <tr style=\"text-align: right;\">\n",
       "      <th></th>\n",
       "      <th>user_uid</th>\n",
       "      <th>element_uid</th>\n",
       "      <th>ts</th>\n",
       "    </tr>\n",
       "  </thead>\n",
       "  <tbody>\n",
       "    <tr>\n",
       "      <th>0</th>\n",
       "      <td>301135</td>\n",
       "      <td>7185</td>\n",
       "      <td>4.430516e+07</td>\n",
       "    </tr>\n",
       "    <tr>\n",
       "      <th>1</th>\n",
       "      <td>301135</td>\n",
       "      <td>4083</td>\n",
       "      <td>4.430516e+07</td>\n",
       "    </tr>\n",
       "    <tr>\n",
       "      <th>2</th>\n",
       "      <td>301135</td>\n",
       "      <td>10158</td>\n",
       "      <td>4.430516e+07</td>\n",
       "    </tr>\n",
       "  </tbody>\n",
       "</table>\n",
       "</div>"
      ],
      "text/plain": [
       "   user_uid  element_uid            ts\n",
       "0    301135         7185  4.430516e+07\n",
       "1    301135         4083  4.430516e+07\n",
       "2    301135        10158  4.430516e+07"
      ]
     },
     "execution_count": 25,
     "metadata": {},
     "output_type": "execute_result"
    }
   ],
   "source": [
    "bookmarks.head(3)"
   ]
  },
  {
   "cell_type": "markdown",
   "metadata": {},
   "source": [
    "## Решение"
   ]
  },
  {
   "cell_type": "markdown",
   "metadata": {},
   "source": [
    "Для начала построим список элементов, которые тестовые пользователи уже купили или посмотрели по подписке: они не смогут купить их второй раз, а просмотр по подписке второй раз маловероятен, поэтому мы захотим отфильтровать такие элементы из финального ответа.\n",
    "\n",
    "Точно так же можно поступить и с рейтингами и добавлениями в избранное, если это будет казаться правильным."
   ]
  },
  {
   "cell_type": "code",
   "execution_count": 8,
   "metadata": {},
   "outputs": [
    {
     "data": {
      "application/vnd.jupyter.widget-view+json": {
       "model_id": "37afc9860078472eab718723011d38b5",
       "version_major": 2,
       "version_minor": 0
      },
      "text/plain": [
       "HBox(children=(IntProgress(value=0, max=9643012), HTML(value='')))"
      ]
     },
     "metadata": {},
     "output_type": "display_data"
    },
    {
     "name": "stdout",
     "output_type": "stream",
     "text": [
      "\n"
     ]
    }
   ],
   "source": [
    "from collections import defaultdict\n",
    "\n",
    "filtered_elements = defaultdict(set)\n",
    "\n",
    "for user_uid, element_uid in tqdm_notebook(transactions.loc[:, ['user_uid', 'element_uid']].values):\n",
    "    if user_uid not in test_users:\n",
    "        continue\n",
    "    filtered_elements[user_uid].add(element_uid)"
   ]
  },
  {
   "cell_type": "markdown",
   "metadata": {},
   "source": [
    "---"
   ]
  },
  {
   "cell_type": "markdown",
   "metadata": {},
   "source": [
    "Для примера мы воспользуемся методом K ближайших соседей, реализованным в библиотеке `implicit`. В качестве данных используем только информацию о рейтингах.\n",
    "\n",
    "Необходимо построить разреженную матрицу, где строкам будут соответствовать элементы, столбцам — пользователи, а на пересечении пользователя и элемента будет находиться количественная оценка степени их взаимодействия, если таковое имело место.\n",
    "\n",
    "Не забудем добавить `1` к рейтингу, чтобы избежать деления на ноль во время вычисления `tf-idf`."
   ]
  },
  {
   "cell_type": "code",
   "execution_count": 9,
   "metadata": {},
   "outputs": [],
   "source": [
    "ratings['user_uid'] = ratings['user_uid'].astype('category')\n",
    "ratings['element_uid'] = ratings['element_uid'].astype('category')\n",
    "\n",
    "ratings_matrix = sp.coo_matrix(\n",
    "    (ratings['rating'].astype(np.float32) + 1,\n",
    "        (\n",
    "            ratings['element_uid'].cat.codes.copy(),\n",
    "            ratings['user_uid'].cat.codes.copy()\n",
    "        )\n",
    "    )\n",
    ")\n",
    "\n",
    "ratings_matrix = ratings_matrix.tocsr()"
   ]
  },
  {
   "cell_type": "code",
   "execution_count": 10,
   "metadata": {},
   "outputs": [
    {
     "data": {
      "text/plain": [
       "<7519x104563 sparse matrix of type '<class 'numpy.float32'>'\n",
       "\twith 438790 stored elements in Compressed Sparse Row format>"
      ]
     },
     "execution_count": 10,
     "metadata": {},
     "output_type": "execute_result"
    }
   ],
   "source": [
    "ratings_matrix"
   ]
  },
  {
   "cell_type": "code",
   "execution_count": 11,
   "metadata": {
    "scrolled": true
   },
   "outputs": [
    {
     "name": "stdout",
     "output_type": "stream",
     "text": [
      "Sparsity: 0.000558\n"
     ]
    }
   ],
   "source": [
    "sparsity = ratings_matrix.nnz / (ratings_matrix.shape[0] * ratings_matrix.shape[1])\n",
    "print('Sparsity: %.6f' % sparsity)"
   ]
  },
  {
   "cell_type": "markdown",
   "metadata": {},
   "source": [
    "Обучить модель крайне просто."
   ]
  },
  {
   "cell_type": "code",
   "execution_count": 12,
   "metadata": {},
   "outputs": [
    {
     "name": "stderr",
     "output_type": "stream",
     "text": [
      "100%|██████████| 7519/7519 [00:00<00:00, 86002.57it/s]\n"
     ]
    }
   ],
   "source": [
    "from implicit.nearest_neighbours import TFIDFRecommender\n",
    "\n",
    "model = TFIDFRecommender()\n",
    "model.fit(ratings_matrix)"
   ]
  },
  {
   "cell_type": "markdown",
   "metadata": {},
   "source": [
    "---"
   ]
  },
  {
   "cell_type": "code",
   "execution_count": 13,
   "metadata": {},
   "outputs": [],
   "source": [
    "ratings_matrix_T = ratings_matrix.T.tocsr()"
   ]
  },
  {
   "cell_type": "markdown",
   "metadata": {},
   "source": [
    "Отображения из оригинальной категории во внутреннюю пригодится нам в дальнейшем."
   ]
  },
  {
   "cell_type": "code",
   "execution_count": 14,
   "metadata": {},
   "outputs": [],
   "source": [
    "user_uid_to_cat = dict(zip(\n",
    "    ratings['user_uid'].cat.categories,\n",
    "    range(len(ratings['user_uid'].cat.categories))\n",
    "))"
   ]
  },
  {
   "cell_type": "code",
   "execution_count": 15,
   "metadata": {},
   "outputs": [],
   "source": [
    "element_uid_to_cat = dict(zip(\n",
    "    ratings['element_uid'].cat.categories,\n",
    "    range(len(ratings['element_uid'].cat.categories))\n",
    "))"
   ]
  },
  {
   "cell_type": "code",
   "execution_count": 16,
   "metadata": {},
   "outputs": [],
   "source": [
    "filtered_elements_cat = {k: [element_uid_to_cat.get(x, None) for x in v] for k, v in filtered_elements.items()}"
   ]
  },
  {
   "cell_type": "markdown",
   "metadata": {},
   "source": [
    "---"
   ]
  },
  {
   "cell_type": "markdown",
   "metadata": {},
   "source": [
    "В метод `model.recommend` мы передаём идентификатор пользователя, который получаем обратным преобразованием из категории, транспонированную матрицу взаимодействий, число необходимых рекомендаций и список элементов, которые мы договорились фильтровать из ответа.\n",
    "\n",
    "Возвращает метод список пар (`element_cat`, `score`), отсортированный по вторым элементам. Из него необходимо достать все первые элементы пар и из категории преобразовать их к `element_uid`."
   ]
  },
  {
   "cell_type": "markdown",
   "metadata": {},
   "source": [
    "**Важно:** Не все тестовые пользователи есть в `ratings.csv` и не все из них есть в `transactions.csv`. Используя только один источник данных мы не можем построить полное предсказание. Такой ответ с неполным числом пользователей бдет принят системой, но при вычислении средней метрики метрика для отсутствующих пользователей будет принята равной нулю."
   ]
  },
  {
   "cell_type": "code",
   "execution_count": 17,
   "metadata": {},
   "outputs": [
    {
     "name": "stderr",
     "output_type": "stream",
     "text": [
      "100%|██████████| 50000/50000 [00:02<00:00, 19519.98it/s]\n"
     ]
    }
   ],
   "source": [
    "result = {}\n",
    "\n",
    "for user_uid in tqdm.tqdm(test_users):\n",
    "    # transform user_uid to model's internal user category\n",
    "    try:\n",
    "        user_cat = user_uid_to_cat[user_uid]\n",
    "    except LookupError:\n",
    "        continue\n",
    "    \n",
    "    # perform inference\n",
    "    recs = model.recommend(\n",
    "        user_cat,\n",
    "        ratings_matrix_T,\n",
    "        N=20,\n",
    "        filter_already_liked_items=True,\n",
    "        filter_items=filtered_elements_cat.get(user_uid, set())\n",
    "    )\n",
    "    \n",
    "    # drop scores and transform model's internal elelemnt category to element_uid for every prediction\n",
    "    # also convert np.uint64 to int so it could be json serialized later\n",
    "    result[user_uid] = [int(ratings['element_uid'].cat.categories[i]) for i, _ in recs]"
   ]
  },
  {
   "cell_type": "code",
   "execution_count": 18,
   "metadata": {},
   "outputs": [
    {
     "data": {
      "text/plain": [
       "13251"
      ]
     },
     "execution_count": 18,
     "metadata": {},
     "output_type": "execute_result"
    }
   ],
   "source": [
    "len(result)"
   ]
  },
  {
   "cell_type": "markdown",
   "metadata": {},
   "source": [
    "Используя только информацию о рейтингах мы смогли построить предсказание для `13251` из `50000` тестовых пользователей. Ровно в таком виде ответы и стоит сохранить для отправки."
   ]
  },
  {
   "cell_type": "code",
   "execution_count": 19,
   "metadata": {},
   "outputs": [],
   "source": [
    "with open('answer.json', 'w') as f:\n",
    "    json.dump(result, f)"
   ]
  },
  {
   "cell_type": "markdown",
   "metadata": {},
   "source": [
    "## Отсюда мое"
   ]
  },
  {
   "cell_type": "code",
   "execution_count": 19,
   "metadata": {
    "scrolled": true
   },
   "outputs": [],
   "source": [
    "ratings = pd.read_csv(\n",
    "    os.path.join(DATA_PATH, 'ratings.csv'),\n",
    "    dtype={\n",
    "        'element_uid': np.uint16,\n",
    "        'user_uid': np.uint32,\n",
    "        'ts': np.float64,\n",
    "        'rating': np.uint8\n",
    "    }\n",
    ")"
   ]
  },
  {
   "cell_type": "code",
   "execution_count": 144,
   "metadata": {},
   "outputs": [],
   "source": [
    "def cv_split(n_splits, data_train):\n",
    "    \"\"\"\n",
    "    Разделяем данные на трейн юзеров и тест юзеров по уникальным пользователям\n",
    "    :n_splits: кол-во фолдов\n",
    "    :data_train: данные для обучения\n",
    "    \"\"\"\n",
    "    unique_users = np.unique(data_train['user_uid'])\n",
    "    split_data = np.array_split(unique_users, n_splits)\n",
    "    \n",
    "    for fold in range(n_splits):\n",
    "        train_users, test_users = np.hstack([x for i,x in enumerate(split_data) if i != fold]), split_data[fold]\n",
    "        yield train_users, test_users"
   ]
  },
  {
   "cell_type": "code",
   "execution_count": 137,
   "metadata": {},
   "outputs": [],
   "source": [
    "def get_dfs(data_train, count, *cv_fold, data=transactions):\n",
    "    \"\"\"\n",
    "    Оставляем в тесте и трейне только тех у кого более или равно count кол-во фильмов,\n",
    "    выдаем данные для обучения и оценки\n",
    "    :data_train: данные для обучения\n",
    "    :count: кол-во фильмов, для трейна и предикта\n",
    "    :data: данные для выбора только тех юзеров у которых есть определенное кол-во фильмов\n",
    "    \"\"\"\n",
    "    data = data[data.groupby('user_uid')['element_uid'].transform('size') >= count]\n",
    "    unique_users = np.unique(data['user_uid'])\n",
    "    \n",
    "    train_users, test_users = cv_fold[0], cv_fold[1]\n",
    "    train_users = np.intersect1d(train_users, unique_users)\n",
    "    test_users = np.intersect1d(test_users, unique_users)\n",
    "    train_df = data_train[data_train['user_uid'].isin(train_users)]\n",
    "    test_df = data_train[data_train['user_uid'].isin(test_users)]\n",
    "    \n",
    "    return train_df, test_df"
   ]
  },
  {
   "cell_type": "code",
   "execution_count": null,
   "metadata": {},
   "outputs": [],
   "source": [
    "train_df['user_uid'] = train_df['user_uid'].astype('category')\n",
    "train_df['element_uid'] = train_df['element_uid'].astype('category')\n",
    "\n",
    "ratings_matrix = sp.coo_matrix(\n",
    "    (train_df['rating'].astype(np.float32) + 1,\n",
    "        (\n",
    "            train_df['element_uid'].cat.codes.copy(),\n",
    "            train_df['user_uid'].cat.codes.copy()\n",
    "        )\n",
    "    )\n",
    ")\n",
    "\n",
    "user_uid_to_cat = dict(zip(\n",
    "    train_df['user_uid'].cat.categories,\n",
    "    range(len(train_df['user_uid'].cat.categories))\n",
    "))\n",
    "\n",
    "ratings_matrix = ratings_matrix.tocsr()\n",
    "ratings_matrix_T = ratings_matrix.T.tocsr()"
   ]
  },
  {
   "cell_type": "code",
   "execution_count": 173,
   "metadata": {},
   "outputs": [],
   "source": [
    "def model_fit(ratings_matrix):\n",
    "    \"\"\" \n",
    "    Обучение модели на разреженной матрице\n",
    "    \"\"\"\n",
    "    model = TFIDFRecommender()\n",
    "    model.fit(ratings_matrix)\n",
    "    \n",
    "    return model"
   ]
  },
  {
   "cell_type": "code",
   "execution_count": 169,
   "metadata": {},
   "outputs": [],
   "source": [
    "counter = cv_split(5, ratings)\n",
    "it = next(counter)\n",
    "train_df, test_df = get_dfs(ratings, 20, *it)\n",
    "model, ratings_matrix_T, user_uid_to_cat = model_fit(train_df)"
   ]
  },
  {
   "cell_type": "code",
   "execution_count": 192,
   "metadata": {},
   "outputs": [
    {
     "name": "stderr",
     "output_type": "stream",
     "text": [
      "100%|██████████| 60794/60794 [00:00<00:00, 659249.60it/s]\n"
     ]
    }
   ],
   "source": [
    "result_test = {}\n",
    "\n",
    "for user_uid in tqdm.tqdm(test_df.user_uid.values):\n",
    "    try:\n",
    "        user_cat = user_uid_to_cat[user_uid]\n",
    "    except LookupError:\n",
    "        continue\n",
    "\n",
    "    recs = model.recommend(\n",
    "        user_cat,\n",
    "        ratings_matrix_T,\n",
    "        N=20,)\n",
    "#         filter_already_liked_items=True,\n",
    "#         filter_items=filtered_elements_cat.get(user_uid, set())\n",
    "#     )\n",
    "\n",
    "    result_test[user_uid] = [int(train_df['element_uid'].cat.categories[i]) for i, _ in recs]"
   ]
  },
  {
   "cell_type": "code",
   "execution_count": null,
   "metadata": {},
   "outputs": [],
   "source": []
  },
  {
   "cell_type": "code",
   "execution_count": null,
   "metadata": {},
   "outputs": [],
   "source": []
  },
  {
   "cell_type": "code",
   "execution_count": null,
   "metadata": {},
   "outputs": [],
   "source": []
  },
  {
   "cell_type": "code",
   "execution_count": null,
   "metadata": {},
   "outputs": [],
   "source": []
  },
  {
   "cell_type": "code",
   "execution_count": null,
   "metadata": {},
   "outputs": [],
   "source": []
  },
  {
   "cell_type": "code",
   "execution_count": null,
   "metadata": {},
   "outputs": [],
   "source": []
  },
  {
   "cell_type": "code",
   "execution_count": null,
   "metadata": {},
   "outputs": [],
   "source": []
  },
  {
   "cell_type": "code",
   "execution_count": null,
   "metadata": {},
   "outputs": [],
   "source": []
  },
  {
   "cell_type": "code",
   "execution_count": null,
   "metadata": {},
   "outputs": [],
   "source": []
  },
  {
   "cell_type": "code",
   "execution_count": null,
   "metadata": {},
   "outputs": [],
   "source": []
  },
  {
   "cell_type": "code",
   "execution_count": null,
   "metadata": {},
   "outputs": [],
   "source": []
  },
  {
   "cell_type": "code",
   "execution_count": null,
   "metadata": {},
   "outputs": [],
   "source": []
  },
  {
   "cell_type": "code",
   "execution_count": null,
   "metadata": {},
   "outputs": [],
   "source": [
    "transactions_rel = transactions[transactions.groupby('user_uid')['element_uid'].transform('size') >= 20]"
   ]
  },
  {
   "cell_type": "code",
   "execution_count": 24,
   "metadata": {},
   "outputs": [
    {
     "data": {
      "text/plain": [
       "73194"
      ]
     },
     "execution_count": 24,
     "metadata": {},
     "output_type": "execute_result"
    }
   ],
   "source": [
    "len(user_uid_to_cat_train)"
   ]
  },
  {
   "cell_type": "code",
   "execution_count": 23,
   "metadata": {},
   "outputs": [
    {
     "data": {
      "text/plain": [
       "<7157x73194 sparse matrix of type '<class 'numpy.float32'>'\n",
       "\twith 307769 stored elements in Compressed Sparse Row format>"
      ]
     },
     "execution_count": 23,
     "metadata": {},
     "output_type": "execute_result"
    }
   ],
   "source": [
    "train_ratings['user_uid'] = train_ratings['user_uid'].astype('category')\n",
    "train_ratings['element_uid'] = train_ratings['element_uid'].astype('category')\n",
    "\n",
    "user_uid_to_cat_train = dict(zip(\n",
    "    train_ratings['user_uid'].cat.categories,\n",
    "    range(len(train_ratings['user_uid'].cat.categories))\n",
    "))\n",
    "ratings_matrix_train = sp.coo_matrix(\n",
    "    (train_ratings['rating'].astype(np.float32) + 1,\n",
    "        (\n",
    "            train_ratings['element_uid'].cat.codes.copy(),\n",
    "            train_ratings['user_uid'].cat.codes.copy()\n",
    "        )\n",
    "    )\n",
    ")\n",
    "\n",
    "ratings_matrix_train = ratings_matrix_train.tocsr()\n",
    "ratings_matrix_train_T = ratings_matrix_train.T.tocsr()\n",
    "ratings_matrix_train"
   ]
  },
  {
   "cell_type": "code",
   "execution_count": 25,
   "metadata": {},
   "outputs": [
    {
     "name": "stderr",
     "output_type": "stream",
     "text": [
      "100%|██████████| 7157/7157 [00:00<00:00, 61611.44it/s]\n"
     ]
    }
   ],
   "source": [
    "from implicit.nearest_neighbours import TFIDFRecommender\n",
    "\n",
    "model = TFIDFRecommender()\n",
    "model.fit(ratings_matrix_train)"
   ]
  },
  {
   "cell_type": "code",
   "execution_count": 38,
   "metadata": {},
   "outputs": [],
   "source": [
    "# Скопировал код с https://habr.com/ru/company/okko/blog/439180/ хз правильно ли отредактировал с CPython\n",
    "def average_precision(data_true, data_predicted, k) -> float:\n",
    "\n",
    "    if not data_true:\n",
    "        raise ValueError('data_true is empty')\n",
    "\n",
    "    average_precision_sum = 0.0\n",
    "\n",
    "    for key, items_true in data_true.items():\n",
    "        items_predicted = data_predicted.get(key, [])\n",
    "\n",
    "        n_items_true = len(items_true)\n",
    "        n_items_predicted = min(len(items_predicted), k)\n",
    "\n",
    "        if n_items_true == 0 or n_items_predicted == 0:\n",
    "            continue\n",
    "\n",
    "        n_correct_items = 0\n",
    "        precision = 0.0\n",
    "\n",
    "        for item_idx in range(n_items_predicted):\n",
    "            if items_predicted[item_idx] in items_true:\n",
    "                n_correct_items += 1\n",
    "                precision += n_correct_items / (item_idx + 1)\n",
    "\n",
    "        average_precision_sum += precision / min(n_items_true, k)\n",
    "\n",
    "    return average_precision_sum / len(data_true)"
   ]
  },
  {
   "cell_type": "code",
   "execution_count": 39,
   "metadata": {},
   "outputs": [],
   "source": [
    "def metric(true_data, predicted_data, k=20):\n",
    "    true_data_set = {k: set(v) for k, v in true_data.items()}\n",
    "\n",
    "    return average_precision(true_data_set, predicted_data, k=k)"
   ]
  },
  {
   "cell_type": "markdown",
   "metadata": {},
   "source": [
    "### Для валидации оставляю из трейна только юзеров у которых более или равно 20 фильмов. Для релевантности, отфильтрую по времени просмотра, чем больше смотрел, тем более релевантен фильм"
   ]
  },
  {
   "cell_type": "code",
   "execution_count": 25,
   "metadata": {},
   "outputs": [
    {
     "data": {
      "text/plain": [
       "(9643012, 7)"
      ]
     },
     "execution_count": 25,
     "metadata": {},
     "output_type": "execute_result"
    }
   ],
   "source": [
    "transactions.shape"
   ]
  },
  {
   "cell_type": "markdown",
   "metadata": {},
   "source": [
    "Оставляю только тех у кого более 20 фильмов"
   ]
  },
  {
   "cell_type": "code",
   "execution_count": 26,
   "metadata": {},
   "outputs": [],
   "source": [
    "transactions_rel = transactions[transactions.groupby('user_uid')['element_uid'].transform('size') >= 20]"
   ]
  },
  {
   "cell_type": "markdown",
   "metadata": {},
   "source": [
    "Выбираю фильмы в порядке релевантности"
   ]
  },
  {
   "cell_type": "code",
   "execution_count": 27,
   "metadata": {},
   "outputs": [],
   "source": [
    "transactions_rel.sort_values(by=['user_uid', 'watched_time'], ascending=False, inplace=True)"
   ]
  },
  {
   "cell_type": "code",
   "execution_count": 28,
   "metadata": {},
   "outputs": [],
   "source": [
    "transactions_rel20 = transactions_rel.groupby('user_uid').head(20)"
   ]
  },
  {
   "cell_type": "code",
   "execution_count": 29,
   "metadata": {},
   "outputs": [
    {
     "data": {
      "text/html": [
       "<div>\n",
       "<style scoped>\n",
       "    .dataframe tbody tr th:only-of-type {\n",
       "        vertical-align: middle;\n",
       "    }\n",
       "\n",
       "    .dataframe tbody tr th {\n",
       "        vertical-align: top;\n",
       "    }\n",
       "\n",
       "    .dataframe thead th {\n",
       "        text-align: right;\n",
       "    }\n",
       "</style>\n",
       "<table border=\"1\" class=\"dataframe\">\n",
       "  <thead>\n",
       "    <tr style=\"text-align: right;\">\n",
       "      <th></th>\n",
       "      <th>element_uid</th>\n",
       "      <th>user_uid</th>\n",
       "      <th>consumption_mode</th>\n",
       "      <th>ts</th>\n",
       "      <th>watched_time</th>\n",
       "      <th>device_type</th>\n",
       "      <th>device_manufacturer</th>\n",
       "    </tr>\n",
       "  </thead>\n",
       "  <tbody>\n",
       "    <tr>\n",
       "      <th>7633763</th>\n",
       "      <td>2760</td>\n",
       "      <td>593489</td>\n",
       "      <td>S</td>\n",
       "      <td>4.231365e+07</td>\n",
       "      <td>9057</td>\n",
       "      <td>0</td>\n",
       "      <td>50</td>\n",
       "    </tr>\n",
       "    <tr>\n",
       "      <th>6833184</th>\n",
       "      <td>747</td>\n",
       "      <td>593489</td>\n",
       "      <td>S</td>\n",
       "      <td>4.257764e+07</td>\n",
       "      <td>7678</td>\n",
       "      <td>0</td>\n",
       "      <td>50</td>\n",
       "    </tr>\n",
       "    <tr>\n",
       "      <th>212525</th>\n",
       "      <td>8286</td>\n",
       "      <td>593489</td>\n",
       "      <td>S</td>\n",
       "      <td>4.425567e+07</td>\n",
       "      <td>7560</td>\n",
       "      <td>0</td>\n",
       "      <td>50</td>\n",
       "    </tr>\n",
       "  </tbody>\n",
       "</table>\n",
       "</div>"
      ],
      "text/plain": [
       "         element_uid  user_uid consumption_mode            ts  watched_time  \\\n",
       "7633763         2760    593489                S  4.231365e+07          9057   \n",
       "6833184          747    593489                S  4.257764e+07          7678   \n",
       "212525          8286    593489                S  4.425567e+07          7560   \n",
       "\n",
       "         device_type  device_manufacturer  \n",
       "7633763            0                   50  \n",
       "6833184            0                   50  \n",
       "212525             0                   50  "
      ]
     },
     "execution_count": 29,
     "metadata": {},
     "output_type": "execute_result"
    }
   ],
   "source": [
    "transactions_rel.head(3)"
   ]
  },
  {
   "cell_type": "markdown",
   "metadata": {},
   "source": [
    "Создаю словарь с верными данными по релевантности"
   ]
  },
  {
   "cell_type": "code",
   "execution_count": 29,
   "metadata": {},
   "outputs": [
    {
     "data": {
      "application/vnd.jupyter.widget-view+json": {
       "model_id": "4a1b11f8966b48b7b831653968ecf94a",
       "version_major": 2,
       "version_minor": 0
      },
      "text/plain": [
       "HBox(children=(IntProgress(value=0, max=141339), HTML(value='')))"
      ]
     },
     "metadata": {},
     "output_type": "display_data"
    },
    {
     "name": "stdout",
     "output_type": "stream",
     "text": [
      "\n"
     ]
    }
   ],
   "source": [
    "true_data = transactions_rel20.groupby('user_uid').element_uid.progress_apply(list).to_dict()"
   ]
  },
  {
   "cell_type": "code",
   "execution_count": 30,
   "metadata": {},
   "outputs": [
    {
     "data": {
      "text/plain": [
       "141339"
      ]
     },
     "execution_count": 30,
     "metadata": {},
     "output_type": "execute_result"
    }
   ],
   "source": [
    "len(true_data)"
   ]
  },
  {
   "cell_type": "markdown",
   "metadata": {},
   "source": [
    "Оставляю только тех кто есть в ratings.user_uid"
   ]
  },
  {
   "cell_type": "code",
   "execution_count": 31,
   "metadata": {},
   "outputs": [],
   "source": [
    "filter_user_id = np.intersect1d(np.unique(train_ratings.user_uid),np.unique(transactions_rel20.user_uid))\n",
    "filtered_true_data = {k:v for k,v in true_data.items() if k in filter_user_id}"
   ]
  },
  {
   "cell_type": "code",
   "execution_count": 32,
   "metadata": {},
   "outputs": [
    {
     "data": {
      "text/plain": [
       "32505"
      ]
     },
     "execution_count": 32,
     "metadata": {},
     "output_type": "execute_result"
    }
   ],
   "source": [
    "len(filtered_true_data)"
   ]
  },
  {
   "cell_type": "markdown",
   "metadata": {},
   "source": [
    "Предсказываем для transactions_rel"
   ]
  },
  {
   "cell_type": "code",
   "execution_count": 33,
   "metadata": {
    "scrolled": true
   },
   "outputs": [
    {
     "data": {
      "text/plain": [
       "(6796629,)"
      ]
     },
     "execution_count": 33,
     "metadata": {},
     "output_type": "execute_result"
    }
   ],
   "source": [
    "transactions_rel['user_uid'].shape"
   ]
  },
  {
   "cell_type": "code",
   "execution_count": 35,
   "metadata": {},
   "outputs": [
    {
     "data": {
      "application/vnd.jupyter.widget-view+json": {
       "model_id": "db4b9b11199f418f87dee8217e10f3dc",
       "version_major": 2,
       "version_minor": 0
      },
      "text/plain": [
       "HBox(children=(IntProgress(value=0, max=6796629), HTML(value='')))"
      ]
     },
     "metadata": {},
     "output_type": "display_data"
    },
    {
     "name": "stdout",
     "output_type": "stream",
     "text": [
      "\n"
     ]
    }
   ],
   "source": [
    "result_train = {}\n",
    "\n",
    "for user_uid in tqdm_notebook(transactions_rel['user_uid']):\n",
    "    # transform user_uid to model's internal user category\n",
    "    try:\n",
    "        user_cat = user_uid_to_cat_train[user_uid]\n",
    "    except LookupError:\n",
    "        continue\n",
    "    \n",
    "    # perform inference\n",
    "    recs = model.recommend(\n",
    "        user_cat,\n",
    "        ratings_matrix_train_T,\n",
    "        N=20,\n",
    "#         filter_already_liked_items=True,\n",
    "#         filter_items=filtered_elements_cat.get(user_uid, set())\n",
    "     )\n",
    "    \n",
    "    result_train[user_uid] = [int(train_ratings['element_uid'].cat.categories[i]) for i, _ in recs]"
   ]
  },
  {
   "cell_type": "code",
   "execution_count": 36,
   "metadata": {},
   "outputs": [
    {
     "data": {
      "text/plain": [
       "32505"
      ]
     },
     "execution_count": 36,
     "metadata": {},
     "output_type": "execute_result"
    }
   ],
   "source": [
    "len(result_train)"
   ]
  },
  {
   "cell_type": "code",
   "execution_count": 40,
   "metadata": {},
   "outputs": [
    {
     "data": {
      "text/plain": [
       "0.02567712640647301"
      ]
     },
     "execution_count": 40,
     "metadata": {},
     "output_type": "execute_result"
    }
   ],
   "source": [
    "metric(filtered_true_data, result_train, k=20)# модель дает скор 0.00468558 на паблике"
   ]
  },
  {
   "cell_type": "markdown",
   "metadata": {},
   "source": [
    "### На отложенной выборке"
   ]
  },
  {
   "cell_type": "code",
   "execution_count": 41,
   "metadata": {},
   "outputs": [],
   "source": [
    "filter_user_id = np.intersect1d(split_data[1],np.unique(transactions_rel20.user_uid))\n",
    "filtered_true_data = {k:v for k,v in true_data.items() if k in filter_user_id}"
   ]
  },
  {
   "cell_type": "code",
   "execution_count": 42,
   "metadata": {
    "scrolled": true
   },
   "outputs": [
    {
     "data": {
      "text/plain": [
       "14039"
      ]
     },
     "execution_count": 42,
     "metadata": {},
     "output_type": "execute_result"
    }
   ],
   "source": [
    "len(filtered_true_data)"
   ]
  },
  {
   "cell_type": "code",
   "execution_count": 43,
   "metadata": {},
   "outputs": [
    {
     "data": {
      "text/plain": [
       "<5909x31369 sparse matrix of type '<class 'numpy.float32'>'\n",
       "\twith 131021 stored elements in Compressed Sparse Row format>"
      ]
     },
     "execution_count": 43,
     "metadata": {},
     "output_type": "execute_result"
    }
   ],
   "source": [
    "test_ratings['user_uid'] = test_ratings['user_uid'].astype('category')\n",
    "test_ratings['element_uid'] = test_ratings['element_uid'].astype('category')\n",
    "\n",
    "user_uid_to_cat_test = dict(zip(\n",
    "    test_ratings['user_uid'].cat.categories,\n",
    "    range(len(test_ratings['user_uid'].cat.categories))\n",
    "))\n",
    "ratings_matrix_test = sp.coo_matrix(\n",
    "    (test_ratings['rating'].astype(np.float32) + 1,\n",
    "        (\n",
    "            test_ratings['element_uid'].cat.codes.copy(),\n",
    "            test_ratings['user_uid'].cat.codes.copy()\n",
    "        )\n",
    "    )\n",
    ")\n",
    "\n",
    "ratings_matrix_test = ratings_matrix_test.tocsr()\n",
    "ratings_matrix_test_T = ratings_matrix_test.T.tocsr()\n",
    "ratings_matrix_test"
   ]
  },
  {
   "cell_type": "code",
   "execution_count": 72,
   "metadata": {},
   "outputs": [
    {
     "data": {
      "text/plain": [
       "31369"
      ]
     },
     "execution_count": 72,
     "metadata": {},
     "output_type": "execute_result"
    }
   ],
   "source": [
    "len(user_uid_to_cat_test)"
   ]
  },
  {
   "cell_type": "code",
   "execution_count": 71,
   "metadata": {},
   "outputs": [
    {
     "data": {
      "text/plain": [
       "73194"
      ]
     },
     "execution_count": 71,
     "metadata": {},
     "output_type": "execute_result"
    }
   ],
   "source": [
    "len(user_uid_to_cat_train)"
   ]
  },
  {
   "cell_type": "code",
   "execution_count": 67,
   "metadata": {},
   "outputs": [
    {
     "data": {
      "text/plain": [
       "1    3037\n",
       "3    1364\n",
       "4    3578\n",
       "6    8273\n",
       "7    5368\n",
       "Name: element_uid, dtype: category\n",
       "Categories (7157, uint64): [3, 4, 6, 7, ..., 10194, 10196, 10197, 10199]"
      ]
     },
     "execution_count": 67,
     "metadata": {},
     "output_type": "execute_result"
    }
   ],
   "source": [
    "train_ratings['element_uid'].head()"
   ]
  },
  {
   "cell_type": "code",
   "execution_count": 68,
   "metadata": {
    "scrolled": true
   },
   "outputs": [
    {
     "data": {
      "text/plain": [
       "0     1364\n",
       "2     4363\n",
       "5     1918\n",
       "14    3916\n",
       "18    2650\n",
       "Name: element_uid, dtype: category\n",
       "Categories (5909, uint64): [3, 4, 6, 7, ..., 10185, 10186, 10187, 10199]"
      ]
     },
     "execution_count": 68,
     "metadata": {},
     "output_type": "execute_result"
    }
   ],
   "source": [
    "test_ratings['element_uid'].head()"
   ]
  },
  {
   "cell_type": "code",
   "execution_count": 73,
   "metadata": {},
   "outputs": [
    {
     "data": {
      "text/plain": [
       "<31369x5909 sparse matrix of type '<class 'numpy.float32'>'\n",
       "\twith 131021 stored elements in Compressed Sparse Row format>"
      ]
     },
     "execution_count": 73,
     "metadata": {},
     "output_type": "execute_result"
    }
   ],
   "source": [
    "ratings_matrix_test_T"
   ]
  },
  {
   "cell_type": "code",
   "execution_count": 74,
   "metadata": {},
   "outputs": [],
   "source": [
    "    recs = model.recommend(\n",
    "        user_cat,\n",
    "        ratings_matrix_test_T,\n",
    "        N=20,\n",
    "#         filter_already_liked_items=True,\n",
    "#         filter_items=filtered_elements_cat.get(user_uid, set())\n",
    "     )"
   ]
  },
  {
   "cell_type": "code",
   "execution_count": 78,
   "metadata": {},
   "outputs": [
    {
     "data": {
      "text/plain": [
       "10086"
      ]
     },
     "execution_count": 78,
     "metadata": {},
     "output_type": "execute_result"
    }
   ],
   "source": [
    "train_ratings['element_uid'].cat.categories[7079]"
   ]
  },
  {
   "cell_type": "code",
   "execution_count": 75,
   "metadata": {},
   "outputs": [
    {
     "data": {
      "text/plain": [
       "[(7079, 8.344319094340614),\n",
       " (4404, 2.0382054354515238),\n",
       " (5021, 2.0382054354515238),\n",
       " (5055, 2.0382054354515238),\n",
       " (4603, 2.0382054354515238),\n",
       " (5030, 2.0382054354515238),\n",
       " (6147, 2.0382054354515238),\n",
       " (5397, 2.0382054354515238),\n",
       " (5570, 2.0382054354515238),\n",
       " (4653, 2.0382054354515238),\n",
       " (6342, 2.0382054354515238),\n",
       " (6062, 2.0382054354515238),\n",
       " (6444, 2.0382054354515238),\n",
       " (6411, 2.0382054354515238),\n",
       " (6654, 2.0382054354515238),\n",
       " (5477, 2.0382054354515238),\n",
       " (6507, 2.0382054354515238),\n",
       " (6236, 2.0382054354515238),\n",
       " (4693, 2.0382054354515238),\n",
       " (7155, 0.5674585143832721)]"
      ]
     },
     "execution_count": 75,
     "metadata": {},
     "output_type": "execute_result"
    }
   ],
   "source": [
    "recs"
   ]
  },
  {
   "cell_type": "code",
   "execution_count": 79,
   "metadata": {
    "scrolled": true
   },
   "outputs": [
    {
     "data": {
      "application/vnd.jupyter.widget-view+json": {
       "model_id": "e8fc5b45dd214c4ca522f03358470dea",
       "version_major": 2,
       "version_minor": 0
      },
      "text/plain": [
       "HBox(children=(IntProgress(value=0, max=6796629), HTML(value='')))"
      ]
     },
     "metadata": {},
     "output_type": "display_data"
    },
    {
     "name": "stdout",
     "output_type": "stream",
     "text": [
      "\n"
     ]
    }
   ],
   "source": [
    "result_test = {}\n",
    "\n",
    "for user_uid in tqdm_notebook(transactions_rel['user_uid']):\n",
    "    # transform user_uid to model's internal user category\n",
    "    try:\n",
    "        user_cat = user_uid_to_cat_test[user_uid]\n",
    "    except LookupError:\n",
    "        continue\n",
    "    \n",
    "    # perform inference\n",
    "    recs = model.recommend(\n",
    "        user_cat,\n",
    "        ratings_matrix_test_T,\n",
    "        N=20,\n",
    "#         filter_already_liked_items=True,\n",
    "#         filter_items=filtered_elements_cat.get(user_uid, set())\n",
    "     )\n",
    "    \n",
    "    result_test[user_uid] = [int(train_ratings['element_uid'].cat.categories[i]) for i, _ in recs]"
   ]
  },
  {
   "cell_type": "code",
   "execution_count": 87,
   "metadata": {},
   "outputs": [
    {
     "data": {
      "text/plain": [
       "14039"
      ]
     },
     "execution_count": 87,
     "metadata": {},
     "output_type": "execute_result"
    }
   ],
   "source": [
    "len(result_test)"
   ]
  },
  {
   "cell_type": "code",
   "execution_count": 94,
   "metadata": {},
   "outputs": [
    {
     "data": {
      "text/plain": [
       "0.00029796284806914717"
      ]
     },
     "execution_count": 94,
     "metadata": {},
     "output_type": "execute_result"
    }
   ],
   "source": [
    "metric(filtered_true_data, result_test, k=30)# модель дает скор 0.00468558 на паблике"
   ]
  }
 ],
 "metadata": {
  "kernelspec": {
   "display_name": "Python (rekko)",
   "language": "python",
   "name": "rekko_env"
  },
  "language_info": {
   "codemirror_mode": {
    "name": "ipython",
    "version": 3
   },
   "file_extension": ".py",
   "mimetype": "text/x-python",
   "name": "python",
   "nbconvert_exporter": "python",
   "pygments_lexer": "ipython3",
   "version": "3.6.7"
  }
 },
 "nbformat": 4,
 "nbformat_minor": 2
}
